{
 "cells": [
  {
   "cell_type": "markdown",
   "metadata": {
    "papermill": {
     "duration": 0.035131,
     "end_time": "2020-09-28T13:34:08.301004",
     "exception": false,
     "start_time": "2020-09-28T13:34:08.265873",
     "status": "completed"
    },
    "tags": []
   },
   "source": [
    "# NUMPY"
   ]
  },
  {
   "cell_type": "code",
   "execution_count": 1,
   "metadata": {
    "execution": {
     "iopub.execute_input": "2020-09-28T13:34:08.375485Z",
     "iopub.status.busy": "2020-09-28T13:34:08.374439Z",
     "iopub.status.idle": "2020-09-28T13:34:08.378441Z",
     "shell.execute_reply": "2020-09-28T13:34:08.377593Z"
    },
    "papermill": {
     "duration": 0.043351,
     "end_time": "2020-09-28T13:34:08.378586",
     "exception": false,
     "start_time": "2020-09-28T13:34:08.335235",
     "status": "completed"
    },
    "tags": []
   },
   "outputs": [],
   "source": [
    "import numpy as np"
   ]
  },
  {
   "cell_type": "code",
   "execution_count": 2,
   "metadata": {
    "execution": {
     "iopub.execute_input": "2020-09-28T13:34:08.454263Z",
     "iopub.status.busy": "2020-09-28T13:34:08.453439Z",
     "iopub.status.idle": "2020-09-28T13:34:08.458468Z",
     "shell.execute_reply": "2020-09-28T13:34:08.457863Z"
    },
    "papermill": {
     "duration": 0.046415,
     "end_time": "2020-09-28T13:34:08.458612",
     "exception": false,
     "start_time": "2020-09-28T13:34:08.412197",
     "status": "completed"
    },
    "tags": []
   },
   "outputs": [
    {
     "data": {
      "text/plain": [
       "array([1. , 2. , 3.5, 4.8])"
      ]
     },
     "execution_count": 2,
     "metadata": {},
     "output_type": "execute_result"
    }
   ],
   "source": [
    "x=[1,2,3.5,4.8]\n",
    "\n",
    "a=np.array(x)\n",
    "a"
   ]
  },
  {
   "cell_type": "code",
   "execution_count": 3,
   "metadata": {
    "execution": {
     "iopub.execute_input": "2020-09-28T13:34:08.532138Z",
     "iopub.status.busy": "2020-09-28T13:34:08.531402Z",
     "iopub.status.idle": "2020-09-28T13:34:08.535419Z",
     "shell.execute_reply": "2020-09-28T13:34:08.534689Z"
    },
    "papermill": {
     "duration": 0.043256,
     "end_time": "2020-09-28T13:34:08.535533",
     "exception": false,
     "start_time": "2020-09-28T13:34:08.492277",
     "status": "completed"
    },
    "tags": []
   },
   "outputs": [
    {
     "name": "stdout",
     "output_type": "stream",
     "text": [
      "[2.  4.  7.  9.6]\n"
     ]
    }
   ],
   "source": [
    "print (a*2)"
   ]
  },
  {
   "cell_type": "code",
   "execution_count": 4,
   "metadata": {
    "execution": {
     "iopub.execute_input": "2020-09-28T13:34:08.612241Z",
     "iopub.status.busy": "2020-09-28T13:34:08.611315Z",
     "iopub.status.idle": "2020-09-28T13:34:08.615875Z",
     "shell.execute_reply": "2020-09-28T13:34:08.615210Z"
    },
    "papermill": {
     "duration": 0.046831,
     "end_time": "2020-09-28T13:34:08.616074",
     "exception": false,
     "start_time": "2020-09-28T13:34:08.569243",
     "status": "completed"
    },
    "tags": []
   },
   "outputs": [
    {
     "data": {
      "text/plain": [
       "array([1, 2, 3, 4, 5, 6, 7, 8, 9])"
      ]
     },
     "execution_count": 4,
     "metadata": {},
     "output_type": "execute_result"
    }
   ],
   "source": [
    "x=np.arange(1,10)\n",
    "x"
   ]
  },
  {
   "cell_type": "code",
   "execution_count": 5,
   "metadata": {
    "execution": {
     "iopub.execute_input": "2020-09-28T13:34:08.694546Z",
     "iopub.status.busy": "2020-09-28T13:34:08.693800Z",
     "iopub.status.idle": "2020-09-28T13:34:08.697123Z",
     "shell.execute_reply": "2020-09-28T13:34:08.697755Z"
    },
    "papermill": {
     "duration": 0.046487,
     "end_time": "2020-09-28T13:34:08.697925",
     "exception": false,
     "start_time": "2020-09-28T13:34:08.651438",
     "status": "completed"
    },
    "tags": []
   },
   "outputs": [
    {
     "name": "stdout",
     "output_type": "stream",
     "text": [
      "[0. 1. 2. 3.]\n",
      "[0.1 0.2 0.3 0.4 0.5 0.6 0.7 0.8 0.9 1.  1.1]\n"
     ]
    }
   ],
   "source": [
    "x=np.arange(3.2)\n",
    "y=np.arange(0.1,1.2,0.1)\n",
    "print (x)\n",
    "print (y)"
   ]
  },
  {
   "cell_type": "code",
   "execution_count": 6,
   "metadata": {
    "execution": {
     "iopub.execute_input": "2020-09-28T13:34:08.777779Z",
     "iopub.status.busy": "2020-09-28T13:34:08.776929Z",
     "iopub.status.idle": "2020-09-28T13:34:08.782319Z",
     "shell.execute_reply": "2020-09-28T13:34:08.781429Z"
    },
    "papermill": {
     "duration": 0.04879,
     "end_time": "2020-09-28T13:34:08.782487",
     "exception": false,
     "start_time": "2020-09-28T13:34:08.733697",
     "status": "completed"
    },
    "tags": []
   },
   "outputs": [
    {
     "name": "stdout",
     "output_type": "stream",
     "text": [
      "[1 2 3 4]\n",
      "1\n",
      "[[1 1]\n",
      " [2 2]]\n",
      "2\n"
     ]
    }
   ],
   "source": [
    "# Numpy arrays\n",
    "\n",
    "a=np.array([1,2,3,4])\n",
    "b=np.array([[1,1],[2,2]])\n",
    "\n",
    "print (a)\n",
    "print (a.ndim)\n",
    "print (b)\n",
    "print (b.ndim)"
   ]
  },
  {
   "cell_type": "code",
   "execution_count": 7,
   "metadata": {
    "execution": {
     "iopub.execute_input": "2020-09-28T13:34:08.867037Z",
     "iopub.status.busy": "2020-09-28T13:34:08.866112Z",
     "iopub.status.idle": "2020-09-28T13:34:08.871179Z",
     "shell.execute_reply": "2020-09-28T13:34:08.870390Z"
    },
    "papermill": {
     "duration": 0.047349,
     "end_time": "2020-09-28T13:34:08.871328",
     "exception": false,
     "start_time": "2020-09-28T13:34:08.823979",
     "status": "completed"
    },
    "tags": []
   },
   "outputs": [
    {
     "data": {
      "text/plain": [
       "(2, 2)"
      ]
     },
     "execution_count": 7,
     "metadata": {},
     "output_type": "execute_result"
    }
   ],
   "source": [
    "np.shape(b)"
   ]
  },
  {
   "cell_type": "code",
   "execution_count": 8,
   "metadata": {
    "execution": {
     "iopub.execute_input": "2020-09-28T13:34:08.951508Z",
     "iopub.status.busy": "2020-09-28T13:34:08.950445Z",
     "iopub.status.idle": "2020-09-28T13:34:08.955221Z",
     "shell.execute_reply": "2020-09-28T13:34:08.954571Z"
    },
    "papermill": {
     "duration": 0.047396,
     "end_time": "2020-09-28T13:34:08.955356",
     "exception": false,
     "start_time": "2020-09-28T13:34:08.907960",
     "status": "completed"
    },
    "tags": []
   },
   "outputs": [
    {
     "data": {
      "text/plain": [
       "(4,)"
      ]
     },
     "execution_count": 8,
     "metadata": {},
     "output_type": "execute_result"
    }
   ],
   "source": [
    "np.shape(a)"
   ]
  },
  {
   "cell_type": "code",
   "execution_count": 9,
   "metadata": {
    "execution": {
     "iopub.execute_input": "2020-09-28T13:34:09.037851Z",
     "iopub.status.busy": "2020-09-28T13:34:09.036860Z",
     "iopub.status.idle": "2020-09-28T13:34:09.040707Z",
     "shell.execute_reply": "2020-09-28T13:34:09.041245Z"
    },
    "papermill": {
     "duration": 0.048552,
     "end_time": "2020-09-28T13:34:09.041423",
     "exception": false,
     "start_time": "2020-09-28T13:34:08.992871",
     "status": "completed"
    },
    "tags": []
   },
   "outputs": [
    {
     "name": "stdout",
     "output_type": "stream",
     "text": [
      "[1 1]\n",
      "1\n",
      "[1 2 3]\n"
     ]
    }
   ],
   "source": [
    "print (b[0])\n",
    "print (b[0][1])\n",
    "print (a[0:3])"
   ]
  },
  {
   "cell_type": "code",
   "execution_count": 10,
   "metadata": {
    "execution": {
     "iopub.execute_input": "2020-09-28T13:34:09.126157Z",
     "iopub.status.busy": "2020-09-28T13:34:09.125141Z",
     "iopub.status.idle": "2020-09-28T13:34:09.129703Z",
     "shell.execute_reply": "2020-09-28T13:34:09.128951Z"
    },
    "papermill": {
     "duration": 0.050133,
     "end_time": "2020-09-28T13:34:09.129843",
     "exception": false,
     "start_time": "2020-09-28T13:34:09.079710",
     "status": "completed"
    },
    "tags": []
   },
   "outputs": [
    {
     "name": "stdout",
     "output_type": "stream",
     "text": [
      "[[ 0.05860507 -0.26543287 -2.20887223  0.47358954]\n",
      " [ 0.7839151   1.95927524 -0.13068105  0.05213254]\n",
      " [ 0.49869557  0.96872098  1.21905126  0.83352042]\n",
      " [ 2.40670185  2.02487542 -0.09078243 -1.90274269]\n",
      " [-0.00952093 -2.33137249  0.4463307  -0.06032525]\n",
      " [ 0.84488354 -0.57251054 -0.01347947 -1.88295592]]\n"
     ]
    }
   ],
   "source": [
    "#generating random number\n",
    "a=np.random.randn(6,4)\n",
    "print (a)"
   ]
  },
  {
   "cell_type": "markdown",
   "metadata": {
    "papermill": {
     "duration": 0.038284,
     "end_time": "2020-09-28T13:34:09.206966",
     "exception": false,
     "start_time": "2020-09-28T13:34:09.168682",
     "status": "completed"
    },
    "tags": []
   },
   "source": [
    "# PANDAS"
   ]
  },
  {
   "cell_type": "code",
   "execution_count": 11,
   "metadata": {
    "execution": {
     "iopub.execute_input": "2020-09-28T13:34:09.291762Z",
     "iopub.status.busy": "2020-09-28T13:34:09.290722Z",
     "iopub.status.idle": "2020-09-28T13:34:09.294936Z",
     "shell.execute_reply": "2020-09-28T13:34:09.294130Z"
    },
    "papermill": {
     "duration": 0.049347,
     "end_time": "2020-09-28T13:34:09.295087",
     "exception": false,
     "start_time": "2020-09-28T13:34:09.245740",
     "status": "completed"
    },
    "tags": []
   },
   "outputs": [],
   "source": [
    "import pandas as pd\n",
    "import numpy as np\n",
    "import matplotlib.pyplot as plt"
   ]
  },
  {
   "cell_type": "code",
   "execution_count": 12,
   "metadata": {
    "execution": {
     "iopub.execute_input": "2020-09-28T13:34:09.390878Z",
     "iopub.status.busy": "2020-09-28T13:34:09.384020Z",
     "iopub.status.idle": "2020-09-28T13:34:09.401990Z",
     "shell.execute_reply": "2020-09-28T13:34:09.401254Z"
    },
    "papermill": {
     "duration": 0.067538,
     "end_time": "2020-09-28T13:34:09.402149",
     "exception": false,
     "start_time": "2020-09-28T13:34:09.334611",
     "status": "completed"
    },
    "tags": []
   },
   "outputs": [
    {
     "data": {
      "text/html": [
       "<div>\n",
       "<style scoped>\n",
       "    .dataframe tbody tr th:only-of-type {\n",
       "        vertical-align: middle;\n",
       "    }\n",
       "\n",
       "    .dataframe tbody tr th {\n",
       "        vertical-align: top;\n",
       "    }\n",
       "\n",
       "    .dataframe thead th {\n",
       "        text-align: right;\n",
       "    }\n",
       "</style>\n",
       "<table border=\"1\" class=\"dataframe\">\n",
       "  <thead>\n",
       "    <tr style=\"text-align: right;\">\n",
       "      <th></th>\n",
       "      <th>A</th>\n",
       "      <th>B</th>\n",
       "      <th>C</th>\n",
       "      <th>D</th>\n",
       "    </tr>\n",
       "  </thead>\n",
       "  <tbody>\n",
       "    <tr>\n",
       "      <th>0</th>\n",
       "      <td>0.750541</td>\n",
       "      <td>0.728950</td>\n",
       "      <td>0.121384</td>\n",
       "      <td>0.089899</td>\n",
       "    </tr>\n",
       "    <tr>\n",
       "      <th>1</th>\n",
       "      <td>0.680758</td>\n",
       "      <td>0.787210</td>\n",
       "      <td>0.128251</td>\n",
       "      <td>0.118228</td>\n",
       "    </tr>\n",
       "    <tr>\n",
       "      <th>2</th>\n",
       "      <td>0.766096</td>\n",
       "      <td>0.156261</td>\n",
       "      <td>0.377634</td>\n",
       "      <td>0.918477</td>\n",
       "    </tr>\n",
       "    <tr>\n",
       "      <th>3</th>\n",
       "      <td>0.424517</td>\n",
       "      <td>0.573715</td>\n",
       "      <td>0.306284</td>\n",
       "      <td>0.200280</td>\n",
       "    </tr>\n",
       "    <tr>\n",
       "      <th>4</th>\n",
       "      <td>0.991713</td>\n",
       "      <td>0.767350</td>\n",
       "      <td>0.190164</td>\n",
       "      <td>0.417564</td>\n",
       "    </tr>\n",
       "    <tr>\n",
       "      <th>5</th>\n",
       "      <td>0.520909</td>\n",
       "      <td>0.022238</td>\n",
       "      <td>0.644920</td>\n",
       "      <td>0.002741</td>\n",
       "    </tr>\n",
       "    <tr>\n",
       "      <th>6</th>\n",
       "      <td>0.474182</td>\n",
       "      <td>0.758915</td>\n",
       "      <td>0.425014</td>\n",
       "      <td>0.626564</td>\n",
       "    </tr>\n",
       "    <tr>\n",
       "      <th>7</th>\n",
       "      <td>0.657892</td>\n",
       "      <td>0.259295</td>\n",
       "      <td>0.203516</td>\n",
       "      <td>0.399811</td>\n",
       "    </tr>\n",
       "    <tr>\n",
       "      <th>8</th>\n",
       "      <td>0.553782</td>\n",
       "      <td>0.198389</td>\n",
       "      <td>0.511243</td>\n",
       "      <td>0.400438</td>\n",
       "    </tr>\n",
       "    <tr>\n",
       "      <th>9</th>\n",
       "      <td>0.266544</td>\n",
       "      <td>0.227855</td>\n",
       "      <td>0.884840</td>\n",
       "      <td>0.861372</td>\n",
       "    </tr>\n",
       "  </tbody>\n",
       "</table>\n",
       "</div>"
      ],
      "text/plain": [
       "          A         B         C         D\n",
       "0  0.750541  0.728950  0.121384  0.089899\n",
       "1  0.680758  0.787210  0.128251  0.118228\n",
       "2  0.766096  0.156261  0.377634  0.918477\n",
       "3  0.424517  0.573715  0.306284  0.200280\n",
       "4  0.991713  0.767350  0.190164  0.417564\n",
       "5  0.520909  0.022238  0.644920  0.002741\n",
       "6  0.474182  0.758915  0.425014  0.626564\n",
       "7  0.657892  0.259295  0.203516  0.399811\n",
       "8  0.553782  0.198389  0.511243  0.400438\n",
       "9  0.266544  0.227855  0.884840  0.861372"
      ]
     },
     "execution_count": 12,
     "metadata": {},
     "output_type": "execute_result"
    }
   ],
   "source": [
    "#creating a dataframe\n",
    "df=pd.DataFrame(np.random.rand(10,4),columns=['A','B','C','D'])\n",
    "df"
   ]
  },
  {
   "cell_type": "code",
   "execution_count": 13,
   "metadata": {
    "execution": {
     "iopub.execute_input": "2020-09-28T13:34:09.494754Z",
     "iopub.status.busy": "2020-09-28T13:34:09.493662Z",
     "iopub.status.idle": "2020-09-28T13:34:09.498387Z",
     "shell.execute_reply": "2020-09-28T13:34:09.497721Z"
    },
    "papermill": {
     "duration": 0.056516,
     "end_time": "2020-09-28T13:34:09.498517",
     "exception": false,
     "start_time": "2020-09-28T13:34:09.442001",
     "status": "completed"
    },
    "tags": []
   },
   "outputs": [
    {
     "data": {
      "text/html": [
       "<div>\n",
       "<style scoped>\n",
       "    .dataframe tbody tr th:only-of-type {\n",
       "        vertical-align: middle;\n",
       "    }\n",
       "\n",
       "    .dataframe tbody tr th {\n",
       "        vertical-align: top;\n",
       "    }\n",
       "\n",
       "    .dataframe thead th {\n",
       "        text-align: right;\n",
       "    }\n",
       "</style>\n",
       "<table border=\"1\" class=\"dataframe\">\n",
       "  <thead>\n",
       "    <tr style=\"text-align: right;\">\n",
       "      <th></th>\n",
       "      <th>A</th>\n",
       "      <th>B</th>\n",
       "      <th>C</th>\n",
       "      <th>D</th>\n",
       "    </tr>\n",
       "  </thead>\n",
       "  <tbody>\n",
       "    <tr>\n",
       "      <th>0</th>\n",
       "      <td>10</td>\n",
       "      <td>20</td>\n",
       "      <td>30</td>\n",
       "      <td>40</td>\n",
       "    </tr>\n",
       "    <tr>\n",
       "      <th>1</th>\n",
       "      <td>20</td>\n",
       "      <td>100</td>\n",
       "      <td>40</td>\n",
       "      <td>50</td>\n",
       "    </tr>\n",
       "  </tbody>\n",
       "</table>\n",
       "</div>"
      ],
      "text/plain": [
       "    A    B   C   D\n",
       "0  10   20  30  40\n",
       "1  20  100  40  50"
      ]
     },
     "execution_count": 13,
     "metadata": {},
     "output_type": "execute_result"
    }
   ],
   "source": [
    "#creating a dataframe with dictionary\n",
    "df2 = pd.DataFrame({'A' : [10,20],'B' : [20,100],'C' : [30,40],'D' : [40,50]})\n",
    "df2"
   ]
  },
  {
   "cell_type": "code",
   "execution_count": 14,
   "metadata": {
    "execution": {
     "iopub.execute_input": "2020-09-28T13:34:09.586621Z",
     "iopub.status.busy": "2020-09-28T13:34:09.585807Z",
     "iopub.status.idle": "2020-09-28T13:34:09.590447Z",
     "shell.execute_reply": "2020-09-28T13:34:09.589658Z"
    },
    "papermill": {
     "duration": 0.05191,
     "end_time": "2020-09-28T13:34:09.590580",
     "exception": false,
     "start_time": "2020-09-28T13:34:09.538670",
     "status": "completed"
    },
    "tags": []
   },
   "outputs": [
    {
     "data": {
      "text/plain": [
       "A    int64\n",
       "B    int64\n",
       "C    int64\n",
       "D    int64\n",
       "dtype: object"
      ]
     },
     "execution_count": 14,
     "metadata": {},
     "output_type": "execute_result"
    }
   ],
   "source": [
    "#looking at the variable types\n",
    "df2.dtypes"
   ]
  },
  {
   "cell_type": "code",
   "execution_count": 15,
   "metadata": {
    "execution": {
     "iopub.execute_input": "2020-09-28T13:34:09.686309Z",
     "iopub.status.busy": "2020-09-28T13:34:09.685291Z",
     "iopub.status.idle": "2020-09-28T13:34:09.690503Z",
     "shell.execute_reply": "2020-09-28T13:34:09.689803Z"
    },
    "papermill": {
     "duration": 0.059027,
     "end_time": "2020-09-28T13:34:09.690634",
     "exception": false,
     "start_time": "2020-09-28T13:34:09.631607",
     "status": "completed"
    },
    "tags": []
   },
   "outputs": [
    {
     "data": {
      "text/html": [
       "<div>\n",
       "<style scoped>\n",
       "    .dataframe tbody tr th:only-of-type {\n",
       "        vertical-align: middle;\n",
       "    }\n",
       "\n",
       "    .dataframe tbody tr th {\n",
       "        vertical-align: top;\n",
       "    }\n",
       "\n",
       "    .dataframe thead th {\n",
       "        text-align: right;\n",
       "    }\n",
       "</style>\n",
       "<table border=\"1\" class=\"dataframe\">\n",
       "  <thead>\n",
       "    <tr style=\"text-align: right;\">\n",
       "      <th></th>\n",
       "      <th>A</th>\n",
       "      <th>B</th>\n",
       "      <th>C</th>\n",
       "      <th>D</th>\n",
       "    </tr>\n",
       "  </thead>\n",
       "  <tbody>\n",
       "    <tr>\n",
       "      <th>0</th>\n",
       "      <td>0.750541</td>\n",
       "      <td>0.728950</td>\n",
       "      <td>0.121384</td>\n",
       "      <td>0.089899</td>\n",
       "    </tr>\n",
       "    <tr>\n",
       "      <th>1</th>\n",
       "      <td>0.680758</td>\n",
       "      <td>0.787210</td>\n",
       "      <td>0.128251</td>\n",
       "      <td>0.118228</td>\n",
       "    </tr>\n",
       "    <tr>\n",
       "      <th>2</th>\n",
       "      <td>0.766096</td>\n",
       "      <td>0.156261</td>\n",
       "      <td>0.377634</td>\n",
       "      <td>0.918477</td>\n",
       "    </tr>\n",
       "    <tr>\n",
       "      <th>3</th>\n",
       "      <td>0.424517</td>\n",
       "      <td>0.573715</td>\n",
       "      <td>0.306284</td>\n",
       "      <td>0.200280</td>\n",
       "    </tr>\n",
       "    <tr>\n",
       "      <th>4</th>\n",
       "      <td>0.991713</td>\n",
       "      <td>0.767350</td>\n",
       "      <td>0.190164</td>\n",
       "      <td>0.417564</td>\n",
       "    </tr>\n",
       "  </tbody>\n",
       "</table>\n",
       "</div>"
      ],
      "text/plain": [
       "          A         B         C         D\n",
       "0  0.750541  0.728950  0.121384  0.089899\n",
       "1  0.680758  0.787210  0.128251  0.118228\n",
       "2  0.766096  0.156261  0.377634  0.918477\n",
       "3  0.424517  0.573715  0.306284  0.200280\n",
       "4  0.991713  0.767350  0.190164  0.417564"
      ]
     },
     "execution_count": 15,
     "metadata": {},
     "output_type": "execute_result"
    }
   ],
   "source": [
    "#looking at the top few values, default 5\n",
    "df.head()"
   ]
  },
  {
   "cell_type": "code",
   "execution_count": 16,
   "metadata": {
    "execution": {
     "iopub.execute_input": "2020-09-28T13:34:09.787812Z",
     "iopub.status.busy": "2020-09-28T13:34:09.786683Z",
     "iopub.status.idle": "2020-09-28T13:34:09.791761Z",
     "shell.execute_reply": "2020-09-28T13:34:09.791019Z"
    },
    "papermill": {
     "duration": 0.059634,
     "end_time": "2020-09-28T13:34:09.791890",
     "exception": false,
     "start_time": "2020-09-28T13:34:09.732256",
     "status": "completed"
    },
    "tags": []
   },
   "outputs": [
    {
     "data": {
      "text/html": [
       "<div>\n",
       "<style scoped>\n",
       "    .dataframe tbody tr th:only-of-type {\n",
       "        vertical-align: middle;\n",
       "    }\n",
       "\n",
       "    .dataframe tbody tr th {\n",
       "        vertical-align: top;\n",
       "    }\n",
       "\n",
       "    .dataframe thead th {\n",
       "        text-align: right;\n",
       "    }\n",
       "</style>\n",
       "<table border=\"1\" class=\"dataframe\">\n",
       "  <thead>\n",
       "    <tr style=\"text-align: right;\">\n",
       "      <th></th>\n",
       "      <th>A</th>\n",
       "      <th>B</th>\n",
       "      <th>C</th>\n",
       "      <th>D</th>\n",
       "    </tr>\n",
       "  </thead>\n",
       "  <tbody>\n",
       "    <tr>\n",
       "      <th>5</th>\n",
       "      <td>0.520909</td>\n",
       "      <td>0.022238</td>\n",
       "      <td>0.644920</td>\n",
       "      <td>0.002741</td>\n",
       "    </tr>\n",
       "    <tr>\n",
       "      <th>6</th>\n",
       "      <td>0.474182</td>\n",
       "      <td>0.758915</td>\n",
       "      <td>0.425014</td>\n",
       "      <td>0.626564</td>\n",
       "    </tr>\n",
       "    <tr>\n",
       "      <th>7</th>\n",
       "      <td>0.657892</td>\n",
       "      <td>0.259295</td>\n",
       "      <td>0.203516</td>\n",
       "      <td>0.399811</td>\n",
       "    </tr>\n",
       "    <tr>\n",
       "      <th>8</th>\n",
       "      <td>0.553782</td>\n",
       "      <td>0.198389</td>\n",
       "      <td>0.511243</td>\n",
       "      <td>0.400438</td>\n",
       "    </tr>\n",
       "    <tr>\n",
       "      <th>9</th>\n",
       "      <td>0.266544</td>\n",
       "      <td>0.227855</td>\n",
       "      <td>0.884840</td>\n",
       "      <td>0.861372</td>\n",
       "    </tr>\n",
       "  </tbody>\n",
       "</table>\n",
       "</div>"
      ],
      "text/plain": [
       "          A         B         C         D\n",
       "5  0.520909  0.022238  0.644920  0.002741\n",
       "6  0.474182  0.758915  0.425014  0.626564\n",
       "7  0.657892  0.259295  0.203516  0.399811\n",
       "8  0.553782  0.198389  0.511243  0.400438\n",
       "9  0.266544  0.227855  0.884840  0.861372"
      ]
     },
     "execution_count": 16,
     "metadata": {},
     "output_type": "execute_result"
    }
   ],
   "source": [
    "#looking at the last few values\n",
    "df.tail()"
   ]
  },
  {
   "cell_type": "code",
   "execution_count": 17,
   "metadata": {
    "execution": {
     "iopub.execute_input": "2020-09-28T13:34:09.883393Z",
     "iopub.status.busy": "2020-09-28T13:34:09.882272Z",
     "iopub.status.idle": "2020-09-28T13:34:09.887323Z",
     "shell.execute_reply": "2020-09-28T13:34:09.886555Z"
    },
    "papermill": {
     "duration": 0.052986,
     "end_time": "2020-09-28T13:34:09.887462",
     "exception": false,
     "start_time": "2020-09-28T13:34:09.834476",
     "status": "completed"
    },
    "tags": []
   },
   "outputs": [
    {
     "data": {
      "text/plain": [
       "RangeIndex(start=0, stop=10, step=1)"
      ]
     },
     "execution_count": 17,
     "metadata": {},
     "output_type": "execute_result"
    }
   ],
   "source": [
    "#to get the indexes\n",
    "df.index"
   ]
  },
  {
   "cell_type": "code",
   "execution_count": 18,
   "metadata": {
    "execution": {
     "iopub.execute_input": "2020-09-28T13:34:09.982080Z",
     "iopub.status.busy": "2020-09-28T13:34:09.981201Z",
     "iopub.status.idle": "2020-09-28T13:34:09.986368Z",
     "shell.execute_reply": "2020-09-28T13:34:09.985674Z"
    },
    "papermill": {
     "duration": 0.054504,
     "end_time": "2020-09-28T13:34:09.986510",
     "exception": false,
     "start_time": "2020-09-28T13:34:09.932006",
     "status": "completed"
    },
    "tags": []
   },
   "outputs": [
    {
     "data": {
      "text/plain": [
       "Index(['A', 'B', 'C', 'D'], dtype='object')"
      ]
     },
     "execution_count": 18,
     "metadata": {},
     "output_type": "execute_result"
    }
   ],
   "source": [
    "#to get the column names\n",
    "df.columns"
   ]
  },
  {
   "cell_type": "code",
   "execution_count": 19,
   "metadata": {
    "execution": {
     "iopub.execute_input": "2020-09-28T13:34:10.082410Z",
     "iopub.status.busy": "2020-09-28T13:34:10.081357Z",
     "iopub.status.idle": "2020-09-28T13:34:10.086900Z",
     "shell.execute_reply": "2020-09-28T13:34:10.086142Z"
    },
    "papermill": {
     "duration": 0.056618,
     "end_time": "2020-09-28T13:34:10.087035",
     "exception": false,
     "start_time": "2020-09-28T13:34:10.030417",
     "status": "completed"
    },
    "tags": []
   },
   "outputs": [
    {
     "data": {
      "text/plain": [
       "array([[0.75054126, 0.72894987, 0.12138351, 0.08989863],\n",
       "       [0.68075825, 0.78720987, 0.12825093, 0.11822798],\n",
       "       [0.76609627, 0.15626145, 0.37763355, 0.91847697],\n",
       "       [0.42451657, 0.57371538, 0.30628352, 0.20027982],\n",
       "       [0.99171308, 0.76734968, 0.19016431, 0.41756393],\n",
       "       [0.52090875, 0.02223829, 0.64492046, 0.00274098],\n",
       "       [0.47418223, 0.7589148 , 0.4250137 , 0.6265637 ],\n",
       "       [0.65789157, 0.25929464, 0.20351638, 0.39981118],\n",
       "       [0.55378165, 0.19838942, 0.51124293, 0.40043842],\n",
       "       [0.26654425, 0.22785452, 0.88483974, 0.86137151]])"
      ]
     },
     "execution_count": 19,
     "metadata": {},
     "output_type": "execute_result"
    }
   ],
   "source": [
    "#to get the values\n",
    "df.values"
   ]
  },
  {
   "cell_type": "code",
   "execution_count": 20,
   "metadata": {
    "execution": {
     "iopub.execute_input": "2020-09-28T13:34:10.193590Z",
     "iopub.status.busy": "2020-09-28T13:34:10.187445Z",
     "iopub.status.idle": "2020-09-28T13:34:10.218869Z",
     "shell.execute_reply": "2020-09-28T13:34:10.218255Z"
    },
    "papermill": {
     "duration": 0.087402,
     "end_time": "2020-09-28T13:34:10.218999",
     "exception": false,
     "start_time": "2020-09-28T13:34:10.131597",
     "status": "completed"
    },
    "tags": []
   },
   "outputs": [
    {
     "data": {
      "text/html": [
       "<div>\n",
       "<style scoped>\n",
       "    .dataframe tbody tr th:only-of-type {\n",
       "        vertical-align: middle;\n",
       "    }\n",
       "\n",
       "    .dataframe tbody tr th {\n",
       "        vertical-align: top;\n",
       "    }\n",
       "\n",
       "    .dataframe thead th {\n",
       "        text-align: right;\n",
       "    }\n",
       "</style>\n",
       "<table border=\"1\" class=\"dataframe\">\n",
       "  <thead>\n",
       "    <tr style=\"text-align: right;\">\n",
       "      <th></th>\n",
       "      <th>A</th>\n",
       "      <th>B</th>\n",
       "      <th>C</th>\n",
       "      <th>D</th>\n",
       "    </tr>\n",
       "  </thead>\n",
       "  <tbody>\n",
       "    <tr>\n",
       "      <th>count</th>\n",
       "      <td>10.000000</td>\n",
       "      <td>10.000000</td>\n",
       "      <td>10.000000</td>\n",
       "      <td>10.000000</td>\n",
       "    </tr>\n",
       "    <tr>\n",
       "      <th>mean</th>\n",
       "      <td>0.608693</td>\n",
       "      <td>0.448018</td>\n",
       "      <td>0.379325</td>\n",
       "      <td>0.403537</td>\n",
       "    </tr>\n",
       "    <tr>\n",
       "      <th>std</th>\n",
       "      <td>0.205214</td>\n",
       "      <td>0.302070</td>\n",
       "      <td>0.246571</td>\n",
       "      <td>0.317360</td>\n",
       "    </tr>\n",
       "    <tr>\n",
       "      <th>min</th>\n",
       "      <td>0.266544</td>\n",
       "      <td>0.022238</td>\n",
       "      <td>0.121384</td>\n",
       "      <td>0.002741</td>\n",
       "    </tr>\n",
       "    <tr>\n",
       "      <th>25%</th>\n",
       "      <td>0.485864</td>\n",
       "      <td>0.205756</td>\n",
       "      <td>0.193502</td>\n",
       "      <td>0.138741</td>\n",
       "    </tr>\n",
       "    <tr>\n",
       "      <th>50%</th>\n",
       "      <td>0.605837</td>\n",
       "      <td>0.416505</td>\n",
       "      <td>0.341959</td>\n",
       "      <td>0.400125</td>\n",
       "    </tr>\n",
       "    <tr>\n",
       "      <th>75%</th>\n",
       "      <td>0.733096</td>\n",
       "      <td>0.751424</td>\n",
       "      <td>0.489686</td>\n",
       "      <td>0.574314</td>\n",
       "    </tr>\n",
       "    <tr>\n",
       "      <th>max</th>\n",
       "      <td>0.991713</td>\n",
       "      <td>0.787210</td>\n",
       "      <td>0.884840</td>\n",
       "      <td>0.918477</td>\n",
       "    </tr>\n",
       "  </tbody>\n",
       "</table>\n",
       "</div>"
      ],
      "text/plain": [
       "               A          B          C          D\n",
       "count  10.000000  10.000000  10.000000  10.000000\n",
       "mean    0.608693   0.448018   0.379325   0.403537\n",
       "std     0.205214   0.302070   0.246571   0.317360\n",
       "min     0.266544   0.022238   0.121384   0.002741\n",
       "25%     0.485864   0.205756   0.193502   0.138741\n",
       "50%     0.605837   0.416505   0.341959   0.400125\n",
       "75%     0.733096   0.751424   0.489686   0.574314\n",
       "max     0.991713   0.787210   0.884840   0.918477"
      ]
     },
     "execution_count": 20,
     "metadata": {},
     "output_type": "execute_result"
    }
   ],
   "source": [
    "#to get quick statistics about the data\n",
    "df.describe()"
   ]
  },
  {
   "cell_type": "code",
   "execution_count": 21,
   "metadata": {
    "execution": {
     "iopub.execute_input": "2020-09-28T13:34:10.324171Z",
     "iopub.status.busy": "2020-09-28T13:34:10.323220Z",
     "iopub.status.idle": "2020-09-28T13:34:10.328756Z",
     "shell.execute_reply": "2020-09-28T13:34:10.327975Z"
    },
    "papermill": {
     "duration": 0.064689,
     "end_time": "2020-09-28T13:34:10.328883",
     "exception": false,
     "start_time": "2020-09-28T13:34:10.264194",
     "status": "completed"
    },
    "tags": []
   },
   "outputs": [
    {
     "data": {
      "text/html": [
       "<div>\n",
       "<style scoped>\n",
       "    .dataframe tbody tr th:only-of-type {\n",
       "        vertical-align: middle;\n",
       "    }\n",
       "\n",
       "    .dataframe tbody tr th {\n",
       "        vertical-align: top;\n",
       "    }\n",
       "\n",
       "    .dataframe thead th {\n",
       "        text-align: right;\n",
       "    }\n",
       "</style>\n",
       "<table border=\"1\" class=\"dataframe\">\n",
       "  <thead>\n",
       "    <tr style=\"text-align: right;\">\n",
       "      <th></th>\n",
       "      <th>A</th>\n",
       "      <th>B</th>\n",
       "      <th>C</th>\n",
       "      <th>D</th>\n",
       "    </tr>\n",
       "  </thead>\n",
       "  <tbody>\n",
       "    <tr>\n",
       "      <th>9</th>\n",
       "      <td>0.266544</td>\n",
       "      <td>0.227855</td>\n",
       "      <td>0.884840</td>\n",
       "      <td>0.861372</td>\n",
       "    </tr>\n",
       "    <tr>\n",
       "      <th>8</th>\n",
       "      <td>0.553782</td>\n",
       "      <td>0.198389</td>\n",
       "      <td>0.511243</td>\n",
       "      <td>0.400438</td>\n",
       "    </tr>\n",
       "    <tr>\n",
       "      <th>7</th>\n",
       "      <td>0.657892</td>\n",
       "      <td>0.259295</td>\n",
       "      <td>0.203516</td>\n",
       "      <td>0.399811</td>\n",
       "    </tr>\n",
       "    <tr>\n",
       "      <th>6</th>\n",
       "      <td>0.474182</td>\n",
       "      <td>0.758915</td>\n",
       "      <td>0.425014</td>\n",
       "      <td>0.626564</td>\n",
       "    </tr>\n",
       "    <tr>\n",
       "      <th>5</th>\n",
       "      <td>0.520909</td>\n",
       "      <td>0.022238</td>\n",
       "      <td>0.644920</td>\n",
       "      <td>0.002741</td>\n",
       "    </tr>\n",
       "    <tr>\n",
       "      <th>4</th>\n",
       "      <td>0.991713</td>\n",
       "      <td>0.767350</td>\n",
       "      <td>0.190164</td>\n",
       "      <td>0.417564</td>\n",
       "    </tr>\n",
       "    <tr>\n",
       "      <th>3</th>\n",
       "      <td>0.424517</td>\n",
       "      <td>0.573715</td>\n",
       "      <td>0.306284</td>\n",
       "      <td>0.200280</td>\n",
       "    </tr>\n",
       "    <tr>\n",
       "      <th>2</th>\n",
       "      <td>0.766096</td>\n",
       "      <td>0.156261</td>\n",
       "      <td>0.377634</td>\n",
       "      <td>0.918477</td>\n",
       "    </tr>\n",
       "    <tr>\n",
       "      <th>1</th>\n",
       "      <td>0.680758</td>\n",
       "      <td>0.787210</td>\n",
       "      <td>0.128251</td>\n",
       "      <td>0.118228</td>\n",
       "    </tr>\n",
       "    <tr>\n",
       "      <th>0</th>\n",
       "      <td>0.750541</td>\n",
       "      <td>0.728950</td>\n",
       "      <td>0.121384</td>\n",
       "      <td>0.089899</td>\n",
       "    </tr>\n",
       "  </tbody>\n",
       "</table>\n",
       "</div>"
      ],
      "text/plain": [
       "          A         B         C         D\n",
       "9  0.266544  0.227855  0.884840  0.861372\n",
       "8  0.553782  0.198389  0.511243  0.400438\n",
       "7  0.657892  0.259295  0.203516  0.399811\n",
       "6  0.474182  0.758915  0.425014  0.626564\n",
       "5  0.520909  0.022238  0.644920  0.002741\n",
       "4  0.991713  0.767350  0.190164  0.417564\n",
       "3  0.424517  0.573715  0.306284  0.200280\n",
       "2  0.766096  0.156261  0.377634  0.918477\n",
       "1  0.680758  0.787210  0.128251  0.118228\n",
       "0  0.750541  0.728950  0.121384  0.089899"
      ]
     },
     "execution_count": 21,
     "metadata": {},
     "output_type": "execute_result"
    }
   ],
   "source": [
    "# for sorting the index\n",
    "df.sort_index(axis=0, ascending=False)"
   ]
  },
  {
   "cell_type": "code",
   "execution_count": 22,
   "metadata": {
    "execution": {
     "iopub.execute_input": "2020-09-28T13:34:10.434695Z",
     "iopub.status.busy": "2020-09-28T13:34:10.433766Z",
     "iopub.status.idle": "2020-09-28T13:34:10.439290Z",
     "shell.execute_reply": "2020-09-28T13:34:10.438587Z"
    },
    "papermill": {
     "duration": 0.064833,
     "end_time": "2020-09-28T13:34:10.439433",
     "exception": false,
     "start_time": "2020-09-28T13:34:10.374600",
     "status": "completed"
    },
    "tags": []
   },
   "outputs": [
    {
     "data": {
      "text/html": [
       "<div>\n",
       "<style scoped>\n",
       "    .dataframe tbody tr th:only-of-type {\n",
       "        vertical-align: middle;\n",
       "    }\n",
       "\n",
       "    .dataframe tbody tr th {\n",
       "        vertical-align: top;\n",
       "    }\n",
       "\n",
       "    .dataframe thead th {\n",
       "        text-align: right;\n",
       "    }\n",
       "</style>\n",
       "<table border=\"1\" class=\"dataframe\">\n",
       "  <thead>\n",
       "    <tr style=\"text-align: right;\">\n",
       "      <th></th>\n",
       "      <th>A</th>\n",
       "      <th>B</th>\n",
       "      <th>C</th>\n",
       "      <th>D</th>\n",
       "    </tr>\n",
       "  </thead>\n",
       "  <tbody>\n",
       "    <tr>\n",
       "      <th>9</th>\n",
       "      <td>0.266544</td>\n",
       "      <td>0.227855</td>\n",
       "      <td>0.884840</td>\n",
       "      <td>0.861372</td>\n",
       "    </tr>\n",
       "    <tr>\n",
       "      <th>3</th>\n",
       "      <td>0.424517</td>\n",
       "      <td>0.573715</td>\n",
       "      <td>0.306284</td>\n",
       "      <td>0.200280</td>\n",
       "    </tr>\n",
       "    <tr>\n",
       "      <th>6</th>\n",
       "      <td>0.474182</td>\n",
       "      <td>0.758915</td>\n",
       "      <td>0.425014</td>\n",
       "      <td>0.626564</td>\n",
       "    </tr>\n",
       "    <tr>\n",
       "      <th>5</th>\n",
       "      <td>0.520909</td>\n",
       "      <td>0.022238</td>\n",
       "      <td>0.644920</td>\n",
       "      <td>0.002741</td>\n",
       "    </tr>\n",
       "    <tr>\n",
       "      <th>8</th>\n",
       "      <td>0.553782</td>\n",
       "      <td>0.198389</td>\n",
       "      <td>0.511243</td>\n",
       "      <td>0.400438</td>\n",
       "    </tr>\n",
       "    <tr>\n",
       "      <th>7</th>\n",
       "      <td>0.657892</td>\n",
       "      <td>0.259295</td>\n",
       "      <td>0.203516</td>\n",
       "      <td>0.399811</td>\n",
       "    </tr>\n",
       "    <tr>\n",
       "      <th>1</th>\n",
       "      <td>0.680758</td>\n",
       "      <td>0.787210</td>\n",
       "      <td>0.128251</td>\n",
       "      <td>0.118228</td>\n",
       "    </tr>\n",
       "    <tr>\n",
       "      <th>0</th>\n",
       "      <td>0.750541</td>\n",
       "      <td>0.728950</td>\n",
       "      <td>0.121384</td>\n",
       "      <td>0.089899</td>\n",
       "    </tr>\n",
       "    <tr>\n",
       "      <th>2</th>\n",
       "      <td>0.766096</td>\n",
       "      <td>0.156261</td>\n",
       "      <td>0.377634</td>\n",
       "      <td>0.918477</td>\n",
       "    </tr>\n",
       "    <tr>\n",
       "      <th>4</th>\n",
       "      <td>0.991713</td>\n",
       "      <td>0.767350</td>\n",
       "      <td>0.190164</td>\n",
       "      <td>0.417564</td>\n",
       "    </tr>\n",
       "  </tbody>\n",
       "</table>\n",
       "</div>"
      ],
      "text/plain": [
       "          A         B         C         D\n",
       "9  0.266544  0.227855  0.884840  0.861372\n",
       "3  0.424517  0.573715  0.306284  0.200280\n",
       "6  0.474182  0.758915  0.425014  0.626564\n",
       "5  0.520909  0.022238  0.644920  0.002741\n",
       "8  0.553782  0.198389  0.511243  0.400438\n",
       "7  0.657892  0.259295  0.203516  0.399811\n",
       "1  0.680758  0.787210  0.128251  0.118228\n",
       "0  0.750541  0.728950  0.121384  0.089899\n",
       "2  0.766096  0.156261  0.377634  0.918477\n",
       "4  0.991713  0.767350  0.190164  0.417564"
      ]
     },
     "execution_count": 22,
     "metadata": {},
     "output_type": "execute_result"
    }
   ],
   "source": [
    "#for sorting by a column\n",
    "df.sort_values(by='A')"
   ]
  },
  {
   "cell_type": "markdown",
   "metadata": {
    "papermill": {
     "duration": 0.045973,
     "end_time": "2020-09-28T13:34:10.531965",
     "exception": false,
     "start_time": "2020-09-28T13:34:10.485992",
     "status": "completed"
    },
    "tags": []
   },
   "source": [
    "# Selecting Values\n"
   ]
  },
  {
   "cell_type": "code",
   "execution_count": 23,
   "metadata": {
    "execution": {
     "iopub.execute_input": "2020-09-28T13:34:10.632136Z",
     "iopub.status.busy": "2020-09-28T13:34:10.631234Z",
     "iopub.status.idle": "2020-09-28T13:34:10.635683Z",
     "shell.execute_reply": "2020-09-28T13:34:10.636316Z"
    },
    "papermill": {
     "duration": 0.058067,
     "end_time": "2020-09-28T13:34:10.636505",
     "exception": false,
     "start_time": "2020-09-28T13:34:10.578438",
     "status": "completed"
    },
    "tags": []
   },
   "outputs": [
    {
     "data": {
      "text/plain": [
       "0    0.750541\n",
       "1    0.680758\n",
       "2    0.766096\n",
       "3    0.424517\n",
       "4    0.991713\n",
       "5    0.520909\n",
       "6    0.474182\n",
       "7    0.657892\n",
       "8    0.553782\n",
       "9    0.266544\n",
       "Name: A, dtype: float64"
      ]
     },
     "execution_count": 23,
     "metadata": {},
     "output_type": "execute_result"
    }
   ],
   "source": [
    "# selecting columns\n",
    "df['A']"
   ]
  },
  {
   "cell_type": "code",
   "execution_count": 24,
   "metadata": {
    "execution": {
     "iopub.execute_input": "2020-09-28T13:34:10.742005Z",
     "iopub.status.busy": "2020-09-28T13:34:10.741179Z",
     "iopub.status.idle": "2020-09-28T13:34:10.747382Z",
     "shell.execute_reply": "2020-09-28T13:34:10.746645Z"
    },
    "papermill": {
     "duration": 0.063545,
     "end_time": "2020-09-28T13:34:10.747522",
     "exception": false,
     "start_time": "2020-09-28T13:34:10.683977",
     "status": "completed"
    },
    "tags": []
   },
   "outputs": [
    {
     "data": {
      "text/html": [
       "<div>\n",
       "<style scoped>\n",
       "    .dataframe tbody tr th:only-of-type {\n",
       "        vertical-align: middle;\n",
       "    }\n",
       "\n",
       "    .dataframe tbody tr th {\n",
       "        vertical-align: top;\n",
       "    }\n",
       "\n",
       "    .dataframe thead th {\n",
       "        text-align: right;\n",
       "    }\n",
       "</style>\n",
       "<table border=\"1\" class=\"dataframe\">\n",
       "  <thead>\n",
       "    <tr style=\"text-align: right;\">\n",
       "      <th></th>\n",
       "      <th>A</th>\n",
       "      <th>B</th>\n",
       "      <th>C</th>\n",
       "      <th>D</th>\n",
       "    </tr>\n",
       "  </thead>\n",
       "  <tbody>\n",
       "    <tr>\n",
       "      <th>0</th>\n",
       "      <td>0.750541</td>\n",
       "      <td>0.72895</td>\n",
       "      <td>0.121384</td>\n",
       "      <td>0.089899</td>\n",
       "    </tr>\n",
       "    <tr>\n",
       "      <th>1</th>\n",
       "      <td>0.680758</td>\n",
       "      <td>0.78721</td>\n",
       "      <td>0.128251</td>\n",
       "      <td>0.118228</td>\n",
       "    </tr>\n",
       "  </tbody>\n",
       "</table>\n",
       "</div>"
      ],
      "text/plain": [
       "          A        B         C         D\n",
       "0  0.750541  0.72895  0.121384  0.089899\n",
       "1  0.680758  0.78721  0.128251  0.118228"
      ]
     },
     "execution_count": 24,
     "metadata": {},
     "output_type": "execute_result"
    }
   ],
   "source": [
    "#selecting range of rows\n",
    "df[0:2]"
   ]
  },
  {
   "cell_type": "code",
   "execution_count": 25,
   "metadata": {
    "execution": {
     "iopub.execute_input": "2020-09-28T13:34:10.852287Z",
     "iopub.status.busy": "2020-09-28T13:34:10.851395Z",
     "iopub.status.idle": "2020-09-28T13:34:10.856274Z",
     "shell.execute_reply": "2020-09-28T13:34:10.855632Z"
    },
    "papermill": {
     "duration": 0.060814,
     "end_time": "2020-09-28T13:34:10.856402",
     "exception": false,
     "start_time": "2020-09-28T13:34:10.795588",
     "status": "completed"
    },
    "tags": []
   },
   "outputs": [
    {
     "data": {
      "text/plain": [
       "A    0.750541\n",
       "B    0.728950\n",
       "C    0.121384\n",
       "D    0.089899\n",
       "Name: 0, dtype: float64"
      ]
     },
     "execution_count": 25,
     "metadata": {},
     "output_type": "execute_result"
    }
   ],
   "source": [
    "#selecting a particular row\n",
    "df.loc[0]"
   ]
  },
  {
   "cell_type": "code",
   "execution_count": 26,
   "metadata": {
    "execution": {
     "iopub.execute_input": "2020-09-28T13:34:10.970750Z",
     "iopub.status.busy": "2020-09-28T13:34:10.969834Z",
     "iopub.status.idle": "2020-09-28T13:34:10.976631Z",
     "shell.execute_reply": "2020-09-28T13:34:10.975646Z"
    },
    "papermill": {
     "duration": 0.072326,
     "end_time": "2020-09-28T13:34:10.976820",
     "exception": false,
     "start_time": "2020-09-28T13:34:10.904494",
     "status": "completed"
    },
    "tags": []
   },
   "outputs": [
    {
     "data": {
      "text/plain": [
       "A    0.750541\n",
       "Name: 0, dtype: float64"
      ]
     },
     "execution_count": 26,
     "metadata": {},
     "output_type": "execute_result"
    }
   ],
   "source": [
    "#selecting a row and column\n",
    "df.loc[0,['A']]"
   ]
  },
  {
   "cell_type": "code",
   "execution_count": 27,
   "metadata": {
    "execution": {
     "iopub.execute_input": "2020-09-28T13:34:11.146549Z",
     "iopub.status.busy": "2020-09-28T13:34:11.145398Z",
     "iopub.status.idle": "2020-09-28T13:34:11.149744Z",
     "shell.execute_reply": "2020-09-28T13:34:11.150600Z"
    },
    "papermill": {
     "duration": 0.096296,
     "end_time": "2020-09-28T13:34:11.150853",
     "exception": false,
     "start_time": "2020-09-28T13:34:11.054557",
     "status": "completed"
    },
    "tags": []
   },
   "outputs": [
    {
     "data": {
      "text/html": [
       "<div>\n",
       "<style scoped>\n",
       "    .dataframe tbody tr th:only-of-type {\n",
       "        vertical-align: middle;\n",
       "    }\n",
       "\n",
       "    .dataframe tbody tr th {\n",
       "        vertical-align: top;\n",
       "    }\n",
       "\n",
       "    .dataframe thead th {\n",
       "        text-align: right;\n",
       "    }\n",
       "</style>\n",
       "<table border=\"1\" class=\"dataframe\">\n",
       "  <thead>\n",
       "    <tr style=\"text-align: right;\">\n",
       "      <th></th>\n",
       "      <th>A</th>\n",
       "    </tr>\n",
       "  </thead>\n",
       "  <tbody>\n",
       "    <tr>\n",
       "      <th>0</th>\n",
       "      <td>0.750541</td>\n",
       "    </tr>\n",
       "    <tr>\n",
       "      <th>1</th>\n",
       "      <td>0.680758</td>\n",
       "    </tr>\n",
       "    <tr>\n",
       "      <th>2</th>\n",
       "      <td>0.766096</td>\n",
       "    </tr>\n",
       "    <tr>\n",
       "      <th>3</th>\n",
       "      <td>0.424517</td>\n",
       "    </tr>\n",
       "    <tr>\n",
       "      <th>4</th>\n",
       "      <td>0.991713</td>\n",
       "    </tr>\n",
       "    <tr>\n",
       "      <th>5</th>\n",
       "      <td>0.520909</td>\n",
       "    </tr>\n",
       "    <tr>\n",
       "      <th>6</th>\n",
       "      <td>0.474182</td>\n",
       "    </tr>\n",
       "    <tr>\n",
       "      <th>7</th>\n",
       "      <td>0.657892</td>\n",
       "    </tr>\n",
       "    <tr>\n",
       "      <th>8</th>\n",
       "      <td>0.553782</td>\n",
       "    </tr>\n",
       "    <tr>\n",
       "      <th>9</th>\n",
       "      <td>0.266544</td>\n",
       "    </tr>\n",
       "  </tbody>\n",
       "</table>\n",
       "</div>"
      ],
      "text/plain": [
       "          A\n",
       "0  0.750541\n",
       "1  0.680758\n",
       "2  0.766096\n",
       "3  0.424517\n",
       "4  0.991713\n",
       "5  0.520909\n",
       "6  0.474182\n",
       "7  0.657892\n",
       "8  0.553782\n",
       "9  0.266544"
      ]
     },
     "execution_count": 27,
     "metadata": {},
     "output_type": "execute_result"
    }
   ],
   "source": [
    "df.loc[:,['A']]"
   ]
  },
  {
   "cell_type": "code",
   "execution_count": 28,
   "metadata": {
    "execution": {
     "iopub.execute_input": "2020-09-28T13:34:11.274143Z",
     "iopub.status.busy": "2020-09-28T13:34:11.273158Z",
     "iopub.status.idle": "2020-09-28T13:34:11.278861Z",
     "shell.execute_reply": "2020-09-28T13:34:11.278160Z"
    },
    "papermill": {
     "duration": 0.065174,
     "end_time": "2020-09-28T13:34:11.278981",
     "exception": false,
     "start_time": "2020-09-28T13:34:11.213807",
     "status": "completed"
    },
    "tags": []
   },
   "outputs": [
    {
     "data": {
      "text/plain": [
       "0.7505412603722189"
      ]
     },
     "execution_count": 28,
     "metadata": {},
     "output_type": "execute_result"
    }
   ],
   "source": [
    "#using at instead for faster access , can't be used for a range\n",
    "df.at[0,'A']"
   ]
  },
  {
   "cell_type": "code",
   "execution_count": 29,
   "metadata": {
    "execution": {
     "iopub.execute_input": "2020-09-28T13:34:11.388984Z",
     "iopub.status.busy": "2020-09-28T13:34:11.388013Z",
     "iopub.status.idle": "2020-09-28T13:34:11.393062Z",
     "shell.execute_reply": "2020-09-28T13:34:11.393635Z"
    },
    "papermill": {
     "duration": 0.063264,
     "end_time": "2020-09-28T13:34:11.393778",
     "exception": false,
     "start_time": "2020-09-28T13:34:11.330514",
     "status": "completed"
    },
    "tags": []
   },
   "outputs": [
    {
     "data": {
      "text/plain": [
       "A    0.750541\n",
       "B    0.728950\n",
       "C    0.121384\n",
       "D    0.089899\n",
       "Name: 0, dtype: float64"
      ]
     },
     "execution_count": 29,
     "metadata": {},
     "output_type": "execute_result"
    }
   ],
   "source": [
    "#selecting by posion \n",
    "df.iloc[0]"
   ]
  },
  {
   "cell_type": "code",
   "execution_count": 30,
   "metadata": {
    "execution": {
     "iopub.execute_input": "2020-09-28T13:34:11.500444Z",
     "iopub.status.busy": "2020-09-28T13:34:11.499690Z",
     "iopub.status.idle": "2020-09-28T13:34:11.533076Z",
     "shell.execute_reply": "2020-09-28T13:34:11.532391Z"
    },
    "papermill": {
     "duration": 0.088668,
     "end_time": "2020-09-28T13:34:11.533208",
     "exception": false,
     "start_time": "2020-09-28T13:34:11.444540",
     "status": "completed"
    },
    "tags": []
   },
   "outputs": [
    {
     "data": {
      "text/html": [
       "<div>\n",
       "<style scoped>\n",
       "    .dataframe tbody tr th:only-of-type {\n",
       "        vertical-align: middle;\n",
       "    }\n",
       "\n",
       "    .dataframe tbody tr th {\n",
       "        vertical-align: top;\n",
       "    }\n",
       "\n",
       "    .dataframe thead th {\n",
       "        text-align: right;\n",
       "    }\n",
       "</style>\n",
       "<table border=\"1\" class=\"dataframe\">\n",
       "  <thead>\n",
       "    <tr style=\"text-align: right;\">\n",
       "      <th></th>\n",
       "      <th>A</th>\n",
       "      <th>B</th>\n",
       "      <th>C</th>\n",
       "      <th>D</th>\n",
       "    </tr>\n",
       "  </thead>\n",
       "  <tbody>\n",
       "    <tr>\n",
       "      <th>0</th>\n",
       "      <td>0.750541</td>\n",
       "      <td>0.728950</td>\n",
       "      <td>0.121384</td>\n",
       "      <td>0.089899</td>\n",
       "    </tr>\n",
       "    <tr>\n",
       "      <th>1</th>\n",
       "      <td>0.680758</td>\n",
       "      <td>0.787210</td>\n",
       "      <td>0.128251</td>\n",
       "      <td>0.118228</td>\n",
       "    </tr>\n",
       "    <tr>\n",
       "      <th>2</th>\n",
       "      <td>0.766096</td>\n",
       "      <td>0.156261</td>\n",
       "      <td>0.377634</td>\n",
       "      <td>0.918477</td>\n",
       "    </tr>\n",
       "    <tr>\n",
       "      <th>3</th>\n",
       "      <td>0.424517</td>\n",
       "      <td>0.573715</td>\n",
       "      <td>0.306284</td>\n",
       "      <td>0.200280</td>\n",
       "    </tr>\n",
       "    <tr>\n",
       "      <th>4</th>\n",
       "      <td>0.991713</td>\n",
       "      <td>0.767350</td>\n",
       "      <td>0.190164</td>\n",
       "      <td>0.417564</td>\n",
       "    </tr>\n",
       "    <tr>\n",
       "      <th>5</th>\n",
       "      <td>0.520909</td>\n",
       "      <td>0.022238</td>\n",
       "      <td>0.644920</td>\n",
       "      <td>0.002741</td>\n",
       "    </tr>\n",
       "    <tr>\n",
       "      <th>6</th>\n",
       "      <td>0.474182</td>\n",
       "      <td>0.758915</td>\n",
       "      <td>0.425014</td>\n",
       "      <td>0.626564</td>\n",
       "    </tr>\n",
       "    <tr>\n",
       "      <th>7</th>\n",
       "      <td>0.657892</td>\n",
       "      <td>0.259295</td>\n",
       "      <td>0.203516</td>\n",
       "      <td>0.399811</td>\n",
       "    </tr>\n",
       "    <tr>\n",
       "      <th>8</th>\n",
       "      <td>0.553782</td>\n",
       "      <td>0.198389</td>\n",
       "      <td>0.511243</td>\n",
       "      <td>0.400438</td>\n",
       "    </tr>\n",
       "    <tr>\n",
       "      <th>9</th>\n",
       "      <td>0.266544</td>\n",
       "      <td>0.227855</td>\n",
       "      <td>0.884840</td>\n",
       "      <td>0.861372</td>\n",
       "    </tr>\n",
       "  </tbody>\n",
       "</table>\n",
       "</div>"
      ],
      "text/plain": [
       "          A         B         C         D\n",
       "0  0.750541  0.728950  0.121384  0.089899\n",
       "1  0.680758  0.787210  0.128251  0.118228\n",
       "2  0.766096  0.156261  0.377634  0.918477\n",
       "3  0.424517  0.573715  0.306284  0.200280\n",
       "4  0.991713  0.767350  0.190164  0.417564\n",
       "5  0.520909  0.022238  0.644920  0.002741\n",
       "6  0.474182  0.758915  0.425014  0.626564\n",
       "7  0.657892  0.259295  0.203516  0.399811\n",
       "8  0.553782  0.198389  0.511243  0.400438\n",
       "9  0.266544  0.227855  0.884840  0.861372"
      ]
     },
     "execution_count": 30,
     "metadata": {},
     "output_type": "execute_result"
    }
   ],
   "source": [
    "#selecting by condition \n",
    "df[df.A>0]"
   ]
  },
  {
   "cell_type": "markdown",
   "metadata": {
    "papermill": {
     "duration": 0.051158,
     "end_time": "2020-09-28T13:34:11.636021",
     "exception": false,
     "start_time": "2020-09-28T13:34:11.584863",
     "status": "completed"
    },
    "tags": []
   },
   "source": [
    "# Missing Data"
   ]
  },
  {
   "cell_type": "code",
   "execution_count": 31,
   "metadata": {
    "execution": {
     "iopub.execute_input": "2020-09-28T13:34:11.757193Z",
     "iopub.status.busy": "2020-09-28T13:34:11.756110Z",
     "iopub.status.idle": "2020-09-28T13:34:11.761140Z",
     "shell.execute_reply": "2020-09-28T13:34:11.760241Z"
    },
    "papermill": {
     "duration": 0.073147,
     "end_time": "2020-09-28T13:34:11.761314",
     "exception": false,
     "start_time": "2020-09-28T13:34:11.688167",
     "status": "completed"
    },
    "tags": []
   },
   "outputs": [
    {
     "data": {
      "text/html": [
       "<div>\n",
       "<style scoped>\n",
       "    .dataframe tbody tr th:only-of-type {\n",
       "        vertical-align: middle;\n",
       "    }\n",
       "\n",
       "    .dataframe tbody tr th {\n",
       "        vertical-align: top;\n",
       "    }\n",
       "\n",
       "    .dataframe thead th {\n",
       "        text-align: right;\n",
       "    }\n",
       "</style>\n",
       "<table border=\"1\" class=\"dataframe\">\n",
       "  <thead>\n",
       "    <tr style=\"text-align: right;\">\n",
       "      <th></th>\n",
       "      <th>A</th>\n",
       "      <th>B</th>\n",
       "      <th>C</th>\n",
       "      <th>D</th>\n",
       "    </tr>\n",
       "  </thead>\n",
       "  <tbody>\n",
       "    <tr>\n",
       "      <th>0</th>\n",
       "      <td>NaN</td>\n",
       "      <td>NaN</td>\n",
       "      <td>0.121384</td>\n",
       "      <td>0.089899</td>\n",
       "    </tr>\n",
       "    <tr>\n",
       "      <th>1</th>\n",
       "      <td>NaN</td>\n",
       "      <td>NaN</td>\n",
       "      <td>0.128251</td>\n",
       "      <td>0.118228</td>\n",
       "    </tr>\n",
       "    <tr>\n",
       "      <th>2</th>\n",
       "      <td>NaN</td>\n",
       "      <td>0.156261</td>\n",
       "      <td>0.377634</td>\n",
       "      <td>NaN</td>\n",
       "    </tr>\n",
       "    <tr>\n",
       "      <th>3</th>\n",
       "      <td>0.424517</td>\n",
       "      <td>NaN</td>\n",
       "      <td>0.306284</td>\n",
       "      <td>0.200280</td>\n",
       "    </tr>\n",
       "    <tr>\n",
       "      <th>4</th>\n",
       "      <td>NaN</td>\n",
       "      <td>NaN</td>\n",
       "      <td>0.190164</td>\n",
       "      <td>0.417564</td>\n",
       "    </tr>\n",
       "    <tr>\n",
       "      <th>5</th>\n",
       "      <td>NaN</td>\n",
       "      <td>0.022238</td>\n",
       "      <td>NaN</td>\n",
       "      <td>0.002741</td>\n",
       "    </tr>\n",
       "    <tr>\n",
       "      <th>6</th>\n",
       "      <td>0.474182</td>\n",
       "      <td>NaN</td>\n",
       "      <td>0.425014</td>\n",
       "      <td>NaN</td>\n",
       "    </tr>\n",
       "    <tr>\n",
       "      <th>7</th>\n",
       "      <td>NaN</td>\n",
       "      <td>0.259295</td>\n",
       "      <td>0.203516</td>\n",
       "      <td>0.399811</td>\n",
       "    </tr>\n",
       "    <tr>\n",
       "      <th>8</th>\n",
       "      <td>NaN</td>\n",
       "      <td>0.198389</td>\n",
       "      <td>NaN</td>\n",
       "      <td>0.400438</td>\n",
       "    </tr>\n",
       "    <tr>\n",
       "      <th>9</th>\n",
       "      <td>0.266544</td>\n",
       "      <td>0.227855</td>\n",
       "      <td>NaN</td>\n",
       "      <td>NaN</td>\n",
       "    </tr>\n",
       "  </tbody>\n",
       "</table>\n",
       "</div>"
      ],
      "text/plain": [
       "          A         B         C         D\n",
       "0       NaN       NaN  0.121384  0.089899\n",
       "1       NaN       NaN  0.128251  0.118228\n",
       "2       NaN  0.156261  0.377634       NaN\n",
       "3  0.424517       NaN  0.306284  0.200280\n",
       "4       NaN       NaN  0.190164  0.417564\n",
       "5       NaN  0.022238       NaN  0.002741\n",
       "6  0.474182       NaN  0.425014       NaN\n",
       "7       NaN  0.259295  0.203516  0.399811\n",
       "8       NaN  0.198389       NaN  0.400438\n",
       "9  0.266544  0.227855       NaN       NaN"
      ]
     },
     "execution_count": 31,
     "metadata": {},
     "output_type": "execute_result"
    }
   ],
   "source": [
    "df2=df[df<.5]\n",
    "df2"
   ]
  },
  {
   "cell_type": "code",
   "execution_count": 32,
   "metadata": {
    "execution": {
     "iopub.execute_input": "2020-09-28T13:34:11.879358Z",
     "iopub.status.busy": "2020-09-28T13:34:11.878555Z",
     "iopub.status.idle": "2020-09-28T13:34:11.883287Z",
     "shell.execute_reply": "2020-09-28T13:34:11.882647Z"
    },
    "papermill": {
     "duration": 0.067884,
     "end_time": "2020-09-28T13:34:11.883407",
     "exception": false,
     "start_time": "2020-09-28T13:34:11.815523",
     "status": "completed"
    },
    "tags": []
   },
   "outputs": [
    {
     "data": {
      "text/html": [
       "<div>\n",
       "<style scoped>\n",
       "    .dataframe tbody tr th:only-of-type {\n",
       "        vertical-align: middle;\n",
       "    }\n",
       "\n",
       "    .dataframe tbody tr th {\n",
       "        vertical-align: top;\n",
       "    }\n",
       "\n",
       "    .dataframe thead th {\n",
       "        text-align: right;\n",
       "    }\n",
       "</style>\n",
       "<table border=\"1\" class=\"dataframe\">\n",
       "  <thead>\n",
       "    <tr style=\"text-align: right;\">\n",
       "      <th></th>\n",
       "      <th>A</th>\n",
       "      <th>B</th>\n",
       "      <th>C</th>\n",
       "      <th>D</th>\n",
       "    </tr>\n",
       "  </thead>\n",
       "  <tbody>\n",
       "  </tbody>\n",
       "</table>\n",
       "</div>"
      ],
      "text/plain": [
       "Empty DataFrame\n",
       "Columns: [A, B, C, D]\n",
       "Index: []"
      ]
     },
     "execution_count": 32,
     "metadata": {},
     "output_type": "execute_result"
    }
   ],
   "source": [
    "#drop all rows which have NaN\n",
    "df2.dropna()"
   ]
  },
  {
   "cell_type": "code",
   "execution_count": 33,
   "metadata": {
    "execution": {
     "iopub.execute_input": "2020-09-28T13:34:12.005573Z",
     "iopub.status.busy": "2020-09-28T13:34:12.004576Z",
     "iopub.status.idle": "2020-09-28T13:34:12.009889Z",
     "shell.execute_reply": "2020-09-28T13:34:12.009183Z"
    },
    "papermill": {
     "duration": 0.07255,
     "end_time": "2020-09-28T13:34:12.010026",
     "exception": false,
     "start_time": "2020-09-28T13:34:11.937476",
     "status": "completed"
    },
    "tags": []
   },
   "outputs": [
    {
     "data": {
      "text/html": [
       "<div>\n",
       "<style scoped>\n",
       "    .dataframe tbody tr th:only-of-type {\n",
       "        vertical-align: middle;\n",
       "    }\n",
       "\n",
       "    .dataframe tbody tr th {\n",
       "        vertical-align: top;\n",
       "    }\n",
       "\n",
       "    .dataframe thead th {\n",
       "        text-align: right;\n",
       "    }\n",
       "</style>\n",
       "<table border=\"1\" class=\"dataframe\">\n",
       "  <thead>\n",
       "    <tr style=\"text-align: right;\">\n",
       "      <th></th>\n",
       "      <th>A</th>\n",
       "      <th>B</th>\n",
       "      <th>C</th>\n",
       "      <th>D</th>\n",
       "    </tr>\n",
       "  </thead>\n",
       "  <tbody>\n",
       "    <tr>\n",
       "      <th>0</th>\n",
       "      <td>1.000000</td>\n",
       "      <td>1.000000</td>\n",
       "      <td>0.121384</td>\n",
       "      <td>0.089899</td>\n",
       "    </tr>\n",
       "    <tr>\n",
       "      <th>1</th>\n",
       "      <td>1.000000</td>\n",
       "      <td>1.000000</td>\n",
       "      <td>0.128251</td>\n",
       "      <td>0.118228</td>\n",
       "    </tr>\n",
       "    <tr>\n",
       "      <th>2</th>\n",
       "      <td>1.000000</td>\n",
       "      <td>0.156261</td>\n",
       "      <td>0.377634</td>\n",
       "      <td>1.000000</td>\n",
       "    </tr>\n",
       "    <tr>\n",
       "      <th>3</th>\n",
       "      <td>0.424517</td>\n",
       "      <td>1.000000</td>\n",
       "      <td>0.306284</td>\n",
       "      <td>0.200280</td>\n",
       "    </tr>\n",
       "    <tr>\n",
       "      <th>4</th>\n",
       "      <td>1.000000</td>\n",
       "      <td>1.000000</td>\n",
       "      <td>0.190164</td>\n",
       "      <td>0.417564</td>\n",
       "    </tr>\n",
       "    <tr>\n",
       "      <th>5</th>\n",
       "      <td>1.000000</td>\n",
       "      <td>0.022238</td>\n",
       "      <td>1.000000</td>\n",
       "      <td>0.002741</td>\n",
       "    </tr>\n",
       "    <tr>\n",
       "      <th>6</th>\n",
       "      <td>0.474182</td>\n",
       "      <td>1.000000</td>\n",
       "      <td>0.425014</td>\n",
       "      <td>1.000000</td>\n",
       "    </tr>\n",
       "    <tr>\n",
       "      <th>7</th>\n",
       "      <td>1.000000</td>\n",
       "      <td>0.259295</td>\n",
       "      <td>0.203516</td>\n",
       "      <td>0.399811</td>\n",
       "    </tr>\n",
       "    <tr>\n",
       "      <th>8</th>\n",
       "      <td>1.000000</td>\n",
       "      <td>0.198389</td>\n",
       "      <td>1.000000</td>\n",
       "      <td>0.400438</td>\n",
       "    </tr>\n",
       "    <tr>\n",
       "      <th>9</th>\n",
       "      <td>0.266544</td>\n",
       "      <td>0.227855</td>\n",
       "      <td>1.000000</td>\n",
       "      <td>1.000000</td>\n",
       "    </tr>\n",
       "  </tbody>\n",
       "</table>\n",
       "</div>"
      ],
      "text/plain": [
       "          A         B         C         D\n",
       "0  1.000000  1.000000  0.121384  0.089899\n",
       "1  1.000000  1.000000  0.128251  0.118228\n",
       "2  1.000000  0.156261  0.377634  1.000000\n",
       "3  0.424517  1.000000  0.306284  0.200280\n",
       "4  1.000000  1.000000  0.190164  0.417564\n",
       "5  1.000000  0.022238  1.000000  0.002741\n",
       "6  0.474182  1.000000  0.425014  1.000000\n",
       "7  1.000000  0.259295  0.203516  0.399811\n",
       "8  1.000000  0.198389  1.000000  0.400438\n",
       "9  0.266544  0.227855  1.000000  1.000000"
      ]
     },
     "execution_count": 33,
     "metadata": {},
     "output_type": "execute_result"
    }
   ],
   "source": [
    "#replace NaN with other values\n",
    "df2.fillna(value=1)"
   ]
  },
  {
   "cell_type": "markdown",
   "metadata": {
    "papermill": {
     "duration": 0.05367,
     "end_time": "2020-09-28T13:34:12.117538",
     "exception": false,
     "start_time": "2020-09-28T13:34:12.063868",
     "status": "completed"
    },
    "tags": []
   },
   "source": [
    "# Statistical Operations"
   ]
  },
  {
   "cell_type": "code",
   "execution_count": 34,
   "metadata": {
    "execution": {
     "iopub.execute_input": "2020-09-28T13:34:12.233838Z",
     "iopub.status.busy": "2020-09-28T13:34:12.233015Z",
     "iopub.status.idle": "2020-09-28T13:34:12.238178Z",
     "shell.execute_reply": "2020-09-28T13:34:12.237529Z"
    },
    "papermill": {
     "duration": 0.067044,
     "end_time": "2020-09-28T13:34:12.238329",
     "exception": false,
     "start_time": "2020-09-28T13:34:12.171285",
     "status": "completed"
    },
    "tags": []
   },
   "outputs": [
    {
     "data": {
      "text/plain": [
       "A    0.608693\n",
       "B    0.448018\n",
       "C    0.379325\n",
       "D    0.403537\n",
       "dtype: float64"
      ]
     },
     "execution_count": 34,
     "metadata": {},
     "output_type": "execute_result"
    }
   ],
   "source": [
    "# taking mean\n",
    "df.mean()\n"
   ]
  },
  {
   "cell_type": "code",
   "execution_count": 35,
   "metadata": {
    "execution": {
     "iopub.execute_input": "2020-09-28T13:34:12.358171Z",
     "iopub.status.busy": "2020-09-28T13:34:12.357182Z",
     "iopub.status.idle": "2020-09-28T13:34:12.361901Z",
     "shell.execute_reply": "2020-09-28T13:34:12.362476Z"
    },
    "papermill": {
     "duration": 0.068327,
     "end_time": "2020-09-28T13:34:12.362660",
     "exception": false,
     "start_time": "2020-09-28T13:34:12.294333",
     "status": "completed"
    },
    "tags": []
   },
   "outputs": [
    {
     "data": {
      "text/plain": [
       "0    0.422693\n",
       "1    0.428612\n",
       "2    0.554617\n",
       "3    0.376199\n",
       "4    0.591698\n",
       "5    0.297702\n",
       "6    0.571169\n",
       "7    0.380128\n",
       "8    0.415963\n",
       "9    0.560153\n",
       "dtype: float64"
      ]
     },
     "execution_count": 35,
     "metadata": {},
     "output_type": "execute_result"
    }
   ],
   "source": [
    "# mean in other axis\n",
    "df.mean(1)"
   ]
  },
  {
   "cell_type": "markdown",
   "metadata": {
    "papermill": {
     "duration": 0.055367,
     "end_time": "2020-09-28T13:34:12.473753",
     "exception": false,
     "start_time": "2020-09-28T13:34:12.418386",
     "status": "completed"
    },
    "tags": []
   },
   "source": [
    "# Matplotlib"
   ]
  },
  {
   "cell_type": "code",
   "execution_count": 36,
   "metadata": {
    "execution": {
     "iopub.execute_input": "2020-09-28T13:34:12.590533Z",
     "iopub.status.busy": "2020-09-28T13:34:12.589738Z",
     "iopub.status.idle": "2020-09-28T13:34:12.592840Z",
     "shell.execute_reply": "2020-09-28T13:34:12.592208Z"
    },
    "papermill": {
     "duration": 0.063871,
     "end_time": "2020-09-28T13:34:12.592968",
     "exception": false,
     "start_time": "2020-09-28T13:34:12.529097",
     "status": "completed"
    },
    "tags": []
   },
   "outputs": [],
   "source": [
    "import matplotlib.pyplot as plt"
   ]
  },
  {
   "cell_type": "code",
   "execution_count": 37,
   "metadata": {
    "execution": {
     "iopub.execute_input": "2020-09-28T13:34:12.712174Z",
     "iopub.status.busy": "2020-09-28T13:34:12.711442Z",
     "iopub.status.idle": "2020-09-28T13:34:12.918806Z",
     "shell.execute_reply": "2020-09-28T13:34:12.918075Z"
    },
    "papermill": {
     "duration": 0.27024,
     "end_time": "2020-09-28T13:34:12.918946",
     "exception": false,
     "start_time": "2020-09-28T13:34:12.648706",
     "status": "completed"
    },
    "tags": []
   },
   "outputs": [
    {
     "data": {
      "image/png": "[encoded data removed]",
      "text/plain": [
       "<Figure size 432x288 with 1 Axes>"
      ]
     },
     "metadata": {
      "needs_background": "light"
     },
     "output_type": "display_data"
    }
   ],
   "source": [
    "k=[1.1,2.3,4.5,10.11]\n",
    "plt.plot(k)\n",
    "plt.ylabel(\"Y axis\")\n",
    "plt.xlabel(\"X axis\")\n",
    "plt.show()"
   ]
  },
  {
   "cell_type": "code",
   "execution_count": 38,
   "metadata": {
    "execution": {
     "iopub.execute_input": "2020-09-28T13:34:13.114834Z",
     "iopub.status.busy": "2020-09-28T13:34:13.044927Z",
     "iopub.status.idle": "2020-09-28T13:34:13.264330Z",
     "shell.execute_reply": "2020-09-28T13:34:13.263600Z"
    },
    "papermill": {
     "duration": 0.284134,
     "end_time": "2020-09-28T13:34:13.264510",
     "exception": false,
     "start_time": "2020-09-28T13:34:12.980376",
     "status": "completed"
    },
    "tags": []
   },
   "outputs": [
    {
     "data": {
      "image/png": "[encoded data removed]",
      "text/plain": [
       "<Figure size 432x288 with 1 Axes>"
      ]
     },
     "metadata": {
      "needs_background": "light"
     },
     "output_type": "display_data"
    }
   ],
   "source": [
    "plt.plot([1,2,3,4], [1,4,9,16], 'ro')\n",
    "plt.axis([0, 5, 0, 16])\n",
    "plt.show()"
   ]
  },
  {
   "cell_type": "code",
   "execution_count": 39,
   "metadata": {
    "execution": {
     "iopub.execute_input": "2020-09-28T13:34:13.398470Z",
     "iopub.status.busy": "2020-09-28T13:34:13.393174Z",
     "iopub.status.idle": "2020-09-28T13:34:13.546386Z",
     "shell.execute_reply": "2020-09-28T13:34:13.546925Z"
    },
    "papermill": {
     "duration": 0.225364,
     "end_time": "2020-09-28T13:34:13.547112",
     "exception": false,
     "start_time": "2020-09-28T13:34:13.321748",
     "status": "completed"
    },
    "tags": []
   },
   "outputs": [
    {
     "data": {
      "image/png": "[encoded data removed]",
      "text/plain": [
       "<Figure size 432x288 with 1 Axes>"
      ]
     },
     "metadata": {
      "needs_background": "light"
     },
     "output_type": "display_data"
    }
   ],
   "source": [
    "plt.plot(a,a**2,'ro',a,a**3,'b^')\n",
    "plt.axis([0,5,0,5])\n",
    "plt.show()"
   ]
  },
  {
   "cell_type": "code",
   "execution_count": 40,
   "metadata": {
    "execution": {
     "iopub.execute_input": "2020-09-28T13:34:13.669830Z",
     "iopub.status.busy": "2020-09-28T13:34:13.668931Z",
     "iopub.status.idle": "2020-09-28T13:34:13.674748Z",
     "shell.execute_reply": "2020-09-28T13:34:13.674089Z"
    },
    "papermill": {
     "duration": 0.070137,
     "end_time": "2020-09-28T13:34:13.674884",
     "exception": false,
     "start_time": "2020-09-28T13:34:13.604747",
     "status": "completed"
    },
    "tags": []
   },
   "outputs": [
    {
     "data": {
      "text/plain": [
       "array([[ 0.05860507, -0.26543287, -2.20887223,  0.47358954],\n",
       "       [ 0.7839151 ,  1.95927524, -0.13068105,  0.05213254],\n",
       "       [ 0.49869557,  0.96872098,  1.21905126,  0.83352042],\n",
       "       [ 2.40670185,  2.02487542, -0.09078243, -1.90274269],\n",
       "       [-0.00952093, -2.33137249,  0.4463307 , -0.06032525],\n",
       "       [ 0.84488354, -0.57251054, -0.01347947, -1.88295592]])"
      ]
     },
     "execution_count": 40,
     "metadata": {},
     "output_type": "execute_result"
    }
   ],
   "source": [
    "a"
   ]
  }
 ],
 "metadata": {
  "kernelspec": {
   "display_name": "Python 3",
   "language": "python",
   "name": "python3"
  },
  "language_info": {
   "codemirror_mode": {
    "name": "ipython",
    "version": 3
   },
   "file_extension": ".py",
   "mimetype": "text/x-python",
   "name": "python",
   "nbconvert_exporter": "python",
   "pygments_lexer": "ipython3",
   "version": "3.7.6"
  },
  "papermill": {
   "duration": 10.533928,
   "end_time": "2020-09-28T13:34:13.843486",
   "environment_variables": {},
   "exception": null,
   "input_path": "__notebook__.ipynb",
   "output_path": "__notebook__.ipynb",
   "parameters": {},
   "start_time": "2020-09-28T13:34:03.309558",
   "version": "2.1.0"
  }
 },
 "nbformat": 4,
 "nbformat_minor": 4
}
