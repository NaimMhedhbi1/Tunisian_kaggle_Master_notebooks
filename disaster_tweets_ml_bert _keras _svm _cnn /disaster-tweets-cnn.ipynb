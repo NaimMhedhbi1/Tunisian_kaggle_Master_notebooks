{
 "cells": [
  {
   "cell_type": "code",
   "execution_count": 1,
   "metadata": {
    "_cell_guid": "b1076dfc-b9ad-4769-8c92-a6c4dae69d19",
    "_uuid": "8f2839f25d086af736a60e9eeb907d3b93b6e0e5",
    "execution": {
     "iopub.execute_input": "2020-08-22T12:57:01.327999Z",
     "iopub.status.busy": "2020-08-22T12:57:01.327117Z",
     "iopub.status.idle": "2020-08-22T12:57:01.334642Z",
     "shell.execute_reply": "2020-08-22T12:57:01.333932Z"
    },
    "papermill": {
     "duration": 0.029596,
     "end_time": "2020-08-22T12:57:01.334775",
     "exception": false,
     "start_time": "2020-08-22T12:57:01.305179",
     "status": "completed"
    },
    "tags": []
   },
   "outputs": [
    {
     "name": "stdout",
     "output_type": "stream",
     "text": [
      "/kaggle/input/glove6b/glove.6B.50d.txt\n",
      "/kaggle/input/glove6b/glove.6B.200d.txt\n",
      "/kaggle/input/glove6b/glove.6B.100d.txt\n",
      "/kaggle/input/glove6b/glove.6B.300d.txt\n",
      "/kaggle/input/nlp-getting-started/train.csv\n",
      "/kaggle/input/nlp-getting-started/test.csv\n",
      "/kaggle/input/nlp-getting-started/sample_submission.csv\n"
     ]
    }
   ],
   "source": [
    "#https://www.kaggle.com/artgor/text-modelling-in-pytorch/notebook\n",
    "#https://github.com/dakshitagrawal97/TweetSentimentAnalysis/blob/master/CNN_Ensemble_Sentiment.ipynb\n",
    "# This Python 3 environment comes with many helpful analytics libraries installed\n",
    "# It is defined by the kaggle/python Docker image: https://github.com/kaggle/docker-python\n",
    "# For example, here's several helpful packages to load\n",
    "\n",
    "import numpy as np # linear algebra\n",
    "import pandas as pd # data processing, CSV file I/O (e.g. pd.read_csv)\n",
    "\n",
    "# Input data files are available in the read-only \"../input/\" directory\n",
    "# For example, running this (by clicking run or pressing Shift+Enter) will list all files under the input directory\n",
    "\n",
    "import os\n",
    "for dirname, _, filenames in os.walk('/kaggle/input'):\n",
    "    for filename in filenames:\n",
    "        print(os.path.join(dirname, filename))\n",
    "\n",
    "# You can write up to 5GB to the current directory (/kaggle/working/) that gets preserved as output when you create a version using \"Save & Run All\" \n",
    "# You can also write temporary files to /kaggle/temp/, but they won't be saved outside of the current session"
   ]
  },
  {
   "cell_type": "code",
   "execution_count": 2,
   "metadata": {
    "execution": {
     "iopub.execute_input": "2020-08-22T12:57:01.374186Z",
     "iopub.status.busy": "2020-08-22T12:57:01.373616Z",
     "iopub.status.idle": "2020-08-22T12:57:07.030821Z",
     "shell.execute_reply": "2020-08-22T12:57:07.029791Z"
    },
    "papermill": {
     "duration": 5.67947,
     "end_time": "2020-08-22T12:57:07.030940",
     "exception": false,
     "start_time": "2020-08-22T12:57:01.351470",
     "status": "completed"
    },
    "tags": []
   },
   "outputs": [],
   "source": [
    "import numpy as np\n",
    "import pandas as pd\n",
    "import pickle\n",
    "from collections import defaultdict\n",
    "import re\n",
    "from bs4 import BeautifulSoup\n",
    "import sys\n",
    "import os\n",
    "os.environ['KERAS_BACKEND']='theano' # Why theano why not\n",
    "from keras.preprocessing.text import Tokenizer\n",
    "from keras.preprocessing.sequence import pad_sequences\n",
    "from keras.utils.np_utils import to_categorical\n",
    "from keras.layers import Embedding\n",
    "from keras.layers import Dense, Input, Flatten\n",
    "from keras.layers import Conv1D, MaxPooling1D, Embedding, Dropout\n",
    "from keras.models import Model\n",
    "from keras.callbacks import ModelCheckpoint\n",
    "import matplotlib.pyplot as plt\n",
    "plt.switch_backend('agg')\n"
   ]
  },
  {
   "cell_type": "code",
   "execution_count": 3,
   "metadata": {
    "execution": {
     "iopub.execute_input": "2020-08-22T12:57:07.184773Z",
     "iopub.status.busy": "2020-08-22T12:57:07.182692Z",
     "iopub.status.idle": "2020-08-22T12:57:07.185490Z",
     "shell.execute_reply": "2020-08-22T12:57:07.185958Z"
    },
    "papermill": {
     "duration": 0.13994,
     "end_time": "2020-08-22T12:57:07.186099",
     "exception": false,
     "start_time": "2020-08-22T12:57:07.046159",
     "status": "completed"
    },
    "tags": []
   },
   "outputs": [],
   "source": [
    "\n",
    "def clean_str(string):\n",
    "    string = re.sub(r\"\\\\\", \"\", string)\n",
    "    string = re.sub(r\"\\'\", \"\", string)\n",
    "    string = re.sub(r\"\\\"\", \"\", string)\n",
    "    return string.strip().lower()"
   ]
  },
  {
   "cell_type": "code",
   "execution_count": 4,
   "metadata": {
    "execution": {
     "iopub.execute_input": "2020-08-22T12:57:07.220705Z",
     "iopub.status.busy": "2020-08-22T12:57:07.219975Z",
     "iopub.status.idle": "2020-08-22T12:57:07.224409Z",
     "shell.execute_reply": "2020-08-22T12:57:07.223782Z"
    },
    "papermill": {
     "duration": 0.023792,
     "end_time": "2020-08-22T12:57:07.224511",
     "exception": false,
     "start_time": "2020-08-22T12:57:07.200719",
     "status": "completed"
    },
    "tags": []
   },
   "outputs": [],
   "source": [
    "MAX_SEQUENCE_LENGTH = 1000\n",
    "MAX_NB_WORDS = 20000\n",
    "EMBEDDING_DIM = 100\n",
    "VALIDATION_SPLIT = 0.2"
   ]
  },
  {
   "cell_type": "code",
   "execution_count": 5,
   "metadata": {
    "execution": {
     "iopub.execute_input": "2020-08-22T12:57:07.264991Z",
     "iopub.status.busy": "2020-08-22T12:57:07.264370Z",
     "iopub.status.idle": "2020-08-22T12:57:07.322740Z",
     "shell.execute_reply": "2020-08-22T12:57:07.323542Z"
    },
    "papermill": {
     "duration": 0.084763,
     "end_time": "2020-08-22T12:57:07.323726",
     "exception": false,
     "start_time": "2020-08-22T12:57:07.238963",
     "status": "completed"
    },
    "tags": []
   },
   "outputs": [
    {
     "name": "stdout",
     "output_type": "stream",
     "text": [
      "Shape of dataset  (7613, 5)\n",
      "Index(['id', 'keyword', 'location', 'text', 'target'], dtype='object')\n",
      "No. of unique classes 2\n"
     ]
    }
   ],
   "source": [
    "# reading data\n",
    "df = pd.read_csv('../input/nlp-getting-started/train.csv')\n",
    "df1 = pd.read_csv('../input/nlp-getting-started/test.csv')\n",
    "\n",
    "df = df.reset_index(drop=True)\n",
    "print('Shape of dataset ',df.shape)\n",
    "print(df.columns)\n",
    "print('No. of unique classes',len(set(df['target'])))"
   ]
  },
  {
   "cell_type": "code",
   "execution_count": 6,
   "metadata": {
    "execution": {
     "iopub.execute_input": "2020-08-22T12:57:07.373531Z",
     "iopub.status.busy": "2020-08-22T12:57:07.372871Z",
     "iopub.status.idle": "2020-08-22T12:57:07.378059Z",
     "shell.execute_reply": "2020-08-22T12:57:07.378581Z"
    },
    "papermill": {
     "duration": 0.038298,
     "end_time": "2020-08-22T12:57:07.378705",
     "exception": false,
     "start_time": "2020-08-22T12:57:07.340407",
     "status": "completed"
    },
    "tags": []
   },
   "outputs": [
    {
     "data": {
      "text/plain": [
       "0       1\n",
       "1       1\n",
       "2       1\n",
       "3       1\n",
       "4       1\n",
       "       ..\n",
       "7608    1\n",
       "7609    1\n",
       "7610    1\n",
       "7611    1\n",
       "7612    1\n",
       "Name: target, Length: 7613, dtype: int64"
      ]
     },
     "execution_count": 6,
     "metadata": {},
     "output_type": "execute_result"
    }
   ],
   "source": [
    "\n",
    "macronum=sorted(set(df['target']))\n",
    "macro_to_id = dict((note, number) for number, note in enumerate(macronum))\n",
    "\n",
    "def fun(i):\n",
    "    return macro_to_id[i]\n",
    "\n",
    "df['target']=df['target'].apply(fun)\n",
    "df['target']"
   ]
  },
  {
   "cell_type": "code",
   "execution_count": 7,
   "metadata": {
    "execution": {
     "iopub.execute_input": "2020-08-22T12:57:07.436024Z",
     "iopub.status.busy": "2020-08-22T12:57:07.435094Z",
     "iopub.status.idle": "2020-08-22T12:57:09.400694Z",
     "shell.execute_reply": "2020-08-22T12:57:09.400079Z"
    },
    "papermill": {
     "duration": 2.00606,
     "end_time": "2020-08-22T12:57:09.400824",
     "exception": false,
     "start_time": "2020-08-22T12:57:07.394764",
     "status": "completed"
    },
    "tags": []
   },
   "outputs": [],
   "source": [
    "texts = []\n",
    "labels = []\n",
    "\n",
    "\n",
    "for idx in range(df.text.shape[0]):\n",
    "    text = BeautifulSoup(df.text[idx])\n",
    "    texts.append(clean_str(str(text.get_text().encode())))\n",
    "    \n",
    "\n",
    "\n",
    "for idx in df['target']:\n",
    "    labels.append(idx)"
   ]
  },
  {
   "cell_type": "code",
   "execution_count": 8,
   "metadata": {
    "execution": {
     "iopub.execute_input": "2020-08-22T12:57:09.473383Z",
     "iopub.status.busy": "2020-08-22T12:57:09.457950Z",
     "iopub.status.idle": "2020-08-22T12:57:09.836396Z",
     "shell.execute_reply": "2020-08-22T12:57:09.836919Z"
    },
    "papermill": {
     "duration": 0.419175,
     "end_time": "2020-08-22T12:57:09.837062",
     "exception": false,
     "start_time": "2020-08-22T12:57:09.417887",
     "status": "completed"
    },
    "tags": []
   },
   "outputs": [
    {
     "name": "stdout",
     "output_type": "stream",
     "text": [
      "Number of Unique Tokens 23821\n"
     ]
    }
   ],
   "source": [
    "\n",
    "tokenizer = Tokenizer(num_words=MAX_NB_WORDS)\n",
    "tokenizer.fit_on_texts(texts)\n",
    "sequences = tokenizer.texts_to_sequences(texts)\n",
    "\n",
    "word_index = tokenizer.word_index\n",
    "print('Number of Unique Tokens',len(word_index))\n",
    "\n"
   ]
  },
  {
   "cell_type": "code",
   "execution_count": 9,
   "metadata": {
    "execution": {
     "iopub.execute_input": "2020-08-22T12:57:09.881361Z",
     "iopub.status.busy": "2020-08-22T12:57:09.880123Z",
     "iopub.status.idle": "2020-08-22T12:57:09.967288Z",
     "shell.execute_reply": "2020-08-22T12:57:09.967969Z"
    },
    "papermill": {
     "duration": 0.114072,
     "end_time": "2020-08-22T12:57:09.968150",
     "exception": false,
     "start_time": "2020-08-22T12:57:09.854078",
     "status": "completed"
    },
    "tags": []
   },
   "outputs": [
    {
     "name": "stdout",
     "output_type": "stream",
     "text": [
      "Shape of Data Tensor: (7613, 1000)\n",
      "Shape of Label Tensor: (7613, 2)\n"
     ]
    }
   ],
   "source": [
    "data = pad_sequences(sequences, maxlen=MAX_SEQUENCE_LENGTH)\n",
    "\n",
    "labels = to_categorical(np.asarray(labels))\n",
    "print('Shape of Data Tensor:', data.shape)\n",
    "print('Shape of Label Tensor:', labels.shape)\n",
    "\n",
    "indices = np.arange(data.shape[0])\n",
    "\n",
    "\n",
    "data = data[indices]\n",
    "labels = labels[indices]\n",
    "nb_validation_samples = int(VALIDATION_SPLIT * data.shape[0])\n",
    "\n",
    "\n",
    "x_train = data[:-nb_validation_samples]\n",
    "y_train = labels[:-nb_validation_samples]\n",
    "x_val = data[-nb_validation_samples:]\n",
    "y_val = labels[-nb_validation_samples:]\n"
   ]
  },
  {
   "cell_type": "code",
   "execution_count": 10,
   "metadata": {
    "execution": {
     "iopub.execute_input": "2020-08-22T12:57:10.008780Z",
     "iopub.status.busy": "2020-08-22T12:57:10.008010Z",
     "iopub.status.idle": "2020-08-22T12:57:30.355747Z",
     "shell.execute_reply": "2020-08-22T12:57:30.354985Z"
    },
    "papermill": {
     "duration": 20.370123,
     "end_time": "2020-08-22T12:57:30.355887",
     "exception": false,
     "start_time": "2020-08-22T12:57:09.985764",
     "status": "completed"
    },
    "tags": []
   },
   "outputs": [
    {
     "name": "stdout",
     "output_type": "stream",
     "text": [
      "Total 400000 word vectors in Glove 6B 100d.\n"
     ]
    }
   ],
   "source": [
    "embeddings_index = {}\n",
    "f = open('../input/glove6b/glove.6B.100d.txt',encoding='utf8')\n",
    "for line in f:\n",
    "    values = line.split()\n",
    "    word = values[0]\n",
    "    coefs = np.asarray(values[1:], dtype='float32')\n",
    "    embeddings_index[word] = coefs\n",
    "f.close()\n",
    "\n",
    "print('Total %s word vectors in Glove 6B 100d.' % len(embeddings_index))"
   ]
  },
  {
   "cell_type": "code",
   "execution_count": 11,
   "metadata": {
    "execution": {
     "iopub.execute_input": "2020-08-22T12:57:30.398633Z",
     "iopub.status.busy": "2020-08-22T12:57:30.397719Z",
     "iopub.status.idle": "2020-08-22T12:57:30.465265Z",
     "shell.execute_reply": "2020-08-22T12:57:30.464634Z"
    },
    "papermill": {
     "duration": 0.091682,
     "end_time": "2020-08-22T12:57:30.465394",
     "exception": false,
     "start_time": "2020-08-22T12:57:30.373712",
     "status": "completed"
    },
    "tags": []
   },
   "outputs": [],
   "source": [
    "embedding_matrix = np.random.random((len(word_index) + 1, EMBEDDING_DIM))\n",
    "for word, i in word_index.items():\n",
    "    embedding_vector = embeddings_index.get(word)\n",
    "    if embedding_vector is not None:\n",
    "        # words not found in embedding index will be all-zeros.\n",
    "        embedding_matrix[i] = embedding_vector\n",
    "\n",
    "embedding_layer = Embedding(len(word_index) + 1,\n",
    "                            EMBEDDING_DIM,weights=[embedding_matrix],\n",
    "                            input_length=MAX_SEQUENCE_LENGTH,trainable=True)"
   ]
  },
  {
   "cell_type": "code",
   "execution_count": 12,
   "metadata": {
    "execution": {
     "iopub.execute_input": "2020-08-22T12:57:30.512542Z",
     "iopub.status.busy": "2020-08-22T12:57:30.510821Z",
     "iopub.status.idle": "2020-08-22T12:57:33.469301Z",
     "shell.execute_reply": "2020-08-22T12:57:33.468735Z"
    },
    "papermill": {
     "duration": 2.985797,
     "end_time": "2020-08-22T12:57:33.469493",
     "exception": false,
     "start_time": "2020-08-22T12:57:30.483696",
     "status": "completed"
    },
    "tags": []
   },
   "outputs": [
    {
     "name": "stdout",
     "output_type": "stream",
     "text": [
      "Simplified convolutional neural network\n",
      "Model: \"functional_1\"\n",
      "_________________________________________________________________\n",
      "Layer (type)                 Output Shape              Param #   \n",
      "=================================================================\n",
      "input_1 (InputLayer)         [(None, 1000)]            0         \n",
      "_________________________________________________________________\n",
      "embedding (Embedding)        (None, 1000, 100)         2382200   \n",
      "_________________________________________________________________\n",
      "conv1d (Conv1D)              (None, 996, 128)          64128     \n",
      "_________________________________________________________________\n",
      "max_pooling1d (MaxPooling1D) (None, 199, 128)          0         \n",
      "_________________________________________________________________\n",
      "conv1d_1 (Conv1D)            (None, 195, 128)          82048     \n",
      "_________________________________________________________________\n",
      "max_pooling1d_1 (MaxPooling1 (None, 39, 128)           0         \n",
      "_________________________________________________________________\n",
      "conv1d_2 (Conv1D)            (None, 35, 128)           82048     \n",
      "_________________________________________________________________\n",
      "max_pooling1d_2 (MaxPooling1 (None, 1, 128)            0         \n",
      "_________________________________________________________________\n",
      "flatten (Flatten)            (None, 128)               0         \n",
      "_________________________________________________________________\n",
      "dense (Dense)                (None, 128)               16512     \n",
      "_________________________________________________________________\n",
      "dense_1 (Dense)              (None, 2)                 258       \n",
      "=================================================================\n",
      "Total params: 2,627,194\n",
      "Trainable params: 2,627,194\n",
      "Non-trainable params: 0\n",
      "_________________________________________________________________\n"
     ]
    }
   ],
   "source": [
    "\n",
    "sequence_input = Input(shape=(MAX_SEQUENCE_LENGTH,), dtype='int32')\n",
    "embedded_sequences = embedding_layer(sequence_input)\n",
    "l_cov1= Conv1D(128, 5, activation='relu')(embedded_sequences)\n",
    "l_pool1 = MaxPooling1D(5)(l_cov1)\n",
    "l_cov2 = Conv1D(128, 5, activation='relu')(l_pool1)\n",
    "l_pool2 = MaxPooling1D(5)(l_cov2)\n",
    "l_cov3 = Conv1D(128, 5, activation='relu')(l_pool2)\n",
    "l_pool3 = MaxPooling1D(35)(l_cov3)  # global max pooling\n",
    "l_flat = Flatten()(l_pool3)\n",
    "l_dense = Dense(128, activation='relu')(l_flat)\n",
    "preds = Dense(len(macronum), activation='softmax')(l_dense)\n",
    "\n",
    "model = Model(sequence_input, preds)\n",
    "model.compile(loss='categorical_crossentropy',\n",
    "              optimizer='rmsprop',\n",
    "              metrics=['acc'])\n",
    "\n",
    "print(\"Simplified convolutional neural network\")\n",
    "model.summary()\n",
    "cp=ModelCheckpoint('model_cnn.hdf5',monitor='val_acc',verbose=1,save_best_only=True)"
   ]
  },
  {
   "cell_type": "code",
   "execution_count": 13,
   "metadata": {
    "execution": {
     "iopub.execute_input": "2020-08-22T12:57:33.511080Z",
     "iopub.status.busy": "2020-08-22T12:57:33.510136Z",
     "iopub.status.idle": "2020-08-22T13:00:42.342347Z",
     "shell.execute_reply": "2020-08-22T13:00:42.343142Z"
    },
    "papermill": {
     "duration": 188.855496,
     "end_time": "2020-08-22T13:00:42.343358",
     "exception": false,
     "start_time": "2020-08-22T12:57:33.487862",
     "status": "completed"
    },
    "tags": []
   },
   "outputs": [
    {
     "name": "stdout",
     "output_type": "stream",
     "text": [
      "Epoch 1/5\n",
      "3046/3046 [==============================] - ETA: 0s - loss: 0.5548 - acc: 0.7677\n",
      "Epoch 00001: val_acc improved from -inf to 0.76018, saving model to model_cnn.hdf5\n",
      "3046/3046 [==============================] - 37s 12ms/step - loss: 0.5548 - acc: 0.7677 - val_loss: 0.5003 - val_acc: 0.7602\n",
      "Epoch 2/5\n",
      "3045/3046 [============================>.] - ETA: 0s - loss: 0.4913 - acc: 0.8215\n",
      "Epoch 00002: val_acc improved from 0.76018 to 0.78318, saving model to model_cnn.hdf5\n",
      "3046/3046 [==============================] - 37s 12ms/step - loss: 0.4913 - acc: 0.8215 - val_loss: 0.4758 - val_acc: 0.7832\n",
      "Epoch 3/5\n",
      "3046/3046 [==============================] - ETA: 0s - loss: 0.4756 - acc: 0.8509\n",
      "Epoch 00003: val_acc improved from 0.78318 to 0.81603, saving model to model_cnn.hdf5\n",
      "3046/3046 [==============================] - 36s 12ms/step - loss: 0.4756 - acc: 0.8509 - val_loss: 0.5385 - val_acc: 0.8160\n",
      "Epoch 4/5\n",
      "3046/3046 [==============================] - ETA: 0s - loss: 0.4339 - acc: 0.8655\n",
      "Epoch 00004: val_acc did not improve from 0.81603\n",
      "3046/3046 [==============================] - 37s 12ms/step - loss: 0.4339 - acc: 0.8655 - val_loss: 0.7162 - val_acc: 0.7937\n",
      "Epoch 5/5\n",
      "3042/3046 [============================>.] - ETA: 0s - loss: 0.3803 - acc: 0.8897\n",
      "Epoch 00005: val_acc did not improve from 0.81603\n",
      "3046/3046 [==============================] - 36s 12ms/step - loss: 0.3802 - acc: 0.8897 - val_loss: 0.6912 - val_acc: 0.7832\n"
     ]
    }
   ],
   "source": [
    "history=model.fit(x_train, y_train, validation_data=(x_val, y_val),epochs=5, batch_size=2,callbacks=[cp])"
   ]
  },
  {
   "cell_type": "code",
   "execution_count": 14,
   "metadata": {
    "execution": {
     "iopub.execute_input": "2020-08-22T13:00:44.553674Z",
     "iopub.status.busy": "2020-08-22T13:00:44.552749Z",
     "iopub.status.idle": "2020-08-22T13:00:46.305387Z",
     "shell.execute_reply": "2020-08-22T13:00:46.306544Z"
    },
    "papermill": {
     "duration": 2.858612,
     "end_time": "2020-08-22T13:00:46.306818",
     "exception": false,
     "start_time": "2020-08-22T13:00:43.448206",
     "status": "completed"
    },
    "tags": []
   },
   "outputs": [
    {
     "name": "stdout",
     "output_type": "stream",
     "text": [
      "761/761 [==============================] - 2s 2ms/step - loss: 0.6912 - acc: 0.7832\n",
      "Test score: 0.6912469863891602\n",
      "Test accuracy: 0.7831799983978271\n"
     ]
    }
   ],
   "source": [
    "score, acc = model.evaluate(x_val, y_val,batch_size=2)\n",
    "print('Test score:', score)\n",
    "print('Test accuracy:', acc)\n",
    "\n",
    "\n"
   ]
  },
  {
   "cell_type": "code",
   "execution_count": null,
   "metadata": {
    "papermill": {
     "duration": 1.115184,
     "end_time": "2020-08-22T13:00:48.659937",
     "exception": false,
     "start_time": "2020-08-22T13:00:47.544753",
     "status": "completed"
    },
    "tags": []
   },
   "outputs": [],
   "source": []
  },
  {
   "cell_type": "markdown",
   "execution_count": null,
   "metadata": {
    "papermill": {
     "duration": 1.110939,
     "end_time": "2020-08-22T13:00:50.894717",
     "exception": false,
     "start_time": "2020-08-22T13:00:49.783778",
     "status": "completed"
    },
    "tags": []
   },
   "source": [
    "CNN #2 "
   ]
  },
  {
   "cell_type": "code",
   "execution_count": 15,
   "metadata": {
    "execution": {
     "iopub.execute_input": "2020-08-22T13:00:53.203052Z",
     "iopub.status.busy": "2020-08-22T13:00:53.201874Z",
     "iopub.status.idle": "2020-08-22T13:00:53.204832Z",
     "shell.execute_reply": "2020-08-22T13:00:53.204194Z"
    },
    "papermill": {
     "duration": 1.166381,
     "end_time": "2020-08-22T13:00:53.204952",
     "exception": false,
     "start_time": "2020-08-22T13:00:52.038571",
     "status": "completed"
    },
    "tags": []
   },
   "outputs": [],
   "source": [
    "def seed_torch(seed=1029):\n",
    "    random.seed(seed)\n",
    "    os.environ['PYTHONHASHSEED'] = str(seed)\n",
    "    np.random.seed(seed)\n",
    "    torch.manual_seed(seed)\n",
    "    torch.cuda.manual_seed(seed)\n",
    "    torch.backends.cudnn.deterministic = True"
   ]
  },
  {
   "cell_type": "code",
   "execution_count": 16,
   "metadata": {
    "execution": {
     "iopub.execute_input": "2020-08-22T13:00:55.440759Z",
     "iopub.status.busy": "2020-08-22T13:00:55.439923Z",
     "iopub.status.idle": "2020-08-22T13:00:55.473970Z",
     "shell.execute_reply": "2020-08-22T13:00:55.472644Z"
    },
    "papermill": {
     "duration": 1.15715,
     "end_time": "2020-08-22T13:00:55.474077",
     "exception": false,
     "start_time": "2020-08-22T13:00:54.316927",
     "status": "completed"
    },
    "tags": []
   },
   "outputs": [],
   "source": [
    "train = pd.read_csv(\"../input/nlp-getting-started/train.csv\")\n",
    "test = pd.read_csv(\"../input/nlp-getting-started/test.csv\")\n",
    "sub = pd.read_csv('../input/nlp-getting-started/sample_submission.csv')"
   ]
  },
  {
   "cell_type": "code",
   "execution_count": 17,
   "metadata": {
    "execution": {
     "iopub.execute_input": "2020-08-22T13:00:57.913949Z",
     "iopub.status.busy": "2020-08-22T13:00:57.912931Z",
     "iopub.status.idle": "2020-08-22T13:00:57.916616Z",
     "shell.execute_reply": "2020-08-22T13:00:57.917047Z"
    },
    "papermill": {
     "duration": 1.32915,
     "end_time": "2020-08-22T13:00:57.917179",
     "exception": false,
     "start_time": "2020-08-22T13:00:56.588029",
     "status": "completed"
    },
    "tags": []
   },
   "outputs": [
    {
     "data": {
      "text/plain": [
       "0    4342\n",
       "1    3271\n",
       "Name: target, dtype: int64"
      ]
     },
     "execution_count": 17,
     "metadata": {},
     "output_type": "execute_result"
    }
   ],
   "source": [
    "train[\"target\"].value_counts()"
   ]
  },
  {
   "cell_type": "code",
   "execution_count": 18,
   "metadata": {
    "execution": {
     "iopub.execute_input": "2020-08-22T13:01:00.239500Z",
     "iopub.status.busy": "2020-08-22T13:01:00.238568Z",
     "iopub.status.idle": "2020-08-22T13:01:00.249004Z",
     "shell.execute_reply": "2020-08-22T13:01:00.249548Z"
    },
    "papermill": {
     "duration": 1.219247,
     "end_time": "2020-08-22T13:01:00.249686",
     "exception": false,
     "start_time": "2020-08-22T13:00:59.030439",
     "status": "completed"
    },
    "tags": []
   },
   "outputs": [
    {
     "data": {
      "text/html": [
       "<div>\n",
       "<style scoped>\n",
       "    .dataframe tbody tr th:only-of-type {\n",
       "        vertical-align: middle;\n",
       "    }\n",
       "\n",
       "    .dataframe tbody tr th {\n",
       "        vertical-align: top;\n",
       "    }\n",
       "\n",
       "    .dataframe thead th {\n",
       "        text-align: right;\n",
       "    }\n",
       "</style>\n",
       "<table border=\"1\" class=\"dataframe\">\n",
       "  <thead>\n",
       "    <tr style=\"text-align: right;\">\n",
       "      <th></th>\n",
       "      <th>id</th>\n",
       "      <th>keyword</th>\n",
       "      <th>location</th>\n",
       "      <th>text</th>\n",
       "      <th>target</th>\n",
       "    </tr>\n",
       "  </thead>\n",
       "  <tbody>\n",
       "    <tr>\n",
       "      <th>0</th>\n",
       "      <td>1</td>\n",
       "      <td>NaN</td>\n",
       "      <td>NaN</td>\n",
       "      <td>Our Deeds are the Reason of this #earthquake M...</td>\n",
       "      <td>1</td>\n",
       "    </tr>\n",
       "    <tr>\n",
       "      <th>1</th>\n",
       "      <td>4</td>\n",
       "      <td>NaN</td>\n",
       "      <td>NaN</td>\n",
       "      <td>Forest fire near La Ronge Sask. Canada</td>\n",
       "      <td>1</td>\n",
       "    </tr>\n",
       "    <tr>\n",
       "      <th>2</th>\n",
       "      <td>5</td>\n",
       "      <td>NaN</td>\n",
       "      <td>NaN</td>\n",
       "      <td>All residents asked to 'shelter in place' are ...</td>\n",
       "      <td>1</td>\n",
       "    </tr>\n",
       "    <tr>\n",
       "      <th>3</th>\n",
       "      <td>6</td>\n",
       "      <td>NaN</td>\n",
       "      <td>NaN</td>\n",
       "      <td>13,000 people receive #wildfires evacuation or...</td>\n",
       "      <td>1</td>\n",
       "    </tr>\n",
       "    <tr>\n",
       "      <th>4</th>\n",
       "      <td>7</td>\n",
       "      <td>NaN</td>\n",
       "      <td>NaN</td>\n",
       "      <td>Just got sent this photo from Ruby #Alaska as ...</td>\n",
       "      <td>1</td>\n",
       "    </tr>\n",
       "  </tbody>\n",
       "</table>\n",
       "</div>"
      ],
      "text/plain": [
       "   id keyword location                                               text  \\\n",
       "0   1     NaN      NaN  Our Deeds are the Reason of this #earthquake M...   \n",
       "1   4     NaN      NaN             Forest fire near La Ronge Sask. Canada   \n",
       "2   5     NaN      NaN  All residents asked to 'shelter in place' are ...   \n",
       "3   6     NaN      NaN  13,000 people receive #wildfires evacuation or...   \n",
       "4   7     NaN      NaN  Just got sent this photo from Ruby #Alaska as ...   \n",
       "\n",
       "   target  \n",
       "0       1  \n",
       "1       1  \n",
       "2       1  \n",
       "3       1  \n",
       "4       1  "
      ]
     },
     "execution_count": 18,
     "metadata": {},
     "output_type": "execute_result"
    }
   ],
   "source": [
    "train.head()"
   ]
  },
  {
   "cell_type": "code",
   "execution_count": 19,
   "metadata": {
    "execution": {
     "iopub.execute_input": "2020-08-22T13:01:02.629102Z",
     "iopub.status.busy": "2020-08-22T13:01:02.628460Z",
     "iopub.status.idle": "2020-08-22T13:01:02.633456Z",
     "shell.execute_reply": "2020-08-22T13:01:02.634086Z"
    },
    "papermill": {
     "duration": 1.236022,
     "end_time": "2020-08-22T13:01:02.634261",
     "exception": false,
     "start_time": "2020-08-22T13:01:01.398239",
     "status": "completed"
    },
    "tags": []
   },
   "outputs": [
    {
     "name": "stdout",
     "output_type": "stream",
     "text": [
      "Average word length of questions in train is 15.\n",
      "Average word length of questions in test is 15.\n"
     ]
    }
   ],
   "source": [
    "print('Average word length of questions in train is {0:.0f}.'.format(np.mean(train['text'].apply(lambda x: len(x.split())))))\n",
    "print('Average word length of questions in test is {0:.0f}.'.format(np.mean(test['text'].apply(lambda x: len(x.split())))))"
   ]
  },
  {
   "cell_type": "code",
   "execution_count": 20,
   "metadata": {
    "execution": {
     "iopub.execute_input": "2020-08-22T13:01:05.086229Z",
     "iopub.status.busy": "2020-08-22T13:01:05.084882Z",
     "iopub.status.idle": "2020-08-22T13:01:05.089779Z",
     "shell.execute_reply": "2020-08-22T13:01:05.089189Z"
    },
    "papermill": {
     "duration": 1.25629,
     "end_time": "2020-08-22T13:01:05.089889",
     "exception": false,
     "start_time": "2020-08-22T13:01:03.833599",
     "status": "completed"
    },
    "tags": []
   },
   "outputs": [
    {
     "name": "stdout",
     "output_type": "stream",
     "text": [
      "Max word length of questions in train is 31.\n",
      "Max word length of questions in test is 31.\n"
     ]
    }
   ],
   "source": [
    "print('Max word length of questions in train is {0:.0f}.'.format(np.max(train['text'].apply(lambda x: len(x.split())))))\n",
    "print('Max word length of questions in test is {0:.0f}.'.format(np.max(test['text'].apply(lambda x: len(x.split())))))"
   ]
  },
  {
   "cell_type": "code",
   "execution_count": 21,
   "metadata": {
    "execution": {
     "iopub.execute_input": "2020-08-22T13:01:07.360349Z",
     "iopub.status.busy": "2020-08-22T13:01:07.359594Z",
     "iopub.status.idle": "2020-08-22T13:01:07.364615Z",
     "shell.execute_reply": "2020-08-22T13:01:07.365297Z"
    },
    "papermill": {
     "duration": 1.145185,
     "end_time": "2020-08-22T13:01:07.365492",
     "exception": false,
     "start_time": "2020-08-22T13:01:06.220307",
     "status": "completed"
    },
    "tags": []
   },
   "outputs": [
    {
     "name": "stdout",
     "output_type": "stream",
     "text": [
      "Average character length of questions in train is 101.\n",
      "Average character length of questions in test is 102.\n"
     ]
    }
   ],
   "source": [
    "print('Average character length of questions in train is {0:.0f}.'.format(np.mean(train['text'].apply(lambda x: len(x)))))\n",
    "print('Average character length of questions in test is {0:.0f}.'.format(np.mean(test['text'].apply(lambda x: len(x)))))"
   ]
  },
  {
   "cell_type": "code",
   "execution_count": 22,
   "metadata": {
    "execution": {
     "iopub.execute_input": "2020-08-22T13:01:09.867525Z",
     "iopub.status.busy": "2020-08-22T13:01:09.866805Z",
     "iopub.status.idle": "2020-08-22T13:01:10.750684Z",
     "shell.execute_reply": "2020-08-22T13:01:10.750087Z"
    },
    "papermill": {
     "duration": 2.056157,
     "end_time": "2020-08-22T13:01:10.750818",
     "exception": false,
     "start_time": "2020-08-22T13:01:08.694661",
     "status": "completed"
    },
    "tags": []
   },
   "outputs": [],
   "source": [
    "puncts = [',', '.', '\"', ':', ')', '(', '-', '!', '?', '|', ';', \"'\", '$', '&', '/', '[', ']', '>', '%', '=', '#', '*', '+', '\\\\', '•',  '~', '@', '£', \n",
    " '·', '_', '{', '}', '©', '^', '®', '`',  '<', '→', '°', '€', '™', '›',  '♥', '←', '×', '§', '″', '′', 'Â', '█', '½', 'à', '…', \n",
    " '“', '★', '”', '–', '●', 'â', '►', '−', '¢', '²', '¬', '░', '¶', '↑', '±', '¿', '▾', '═', '¦', '║', '―', '¥', '▓', '—', '‹', '─', \n",
    " '▒', '：', '¼', '⊕', '▼', '▪', '†', '■', '’', '▀', '¨', '▄', '♫', '☆', 'é', '¯', '♦', '¤', '▲', 'è', '¸', '¾', 'Ã', '⋅', '‘', '∞', \n",
    " '∙', '）', '↓', '、', '│', '（', '»', '，', '♪', '╩', '╚', '³', '・', '╦', '╣', '╔', '╗', '▬', '❤', 'ï', 'Ø', '¹', '≤', '‡', '√', ]\n",
    "\n",
    "def clean_text(x):\n",
    "    x = str(x)\n",
    "    for punct in puncts:\n",
    "        x = x.replace(punct, f' {punct} ')\n",
    "    return x\n",
    "\n",
    "def clean_numbers(x):\n",
    "    x = re.sub('[0-9]{5,}', '#####', x)\n",
    "    x = re.sub('[0-9]{4}', '####', x)\n",
    "    x = re.sub('[0-9]{3}', '###', x)\n",
    "    x = re.sub('[0-9]{2}', '##', x)\n",
    "    return x\n",
    "\n",
    "mispell_dict = {\"aren't\" : \"are not\",\n",
    "\"can't\" : \"cannot\",\n",
    "\"couldn't\" : \"could not\",\n",
    "\"didn't\" : \"did not\",\n",
    "\"doesn't\" : \"does not\",\n",
    "\"don't\" : \"do not\",\n",
    "\"hadn't\" : \"had not\",\n",
    "\"hasn't\" : \"has not\",\n",
    "\"haven't\" : \"have not\",\n",
    "\"he'd\" : \"he would\",\n",
    "\"he'll\" : \"he will\",\n",
    "\"he's\" : \"he is\",\n",
    "\"i'd\" : \"I would\",\n",
    "\"i'd\" : \"I had\",\n",
    "\"i'll\" : \"I will\",\n",
    "\"i'm\" : \"I am\",\n",
    "\"isn't\" : \"is not\",\n",
    "\"it's\" : \"it is\",\n",
    "\"it'll\":\"it will\",\n",
    "\"i've\" : \"I have\",\n",
    "\"let's\" : \"let us\",\n",
    "\"mightn't\" : \"might not\",\n",
    "\"mustn't\" : \"must not\",\n",
    "\"shan't\" : \"shall not\",\n",
    "\"she'd\" : \"she would\",\n",
    "\"she'll\" : \"she will\",\n",
    "\"she's\" : \"she is\",\n",
    "\"shouldn't\" : \"should not\",\n",
    "\"that's\" : \"that is\",\n",
    "\"there's\" : \"there is\",\n",
    "\"they'd\" : \"they would\",\n",
    "\"they'll\" : \"they will\",\n",
    "\"they're\" : \"they are\",\n",
    "\"they've\" : \"they have\",\n",
    "\"we'd\" : \"we would\",\n",
    "\"we're\" : \"we are\",\n",
    "\"weren't\" : \"were not\",\n",
    "\"we've\" : \"we have\",\n",
    "\"what'll\" : \"what will\",\n",
    "\"what're\" : \"what are\",\n",
    "\"what's\" : \"what is\",\n",
    "\"what've\" : \"what have\",\n",
    "\"where's\" : \"where is\",\n",
    "\"who'd\" : \"who would\",\n",
    "\"who'll\" : \"who will\",\n",
    "\"who're\" : \"who are\",\n",
    "\"who's\" : \"who is\",\n",
    "\"who've\" : \"who have\",\n",
    "\"won't\" : \"will not\",\n",
    "\"wouldn't\" : \"would not\",\n",
    "\"you'd\" : \"you would\",\n",
    "\"you'll\" : \"you will\",\n",
    "\"you're\" : \"you are\",\n",
    "\"you've\" : \"you have\",\n",
    "\"'re\": \" are\",\n",
    "\"wasn't\": \"was not\",\n",
    "\"we'll\":\" will\",\n",
    "\"didn't\": \"did not\",\n",
    "\"tryin'\":\"trying\"}\n",
    "\n",
    "def _get_mispell(mispell_dict):\n",
    "    mispell_re = re.compile('(%s)' % '|'.join(mispell_dict.keys()))\n",
    "    return mispell_dict, mispell_re\n",
    "\n",
    "mispellings, mispellings_re = _get_mispell(mispell_dict)\n",
    "def replace_typical_misspell(text):\n",
    "    def replace(match):\n",
    "        return mispellings[match.group(0)]\n",
    "    return mispellings_re.sub(replace, text)\n",
    "\n",
    "# Clean the text\n",
    "train[\"text\"] = train[\"text\"].apply(lambda x: clean_text(x.lower()))\n",
    "test[\"text\"] = test[\"text\"].apply(lambda x: clean_text(x.lower()))\n",
    "\n",
    "# Clean numbers\n",
    "train[\"text\"] = train[\"text\"].apply(lambda x: clean_numbers(x))\n",
    "test[\"text\"] = test[\"text\"].apply(lambda x: clean_numbers(x))\n",
    "\n",
    "# Clean speelings\n",
    "train[\"text\"] = train[\"text\"].apply(lambda x: replace_typical_misspell(x))\n",
    "test[\"text\"] = test[\"text\"].apply(lambda x: replace_typical_misspell(x))"
   ]
  },
  {
   "cell_type": "code",
   "execution_count": 23,
   "metadata": {
    "execution": {
     "iopub.execute_input": "2020-08-22T13:01:13.051882Z",
     "iopub.status.busy": "2020-08-22T13:01:13.041647Z",
     "iopub.status.idle": "2020-08-22T13:01:13.339753Z",
     "shell.execute_reply": "2020-08-22T13:01:13.339179Z"
    },
    "papermill": {
     "duration": 1.440724,
     "end_time": "2020-08-22T13:01:13.339864",
     "exception": false,
     "start_time": "2020-08-22T13:01:11.899140",
     "status": "completed"
    },
    "tags": []
   },
   "outputs": [],
   "source": [
    "max_features = 1000\n",
    "tk = Tokenizer(lower = True, filters='', num_words=max_features)\n",
    "full_text = list(train['text'].values) + list(test['text'].values)\n",
    "tk.fit_on_texts(full_text)"
   ]
  },
  {
   "cell_type": "code",
   "execution_count": 24,
   "metadata": {
    "execution": {
     "iopub.execute_input": "2020-08-22T13:01:15.608337Z",
     "iopub.status.busy": "2020-08-22T13:01:15.601753Z",
     "iopub.status.idle": "2020-08-22T13:01:15.828952Z",
     "shell.execute_reply": "2020-08-22T13:01:15.828422Z"
    },
    "papermill": {
     "duration": 1.368917,
     "end_time": "2020-08-22T13:01:15.829059",
     "exception": false,
     "start_time": "2020-08-22T13:01:14.460142",
     "status": "completed"
    },
    "tags": []
   },
   "outputs": [],
   "source": [
    "train_tokenized = tk.texts_to_sequences(train['text'].fillna('missing'))\n",
    "test_tokenized = tk.texts_to_sequences(test['text'].fillna('missing'))"
   ]
  },
  {
   "cell_type": "code",
   "execution_count": 25,
   "metadata": {
    "execution": {
     "iopub.execute_input": "2020-08-22T13:01:18.139693Z",
     "iopub.status.busy": "2020-08-22T13:01:18.138815Z",
     "iopub.status.idle": "2020-08-22T13:01:18.591803Z",
     "shell.execute_reply": "2020-08-22T13:01:18.591165Z"
    },
    "papermill": {
     "duration": 1.639154,
     "end_time": "2020-08-22T13:01:18.591930",
     "exception": false,
     "start_time": "2020-08-22T13:01:16.952776",
     "status": "completed"
    },
    "tags": []
   },
   "outputs": [],
   "source": [
    "train['text'].apply(lambda x: len(x.split())).plot(kind='hist');\n",
    "plt.yscale('log');\n",
    "plt.title('Distribution of  text length in characters');"
   ]
  },
  {
   "cell_type": "code",
   "execution_count": 26,
   "metadata": {
    "execution": {
     "iopub.execute_input": "2020-08-22T13:01:21.172979Z",
     "iopub.status.busy": "2020-08-22T13:01:21.168250Z",
     "iopub.status.idle": "2020-08-22T13:01:21.269061Z",
     "shell.execute_reply": "2020-08-22T13:01:21.267721Z"
    },
    "papermill": {
     "duration": 1.278519,
     "end_time": "2020-08-22T13:01:21.269167",
     "exception": false,
     "start_time": "2020-08-22T13:01:19.990648",
     "status": "completed"
    },
    "tags": []
   },
   "outputs": [],
   "source": [
    "max_len = 72\n",
    "maxlen = 72\n",
    "X_train = pad_sequences(train_tokenized, maxlen = max_len)\n",
    "X_test = pad_sequences(test_tokenized, maxlen = max_len)"
   ]
  },
  {
   "cell_type": "code",
   "execution_count": 27,
   "metadata": {
    "execution": {
     "iopub.execute_input": "2020-08-22T13:01:23.841807Z",
     "iopub.status.busy": "2020-08-22T13:01:23.840262Z",
     "iopub.status.idle": "2020-08-22T13:01:23.842679Z",
     "shell.execute_reply": "2020-08-22T13:01:23.843336Z"
    },
    "papermill": {
     "duration": 1.429605,
     "end_time": "2020-08-22T13:01:23.843469",
     "exception": false,
     "start_time": "2020-08-22T13:01:22.413864",
     "status": "completed"
    },
    "tags": []
   },
   "outputs": [],
   "source": [
    "y_train = train['target'].values"
   ]
  },
  {
   "cell_type": "code",
   "execution_count": 28,
   "metadata": {
    "execution": {
     "iopub.execute_input": "2020-08-22T13:01:26.307035Z",
     "iopub.status.busy": "2020-08-22T13:01:26.306354Z",
     "iopub.status.idle": "2020-08-22T13:01:26.310603Z",
     "shell.execute_reply": "2020-08-22T13:01:26.310017Z"
    },
    "papermill": {
     "duration": 1.330934,
     "end_time": "2020-08-22T13:01:26.310753",
     "exception": false,
     "start_time": "2020-08-22T13:01:24.979819",
     "status": "completed"
    },
    "tags": []
   },
   "outputs": [],
   "source": [
    "def sigmoid(x):\n",
    "    return 1 / (1 + np.exp(-x))"
   ]
  }
 ],
 "metadata": {
  "kernelspec": {
   "display_name": "Python 3",
   "language": "python",
   "name": "python3"
  },
  "language_info": {
   "codemirror_mode": {
    "name": "ipython",
    "version": 3
   },
   "file_extension": ".py",
   "mimetype": "text/x-python",
   "name": "python",
   "nbconvert_exporter": "python",
   "pygments_lexer": "ipython3",
   "version": "3.7.6"
  },
  "papermill": {
   "duration": 272.322275,
   "end_time": "2020-08-22T13:01:29.425356",
   "environment_variables": {},
   "exception": null,
   "input_path": "__notebook__.ipynb",
   "output_path": "__notebook__.ipynb",
   "parameters": {},
   "start_time": "2020-08-22T12:56:57.103081",
   "version": "2.1.0"
  }
 },
 "nbformat": 4,
 "nbformat_minor": 4
}
