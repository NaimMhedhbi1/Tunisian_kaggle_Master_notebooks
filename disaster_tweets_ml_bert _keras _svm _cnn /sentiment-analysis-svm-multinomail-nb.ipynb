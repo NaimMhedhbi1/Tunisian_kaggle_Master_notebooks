{
 "cells": [
  {
   "cell_type": "code",
   "execution_count": 1,
   "metadata": {
    "execution": {
     "iopub.execute_input": "2020-08-29T01:10:36.154647Z",
     "iopub.status.busy": "2020-08-29T01:10:36.154027Z",
     "iopub.status.idle": "2020-08-29T01:11:04.717789Z",
     "shell.execute_reply": "2020-08-29T01:11:04.716400Z"
    },
    "id": "_naUAe9QwFRs",
    "papermill": {
     "duration": 28.590753,
     "end_time": "2020-08-29T01:11:04.717927",
     "exception": false,
     "start_time": "2020-08-29T01:10:36.127174",
     "status": "completed"
    },
    "tags": []
   },
   "outputs": [],
   "source": [
    "import io \n",
    "import pandas as pd\n",
    "trainG = pd.read_excel('../input/train-test-sentiment-analysis/trainG_clean.xlsx')\n",
    "test = pd.read_excel('../input/train-test-sentiment-analysis/test_clean.xlsx') "
   ]
  },
  {
   "cell_type": "code",
   "execution_count": 2,
   "metadata": {
    "execution": {
     "iopub.execute_input": "2020-08-29T01:11:04.808027Z",
     "iopub.status.busy": "2020-08-29T01:11:04.807091Z",
     "iopub.status.idle": "2020-08-29T01:11:04.816322Z",
     "shell.execute_reply": "2020-08-29T01:11:04.816859Z"
    },
    "id": "ET8GEXgEX7ef",
    "outputId": "cde56f1e-9030-4c44-d1d2-ee2af986abca",
    "papermill": {
     "duration": 0.075853,
     "end_time": "2020-08-29T01:11:04.816993",
     "exception": false,
     "start_time": "2020-08-29T01:11:04.741140",
     "status": "completed"
    },
    "tags": []
   },
   "outputs": [
    {
     "data": {
      "text/html": [
       "<div>\n",
       "<style scoped>\n",
       "    .dataframe tbody tr th:only-of-type {\n",
       "        vertical-align: middle;\n",
       "    }\n",
       "\n",
       "    .dataframe tbody tr th {\n",
       "        vertical-align: top;\n",
       "    }\n",
       "\n",
       "    .dataframe thead th {\n",
       "        text-align: right;\n",
       "    }\n",
       "</style>\n",
       "<table border=\"1\" class=\"dataframe\">\n",
       "  <thead>\n",
       "    <tr style=\"text-align: right;\">\n",
       "      <th></th>\n",
       "      <th>ItemID</th>\n",
       "      <th>Sentiment</th>\n",
       "      <th>SentimentText</th>\n",
       "    </tr>\n",
       "  </thead>\n",
       "  <tbody>\n",
       "    <tr>\n",
       "      <th>0</th>\n",
       "      <td>1</td>\n",
       "      <td>0</td>\n",
       "      <td>is so sad for my apl frie...</td>\n",
       "    </tr>\n",
       "    <tr>\n",
       "      <th>1</th>\n",
       "      <td>2</td>\n",
       "      <td>0</td>\n",
       "      <td>i missed the new moon trail...</td>\n",
       "    </tr>\n",
       "    <tr>\n",
       "      <th>2</th>\n",
       "      <td>3</td>\n",
       "      <td>1</td>\n",
       "      <td>omg its already       o</td>\n",
       "    </tr>\n",
       "    <tr>\n",
       "      <th>3</th>\n",
       "      <td>4</td>\n",
       "      <td>0</td>\n",
       "      <td>omgaga  im sooo  im gunna cry  i'...</td>\n",
       "    </tr>\n",
       "    <tr>\n",
       "      <th>4</th>\n",
       "      <td>5</td>\n",
       "      <td>0</td>\n",
       "      <td>i think mi bf is cheating on me      ...</td>\n",
       "    </tr>\n",
       "    <tr>\n",
       "      <th>...</th>\n",
       "      <td>...</td>\n",
       "      <td>...</td>\n",
       "      <td>...</td>\n",
       "    </tr>\n",
       "    <tr>\n",
       "      <th>75175</th>\n",
       "      <td>99995</td>\n",
       "      <td>0</td>\n",
       "      <td>cupati it took me waaay too long to get your ...</td>\n",
       "    </tr>\n",
       "    <tr>\n",
       "      <th>75176</th>\n",
       "      <td>99996</td>\n",
       "      <td>0</td>\n",
       "      <td>cupcake  seems like a repeating problem   hop...</td>\n",
       "    </tr>\n",
       "    <tr>\n",
       "      <th>75177</th>\n",
       "      <td>99998</td>\n",
       "      <td>0</td>\n",
       "      <td>cupcake      ya i thought so</td>\n",
       "    </tr>\n",
       "    <tr>\n",
       "      <th>75178</th>\n",
       "      <td>99999</td>\n",
       "      <td>1</td>\n",
       "      <td>cupcake dollie yes  yes  i'm glad you had mor...</td>\n",
       "    </tr>\n",
       "    <tr>\n",
       "      <th>75179</th>\n",
       "      <td>100000</td>\n",
       "      <td>1</td>\n",
       "      <td>cupcake kayla haha yes you do</td>\n",
       "    </tr>\n",
       "  </tbody>\n",
       "</table>\n",
       "<p>75180 rows × 3 columns</p>\n",
       "</div>"
      ],
      "text/plain": [
       "       ItemID  Sentiment                                      SentimentText\n",
       "0           1          0                       is so sad for my apl frie...\n",
       "1           2          0                     i missed the new moon trail...\n",
       "2           3          1                omg its already       o            \n",
       "3           4          0               omgaga  im sooo  im gunna cry  i'...\n",
       "4           5          0           i think mi bf is cheating on me      ...\n",
       "...       ...        ...                                                ...\n",
       "75175   99995          0   cupati it took me waaay too long to get your ...\n",
       "75176   99996          0   cupcake  seems like a repeating problem   hop...\n",
       "75177   99998          0          cupcake      ya i thought so             \n",
       "75178   99999          1   cupcake dollie yes  yes  i'm glad you had mor...\n",
       "75179  100000          1         cupcake kayla haha yes you do             \n",
       "\n",
       "[75180 rows x 3 columns]"
      ]
     },
     "execution_count": 2,
     "metadata": {},
     "output_type": "execute_result"
    }
   ],
   "source": [
    "trainG"
   ]
  },
  {
   "cell_type": "code",
   "execution_count": 3,
   "metadata": {
    "execution": {
     "iopub.execute_input": "2020-08-29T01:11:04.864386Z",
     "iopub.status.busy": "2020-08-29T01:11:04.862457Z",
     "iopub.status.idle": "2020-08-29T01:11:05.078163Z",
     "shell.execute_reply": "2020-08-29T01:11:05.077632Z"
    },
    "id": "vg0jeXt5X9dc",
    "outputId": "907a2711-768a-4aeb-aa3e-e22efaad68b9",
    "papermill": {
     "duration": 0.240552,
     "end_time": "2020-08-29T01:11:05.078277",
     "exception": false,
     "start_time": "2020-08-29T01:11:04.837725",
     "status": "completed"
    },
    "tags": []
   },
   "outputs": [
    {
     "data": {
      "text/html": [
       "<div>\n",
       "<style scoped>\n",
       "    .dataframe tbody tr th:only-of-type {\n",
       "        vertical-align: middle;\n",
       "    }\n",
       "\n",
       "    .dataframe tbody tr th {\n",
       "        vertical-align: top;\n",
       "    }\n",
       "\n",
       "    .dataframe thead th {\n",
       "        text-align: right;\n",
       "    }\n",
       "</style>\n",
       "<table border=\"1\" class=\"dataframe\">\n",
       "  <thead>\n",
       "    <tr style=\"text-align: right;\">\n",
       "      <th></th>\n",
       "      <th>ItemID</th>\n",
       "      <th>SentimentText</th>\n",
       "    </tr>\n",
       "  </thead>\n",
       "  <tbody>\n",
       "    <tr>\n",
       "      <th>0</th>\n",
       "      <td>1</td>\n",
       "      <td>is so sad for my APL frien...</td>\n",
       "    </tr>\n",
       "    <tr>\n",
       "      <th>1</th>\n",
       "      <td>2</td>\n",
       "      <td>httI missed the New Moon tr...</td>\n",
       "    </tr>\n",
       "    <tr>\n",
       "      <th>2</th>\n",
       "      <td>3</td>\n",
       "      <td>omg its already 7:30 :O;;;;;;;;;...</td>\n",
       "    </tr>\n",
       "    <tr>\n",
       "      <th>3</th>\n",
       "      <td>4</td>\n",
       "      <td>.. Omgaga. Im sooo  im gunna CRy. I'...</td>\n",
       "    </tr>\n",
       "    <tr>\n",
       "      <th>4</th>\n",
       "      <td>5</td>\n",
       "      <td>i think mi bf is cheating on me!!!   ...</td>\n",
       "    </tr>\n",
       "    <tr>\n",
       "      <th>...</th>\n",
       "      <td>...</td>\n",
       "      <td>...</td>\n",
       "    </tr>\n",
       "    <tr>\n",
       "      <th>299037</th>\n",
       "      <td>299993</td>\n",
       "      <td>@MartinDubow Welcome to my friends list and th...</td>\n",
       "    </tr>\n",
       "    <tr>\n",
       "      <th>299038</th>\n",
       "      <td>299994</td>\n",
       "      <td>@MartinDubow yeah and I envy u. ;;;;;;;;;;;;;;...</td>\n",
       "    </tr>\n",
       "    <tr>\n",
       "      <th>299042</th>\n",
       "      <td>299998</td>\n",
       "      <td>@MartinezMayra I got u at work when I go buy o...</td>\n",
       "    </tr>\n",
       "    <tr>\n",
       "      <th>299043</th>\n",
       "      <td>299999</td>\n",
       "      <td>@martinfaux He certainly gives good interview ...</td>\n",
       "    </tr>\n",
       "    <tr>\n",
       "      <th>299044</th>\n",
       "      <td>300000</td>\n",
       "      <td>@martinfaux we've the feedback about our brows...</td>\n",
       "    </tr>\n",
       "  </tbody>\n",
       "</table>\n",
       "<p>223598 rows × 2 columns</p>\n",
       "</div>"
      ],
      "text/plain": [
       "        ItemID                                      SentimentText\n",
       "0            1                      is so sad for my APL frien...\n",
       "1            2                     httI missed the New Moon tr...\n",
       "2            3                omg its already 7:30 :O;;;;;;;;;...\n",
       "3            4            .. Omgaga. Im sooo  im gunna CRy. I'...\n",
       "4            5           i think mi bf is cheating on me!!!   ...\n",
       "...        ...                                                ...\n",
       "299037  299993  @MartinDubow Welcome to my friends list and th...\n",
       "299038  299994  @MartinDubow yeah and I envy u. ;;;;;;;;;;;;;;...\n",
       "299042  299998  @MartinezMayra I got u at work when I go buy o...\n",
       "299043  299999  @martinfaux He certainly gives good interview ...\n",
       "299044  300000  @martinfaux we've the feedback about our brows...\n",
       "\n",
       "[223598 rows x 2 columns]"
      ]
     },
     "execution_count": 3,
     "metadata": {},
     "output_type": "execute_result"
    }
   ],
   "source": [
    "test = test[test['ItemID'].map(len) < 10]\n",
    "test"
   ]
  },
  {
   "cell_type": "code",
   "execution_count": 4,
   "metadata": {
    "execution": {
     "iopub.execute_input": "2020-08-29T01:11:05.128771Z",
     "iopub.status.busy": "2020-08-29T01:11:05.127920Z",
     "iopub.status.idle": "2020-08-29T01:11:05.161469Z",
     "shell.execute_reply": "2020-08-29T01:11:05.160952Z"
    },
    "id": "w6H99b63YNBn",
    "outputId": "518af60b-9f02-4817-9e21-22413c0142ce",
    "papermill": {
     "duration": 0.060867,
     "end_time": "2020-08-29T01:11:05.161593",
     "exception": false,
     "start_time": "2020-08-29T01:11:05.100726",
     "status": "completed"
    },
    "tags": []
   },
   "outputs": [
    {
     "name": "stdout",
     "output_type": "stream",
     "text": [
      "Sentiment        False\n",
      "SentimentText    False\n",
      "dtype: bool\n",
      "<class 'numpy.int64'>\n"
     ]
    },
    {
     "data": {
      "text/plain": [
       "0    0\n",
       "1    0\n",
       "2    1\n",
       "3    0\n",
       "4    0\n",
       "Name: label_id, dtype: int8"
      ]
     },
     "execution_count": 4,
     "metadata": {},
     "output_type": "execute_result"
    }
   ],
   "source": [
    "data = trainG.copy()\n",
    "data.drop('ItemID', axis=1, inplace=True)\n",
    "print(data.isnull().any())\n",
    "data['Sentiment'] = data['Sentiment'].astype('category')\n",
    "print(type(data['Sentiment'][0]))\n",
    "data['label_id'] = data['Sentiment'].cat.codes\n",
    "data['label_id'].head()"
   ]
  },
  {
   "cell_type": "code",
   "execution_count": 5,
   "metadata": {
    "execution": {
     "iopub.execute_input": "2020-08-29T01:11:05.235833Z",
     "iopub.status.busy": "2020-08-29T01:11:05.213602Z",
     "iopub.status.idle": "2020-08-29T01:11:09.874754Z",
     "shell.execute_reply": "2020-08-29T01:11:09.873416Z"
    },
    "id": "X39SHk4Yhk7b",
    "papermill": {
     "duration": 4.690735,
     "end_time": "2020-08-29T01:11:09.874872",
     "exception": false,
     "start_time": "2020-08-29T01:11:05.184137",
     "status": "completed"
    },
    "tags": []
   },
   "outputs": [],
   "source": [
    "import re\n",
    "\n",
    "REPLACE_NO_SPACE = re.compile(\"[.;:!\\'?,\\\"()\\[\\]]\")\n",
    "REPLACE_WITH_SPACE = re.compile(\"(<br\\s*/><br\\s*/>)|(\\-)|(\\/)\")\n",
    "\n",
    "def preprocess_reviews(reviews):\n",
    "    reviews = [REPLACE_NO_SPACE.sub(\"\", line.lower()) for line in reviews]\n",
    "    reviews = [REPLACE_WITH_SPACE.sub(\" \", line) for line in reviews]\n",
    "    \n",
    "    return reviews\n",
    "\n",
    "data['SentimentText']  = data['SentimentText'].astype(str)\n",
    "test['SentimentText'] = test['SentimentText'].astype(str)\n",
    "data['SentimentText'] = preprocess_reviews(data['SentimentText'])\n",
    "\n",
    "test['SentimentText'] = preprocess_reviews(test['SentimentText'])"
   ]
  },
  {
   "cell_type": "code",
   "execution_count": 6,
   "metadata": {
    "execution": {
     "iopub.execute_input": "2020-08-29T01:11:09.927326Z",
     "iopub.status.busy": "2020-08-29T01:11:09.926429Z",
     "iopub.status.idle": "2020-08-29T01:11:10.855061Z",
     "shell.execute_reply": "2020-08-29T01:11:10.854101Z"
    },
    "id": "8vGZix2kjS2w",
    "papermill": {
     "duration": 0.957036,
     "end_time": "2020-08-29T01:11:10.855177",
     "exception": false,
     "start_time": "2020-08-29T01:11:09.898141",
     "status": "completed"
    },
    "tags": []
   },
   "outputs": [],
   "source": [
    "from sklearn import svm\n",
    "from sklearn.feature_extraction.text import CountVectorizer\n",
    "from sklearn.feature_extraction.text import TfidfVectorizer\n",
    "from sklearn import metrics\n",
    "from sklearn.metrics import classification_report,accuracy_score\n",
    "import six.moves.cPickle as pickle\n"
   ]
  },
  {
   "cell_type": "code",
   "execution_count": 7,
   "metadata": {
    "execution": {
     "iopub.execute_input": "2020-08-29T01:11:10.905028Z",
     "iopub.status.busy": "2020-08-29T01:11:10.904220Z",
     "iopub.status.idle": "2020-08-29T01:11:12.395829Z",
     "shell.execute_reply": "2020-08-29T01:11:12.394432Z"
    },
    "id": "tUNLyv6zjteU",
    "papermill": {
     "duration": 1.518639,
     "end_time": "2020-08-29T01:11:12.395951",
     "exception": false,
     "start_time": "2020-08-29T01:11:10.877312",
     "status": "completed"
    },
    "tags": []
   },
   "outputs": [],
   "source": [
    "\n",
    "import numpy as np \n",
    "import pandas as pd\n",
    "\n",
    "import spacy\n",
    "from spacy.matcher import Matcher\n",
    "from spacy.tokens import Span\n",
    "from spacy import displacy"
   ]
  },
  {
   "cell_type": "code",
   "execution_count": 8,
   "metadata": {
    "execution": {
     "iopub.execute_input": "2020-08-29T01:11:12.444404Z",
     "iopub.status.busy": "2020-08-29T01:11:12.443561Z",
     "iopub.status.idle": "2020-08-29T01:11:13.725879Z",
     "shell.execute_reply": "2020-08-29T01:11:13.725327Z"
    },
    "id": "OmrLZh-EkP4W",
    "papermill": {
     "duration": 1.307783,
     "end_time": "2020-08-29T01:11:13.726005",
     "exception": false,
     "start_time": "2020-08-29T01:11:12.418222",
     "status": "completed"
    },
    "tags": []
   },
   "outputs": [],
   "source": [
    "nlp=spacy.load(\"en_core_web_sm\")"
   ]
  },
  {
   "cell_type": "code",
   "execution_count": 9,
   "metadata": {
    "execution": {
     "iopub.execute_input": "2020-08-29T01:11:13.779796Z",
     "iopub.status.busy": "2020-08-29T01:11:13.779026Z",
     "iopub.status.idle": "2020-08-29T01:11:13.782254Z",
     "shell.execute_reply": "2020-08-29T01:11:13.781780Z"
    },
    "id": "O_XNV0KFmJxo",
    "papermill": {
     "duration": 0.033711,
     "end_time": "2020-08-29T01:11:13.782364",
     "exception": false,
     "start_time": "2020-08-29T01:11:13.748653",
     "status": "completed"
    },
    "tags": []
   },
   "outputs": [],
   "source": [
    "from spacy.lang.en.stop_words import STOP_WORDS\n",
    "stopwords = list(STOP_WORDS)\n",
    "import string\n",
    "punct=string.punctuation\n",
    "\n",
    "def text_data_cleaning(sentence):\n",
    "    doc = nlp(sentence)\n",
    "    \n",
    "    tokens = []\n",
    "    for token in doc:\n",
    "        if token.lemma_ != \"-PRON-\":\n",
    "            temp = token.lemma_.lower().strip()\n",
    "        else:\n",
    "            temp = token.lower_\n",
    "        tokens.append(temp)\n",
    "    \n",
    "    cleaned_tokens = []\n",
    "    for token in tokens:\n",
    "        if token not in stopwords and token not in punct:\n",
    "            cleaned_tokens.append(token)\n",
    "    return cleaned_tokens"
   ]
  },
  {
   "cell_type": "code",
   "execution_count": 10,
   "metadata": {
    "execution": {
     "iopub.execute_input": "2020-08-29T01:11:13.831652Z",
     "iopub.status.busy": "2020-08-29T01:11:13.831050Z",
     "iopub.status.idle": "2020-08-29T01:11:13.836150Z",
     "shell.execute_reply": "2020-08-29T01:11:13.836628Z"
    },
    "id": "S08YdKKEmP-c",
    "papermill": {
     "duration": 0.032278,
     "end_time": "2020-08-29T01:11:13.836750",
     "exception": false,
     "start_time": "2020-08-29T01:11:13.804472",
     "status": "completed"
    },
    "tags": []
   },
   "outputs": [],
   "source": [
    "from sklearn.svm import LinearSVC\n",
    "from sklearn.feature_extraction.text import TfidfVectorizer\n",
    "from sklearn.pipeline import Pipeline\n",
    "from sklearn.model_selection import train_test_split\n",
    "from sklearn.metrics import accuracy_score, classification_report, confusion_matrix"
   ]
  },
  {
   "cell_type": "code",
   "execution_count": 11,
   "metadata": {
    "execution": {
     "iopub.execute_input": "2020-08-29T01:11:13.886095Z",
     "iopub.status.busy": "2020-08-29T01:11:13.885452Z",
     "iopub.status.idle": "2020-08-29T01:11:13.889602Z",
     "shell.execute_reply": "2020-08-29T01:11:13.889118Z"
    },
    "id": "9g7pgcvgmS4U",
    "papermill": {
     "duration": 0.030289,
     "end_time": "2020-08-29T01:11:13.889699",
     "exception": false,
     "start_time": "2020-08-29T01:11:13.859410",
     "status": "completed"
    },
    "tags": []
   },
   "outputs": [],
   "source": [
    "tfidf = TfidfVectorizer(tokenizer = text_data_cleaning)\n",
    "classifier = LinearSVC()"
   ]
  },
  {
   "cell_type": "code",
   "execution_count": 12,
   "metadata": {
    "execution": {
     "iopub.execute_input": "2020-08-29T01:11:13.942924Z",
     "iopub.status.busy": "2020-08-29T01:11:13.941112Z",
     "iopub.status.idle": "2020-08-29T01:11:13.943685Z",
     "shell.execute_reply": "2020-08-29T01:11:13.944181Z"
    },
    "id": "0g-yT2jomWNM",
    "papermill": {
     "duration": 0.03114,
     "end_time": "2020-08-29T01:11:13.944288",
     "exception": false,
     "start_time": "2020-08-29T01:11:13.913148",
     "status": "completed"
    },
    "tags": []
   },
   "outputs": [],
   "source": [
    "x = trainG['SentimentText']\n",
    "y = trainG['Sentiment']"
   ]
  },
  {
   "cell_type": "code",
   "execution_count": 13,
   "metadata": {
    "execution": {
     "iopub.execute_input": "2020-08-29T01:11:13.995601Z",
     "iopub.status.busy": "2020-08-29T01:11:13.994983Z",
     "iopub.status.idle": "2020-08-29T01:11:14.009486Z",
     "shell.execute_reply": "2020-08-29T01:11:14.009006Z"
    },
    "id": "uQO2A2eMmft8",
    "papermill": {
     "duration": 0.041963,
     "end_time": "2020-08-29T01:11:14.009603",
     "exception": false,
     "start_time": "2020-08-29T01:11:13.967640",
     "status": "completed"
    },
    "tags": []
   },
   "outputs": [],
   "source": [
    "X_train, X_test, y_train, y_test = train_test_split(x, y, test_size = 0.2, random_state = 42)"
   ]
  },
  {
   "cell_type": "code",
   "execution_count": 14,
   "metadata": {
    "execution": {
     "iopub.execute_input": "2020-08-29T01:11:14.062239Z",
     "iopub.status.busy": "2020-08-29T01:11:14.060932Z",
     "iopub.status.idle": "2020-08-29T01:11:14.063528Z",
     "shell.execute_reply": "2020-08-29T01:11:14.064001Z"
    },
    "id": "eIos2MLOmjkE",
    "papermill": {
     "duration": 0.031214,
     "end_time": "2020-08-29T01:11:14.064111",
     "exception": false,
     "start_time": "2020-08-29T01:11:14.032897",
     "status": "completed"
    },
    "tags": []
   },
   "outputs": [],
   "source": [
    "clf = Pipeline([('tfidf', tfidf), ('clf', classifier)])"
   ]
  },
  {
   "cell_type": "code",
   "execution_count": 15,
   "metadata": {
    "execution": {
     "iopub.execute_input": "2020-08-29T01:11:14.120747Z",
     "iopub.status.busy": "2020-08-29T01:11:14.120060Z",
     "iopub.status.idle": "2020-08-29T01:19:20.848066Z",
     "shell.execute_reply": "2020-08-29T01:19:20.848592Z"
    },
    "id": "0OFwoWBbml91",
    "outputId": "2880cc9f-583d-450b-dd85-c271e420c634",
    "papermill": {
     "duration": 486.761528,
     "end_time": "2020-08-29T01:19:20.848765",
     "exception": false,
     "start_time": "2020-08-29T01:11:14.087237",
     "status": "completed"
    },
    "tags": []
   },
   "outputs": [
    {
     "data": {
      "text/plain": [
       "Pipeline(steps=[('tfidf',\n",
       "                 TfidfVectorizer(tokenizer=<function text_data_cleaning at 0x7f610374acb0>)),\n",
       "                ('clf', LinearSVC())])"
      ]
     },
     "execution_count": 15,
     "metadata": {},
     "output_type": "execute_result"
    }
   ],
   "source": [
    "clf.fit(X_train,y_train)"
   ]
  },
  {
   "cell_type": "code",
   "execution_count": 16,
   "metadata": {
    "execution": {
     "iopub.execute_input": "2020-08-29T01:19:20.902424Z",
     "iopub.status.busy": "2020-08-29T01:19:20.901455Z",
     "iopub.status.idle": "2020-08-29T01:21:20.536202Z",
     "shell.execute_reply": "2020-08-29T01:21:20.537341Z"
    },
    "id": "dL4zxaIumpVM",
    "papermill": {
     "duration": 119.664802,
     "end_time": "2020-08-29T01:21:20.537563",
     "exception": false,
     "start_time": "2020-08-29T01:19:20.872761",
     "status": "completed"
    },
    "tags": []
   },
   "outputs": [],
   "source": [
    "y_pred = clf.predict(X_test)"
   ]
  },
  {
   "cell_type": "code",
   "execution_count": 17,
   "metadata": {
    "execution": {
     "iopub.execute_input": "2020-08-29T01:21:20.617569Z",
     "iopub.status.busy": "2020-08-29T01:21:20.616680Z",
     "iopub.status.idle": "2020-08-29T01:21:20.673388Z",
     "shell.execute_reply": "2020-08-29T01:21:20.674632Z"
    },
    "id": "Lot7KaDOmrxN",
    "outputId": "8e3d9aa1-b9e5-41cd-c5f9-5d2240b3f689",
    "papermill": {
     "duration": 0.102109,
     "end_time": "2020-08-29T01:21:20.674821",
     "exception": false,
     "start_time": "2020-08-29T01:21:20.572712",
     "status": "completed"
    },
    "tags": []
   },
   "outputs": [
    {
     "name": "stdout",
     "output_type": "stream",
     "text": [
      "              precision    recall  f1-score   support\n",
      "\n",
      "           0       0.70      0.67      0.69      6692\n",
      "           1       0.75      0.77      0.76      8344\n",
      "\n",
      "    accuracy                           0.73     15036\n",
      "   macro avg       0.73      0.72      0.72     15036\n",
      "weighted avg       0.73      0.73      0.73     15036\n",
      "\n"
     ]
    }
   ],
   "source": [
    "print(classification_report(y_test, y_pred))"
   ]
  },
  {
   "cell_type": "code",
   "execution_count": null,
   "metadata": {
    "id": "yudpauAomtjd",
    "papermill": {
     "duration": null,
     "end_time": null,
     "exception": false,
     "start_time": "2020-08-29T01:21:20.715195",
     "status": "running"
    },
    "tags": []
   },
   "outputs": [],
   "source": [
    "y_pred=clf.predict(test['SentimentText'])"
   ]
  },
  {
   "cell_type": "code",
   "execution_count": null,
   "metadata": {
    "id": "JZfBCdLOzP4p",
    "outputId": "38a1045e-849e-47f6-b3ce-16d58d7e2172",
    "papermill": {
     "duration": null,
     "end_time": null,
     "exception": null,
     "start_time": null,
     "status": "pending"
    },
    "tags": []
   },
   "outputs": [],
   "source": [
    "y_pred"
   ]
  },
  {
   "cell_type": "code",
   "execution_count": null,
   "metadata": {
    "id": "DZqCwVIKzix1",
    "outputId": "ca9e8fe7-2c28-4e98-8658-79ea920857c3",
    "papermill": {
     "duration": null,
     "end_time": null,
     "exception": null,
     "start_time": null,
     "status": "pending"
    },
    "tags": []
   },
   "outputs": [],
   "source": [
    "y_pred[1]"
   ]
  },
  {
   "cell_type": "code",
   "execution_count": null,
   "metadata": {
    "id": "aircxMW8mx_v",
    "papermill": {
     "duration": null,
     "end_time": null,
     "exception": null,
     "start_time": null,
     "status": "pending"
    },
    "tags": []
   },
   "outputs": [],
   "source": [
    "sub_file=pd.DataFrame({'id':test['ItemID'],'target':y_pred.round().astype(int)})"
   ]
  },
  {
   "cell_type": "code",
   "execution_count": null,
   "metadata": {
    "id": "_qaHjcsDx8Tu",
    "papermill": {
     "duration": null,
     "end_time": null,
     "exception": null,
     "start_time": null,
     "status": "pending"
    },
    "tags": []
   },
   "outputs": [],
   "source": [
    "prediction = list() \n",
    "for i in range(len(test['SentimentText'])):\n",
    "  prediction.append(y_pred[i]) \n",
    "\n",
    "\n",
    "test['prediction'] = prediction  "
   ]
  },
  {
   "cell_type": "code",
   "execution_count": null,
   "metadata": {
    "id": "KbmEqNFXnJib",
    "outputId": "f1bf1552-575e-4525-e0f8-f586c2641652",
    "papermill": {
     "duration": null,
     "end_time": null,
     "exception": null,
     "start_time": null,
     "status": "pending"
    },
    "tags": []
   },
   "outputs": [],
   "source": [
    "\n",
    "\n",
    "test.to_excel('resultat_SVM.xlsx' , index=False)\n"
   ]
  },
  {
   "cell_type": "markdown",
   "execution_count": null,
   "metadata": {
    "id": "70smPchzXlCS",
    "papermill": {
     "duration": null,
     "end_time": null,
     "exception": null,
     "start_time": null,
     "status": "pending"
    },
    "tags": []
   },
   "source": [
    " Another Model : Naive bayes "
   ]
  },
  {
   "cell_type": "code",
   "execution_count": null,
   "metadata": {
    "id": "Op99vavoWCn5",
    "papermill": {
     "duration": null,
     "end_time": null,
     "exception": null,
     "start_time": null,
     "status": "pending"
    },
    "tags": []
   },
   "outputs": [],
   "source": [
    "import pandas as pd\n",
    "import numpy as np\n",
    "import matplotlib.pyplot as plt\n",
    "from wordcloud import WordCloud\n",
    "from sklearn.model_selection import train_test_split\n",
    "from sklearn.feature_extraction.text import TfidfVectorizer\n",
    "import pickle\n",
    "from multiprocessing import Pool"
   ]
  },
  {
   "cell_type": "code",
   "execution_count": null,
   "metadata": {
    "id": "E4vaKyZWXsQA",
    "papermill": {
     "duration": null,
     "end_time": null,
     "exception": null,
     "start_time": null,
     "status": "pending"
    },
    "tags": []
   },
   "outputs": [],
   "source": [
    "tfidf = TfidfVectorizer(encoding='utf-8',\n",
    "                       ngram_range=(1,3),\n",
    "                       max_df=1.0,\n",
    "                       min_df=10,\n",
    "                       max_features=500,\n",
    "                       norm='l2',\n",
    "                       sublinear_tf=True)"
   ]
  },
  {
   "cell_type": "code",
   "execution_count": null,
   "metadata": {
    "id": "bSWsYYnuXx4G",
    "outputId": "93fb4990-8fbc-4163-8732-1b336806b79e",
    "papermill": {
     "duration": null,
     "end_time": null,
     "exception": null,
     "start_time": null,
     "status": "pending"
    },
    "tags": []
   },
   "outputs": [],
   "source": [
    "train_features = tfidf.fit_transform(X_train).toarray()\n",
    "print(train_features.shape)"
   ]
  },
  {
   "cell_type": "code",
   "execution_count": null,
   "metadata": {
    "id": "ieasO4CpYip_",
    "outputId": "0cb5f978-378c-454c-c70e-9d43d4c87c51",
    "papermill": {
     "duration": null,
     "end_time": null,
     "exception": null,
     "start_time": null,
     "status": "pending"
    },
    "tags": []
   },
   "outputs": [],
   "source": [
    "test_features = tfidf.transform(X_test).toarray()\n",
    "print(test_features.shape)"
   ]
  },
  {
   "cell_type": "code",
   "execution_count": null,
   "metadata": {
    "id": "a29M6EljYjRT",
    "papermill": {
     "duration": null,
     "end_time": null,
     "exception": null,
     "start_time": null,
     "status": "pending"
    },
    "tags": []
   },
   "outputs": [],
   "source": [
    "train_labels = y_train\n",
    "test_labels = y_test"
   ]
  },
  {
   "cell_type": "code",
   "execution_count": null,
   "metadata": {
    "id": "m4ED_o6bYmwL",
    "papermill": {
     "duration": null,
     "end_time": null,
     "exception": null,
     "start_time": null,
     "status": "pending"
    },
    "tags": []
   },
   "outputs": [],
   "source": [
    "import pandas as pd\n",
    "from sklearn.naive_bayes import MultinomialNB\n",
    "from sklearn.metrics import classification_report, confusion_matrix, accuracy_score"
   ]
  },
  {
   "cell_type": "code",
   "execution_count": null,
   "metadata": {
    "id": "9DxMqwKMZcDL",
    "papermill": {
     "duration": null,
     "end_time": null,
     "exception": null,
     "start_time": null,
     "status": "pending"
    },
    "tags": []
   },
   "outputs": [],
   "source": [
    "mnb_classifier = MultinomialNB()"
   ]
  },
  {
   "cell_type": "code",
   "execution_count": null,
   "metadata": {
    "id": "dOy153DDZgJE",
    "outputId": "69b06a3c-2bdc-4ca5-8931-7c1785fbf650",
    "papermill": {
     "duration": null,
     "end_time": null,
     "exception": null,
     "start_time": null,
     "status": "pending"
    },
    "tags": []
   },
   "outputs": [],
   "source": [
    "mnb_classifier.fit(train_features, train_labels)"
   ]
  },
  {
   "cell_type": "code",
   "execution_count": null,
   "metadata": {
    "id": "y_EmuOIRZhZ1",
    "papermill": {
     "duration": null,
     "end_time": null,
     "exception": null,
     "start_time": null,
     "status": "pending"
    },
    "tags": []
   },
   "outputs": [],
   "source": [
    "mnb_prediction = mnb_classifier.predict(test_features)"
   ]
  },
  {
   "cell_type": "code",
   "execution_count": null,
   "metadata": {
    "id": "FXgyV_OsZuwm",
    "outputId": "9d7ad8e3-ee07-43b5-dc3d-0163018f834b",
    "papermill": {
     "duration": null,
     "end_time": null,
     "exception": null,
     "start_time": null,
     "status": "pending"
    },
    "tags": []
   },
   "outputs": [],
   "source": [
    "training_accuracy = accuracy_score(train_labels, mnb_classifier.predict(train_features))\n",
    "print(training_accuracy)"
   ]
  },
  {
   "cell_type": "code",
   "execution_count": null,
   "metadata": {
    "id": "HVe_7oItZ2q8",
    "outputId": "6a564f9d-49f9-4d4a-8681-283fa9daf52c",
    "papermill": {
     "duration": null,
     "end_time": null,
     "exception": null,
     "start_time": null,
     "status": "pending"
    },
    "tags": []
   },
   "outputs": [],
   "source": [
    "testing_accuracy = accuracy_score(test_labels, mnb_prediction)\n",
    "print(testing_accuracy)"
   ]
  },
  {
   "cell_type": "code",
   "execution_count": null,
   "metadata": {
    "id": "vKvf3cImZ6Pc",
    "outputId": "1c970d21-ca90-46f2-8003-fdd51f0c0ca0",
    "papermill": {
     "duration": null,
     "end_time": null,
     "exception": null,
     "start_time": null,
     "status": "pending"
    },
    "tags": []
   },
   "outputs": [],
   "source": [
    "print(classification_report(test_labels, mnb_prediction))"
   ]
  },
  {
   "cell_type": "code",
   "execution_count": null,
   "metadata": {
    "id": "gktTRojlZ7pu",
    "outputId": "06d74be0-d72d-474c-c6a1-0097db910af6",
    "papermill": {
     "duration": null,
     "end_time": null,
     "exception": null,
     "start_time": null,
     "status": "pending"
    },
    "tags": []
   },
   "outputs": [],
   "source": [
    "conf_matrix = confusion_matrix(test_labels, mnb_prediction)\n",
    "print(conf_matrix)"
   ]
  },
  {
   "cell_type": "code",
   "execution_count": null,
   "metadata": {
    "id": "eYVdgvoTZ_AH",
    "papermill": {
     "duration": null,
     "end_time": null,
     "exception": null,
     "start_time": null,
     "status": "pending"
    },
    "tags": []
   },
   "outputs": [],
   "source": [
    "test_vectorizer =tfidf.transform(test['SentimentText']).toarray()"
   ]
  },
  {
   "cell_type": "code",
   "execution_count": null,
   "metadata": {
    "id": "9hwqaV_6aGog",
    "outputId": "a6857111-cf27-40ba-cdaf-0a6370197649",
    "papermill": {
     "duration": null,
     "end_time": null,
     "exception": null,
     "start_time": null,
     "status": "pending"
    },
    "tags": []
   },
   "outputs": [],
   "source": [
    "test_vectorizer.shape"
   ]
  },
  {
   "cell_type": "code",
   "execution_count": null,
   "metadata": {
    "id": "ql5KvRRCaH2W",
    "papermill": {
     "duration": null,
     "end_time": null,
     "exception": null,
     "start_time": null,
     "status": "pending"
    },
    "tags": []
   },
   "outputs": [],
   "source": [
    "final_predictions = mnb_classifier.predict(test_vectorizer)"
   ]
  },
  {
   "cell_type": "code",
   "execution_count": null,
   "metadata": {
    "id": "R3jn85uiaKcj",
    "papermill": {
     "duration": null,
     "end_time": null,
     "exception": null,
     "start_time": null,
     "status": "pending"
    },
    "tags": []
   },
   "outputs": [],
   "source": [
    "submission_df = pd.DataFrame()"
   ]
  },
  {
   "cell_type": "code",
   "execution_count": null,
   "metadata": {
    "id": "oldHEoElaNVU",
    "papermill": {
     "duration": null,
     "end_time": null,
     "exception": null,
     "start_time": null,
     "status": "pending"
    },
    "tags": []
   },
   "outputs": [],
   "source": [
    "submission_df['Id'] = test['ItemID']\n",
    "submission_df['target'] = final_predictions"
   ]
  },
  {
   "cell_type": "code",
   "execution_count": null,
   "metadata": {
    "id": "G5M09OeGaRFM",
    "outputId": "fa3da713-862b-406b-8e95-d92275e18225",
    "papermill": {
     "duration": null,
     "end_time": null,
     "exception": null,
     "start_time": null,
     "status": "pending"
    },
    "tags": []
   },
   "outputs": [],
   "source": [
    "submission_df['target'].value_counts()"
   ]
  },
  {
   "cell_type": "code",
   "execution_count": null,
   "metadata": {
    "id": "PNa_T5_IaSqu",
    "outputId": "0bab13c7-32f8-4892-9015-c8ff54b30052",
    "papermill": {
     "duration": null,
     "end_time": null,
     "exception": null,
     "start_time": null,
     "status": "pending"
    },
    "tags": []
   },
   "outputs": [],
   "source": [
    "submission = submission_df.to_csv('resultat_NB.csv',index = False)\n"
   ]
  }
 ],
 "metadata": {
  "kernelspec": {
   "display_name": "Python 3",
   "language": "python",
   "name": "python3"
  },
  "language_info": {
   "codemirror_mode": {
    "name": "ipython",
    "version": 3
   },
   "file_extension": ".py",
   "mimetype": "text/x-python",
   "name": "python",
   "nbconvert_exporter": "python",
   "pygments_lexer": "ipython3",
   "version": "3.6.4"
  },
  "papermill": {
   "duration": null,
   "end_time": null,
   "environment_variables": {},
   "exception": null,
   "input_path": "__notebook__.ipynb",
   "output_path": "__notebook__.ipynb",
   "parameters": {},
   "start_time": "2020-08-29T01:10:31.788022",
   "version": "2.1.0"
  }
 },
 "nbformat": 4,
 "nbformat_minor": 4
}