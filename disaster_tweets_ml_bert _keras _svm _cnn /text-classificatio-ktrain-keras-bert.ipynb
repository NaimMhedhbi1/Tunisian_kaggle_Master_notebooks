{
 "cells": [
  {
   "cell_type": "markdown",
   "metadata": {
    "id": "NUWTI2kII0xB",
    "papermill": {
     "duration": 0.017285,
     "end_time": "2020-10-07T09:41:38.481469",
     "exception": false,
     "start_time": "2020-10-07T09:41:38.464184",
     "status": "completed"
    },
    "tags": []
   },
   "source": [
    "# **Supervised Learning code for Disaster Tweet Classification**\n",
    "\n",
    "✔✔✔\n",
    "\n",
    "Installing the libraries\n"
   ]
  },
  {
   "cell_type": "markdown",
   "metadata": {
    "papermill": {
     "duration": 0.015738,
     "end_time": "2020-10-07T09:41:38.513417",
     "exception": false,
     "start_time": "2020-10-07T09:41:38.497679",
     "status": "completed"
    },
    "tags": []
   },
   "source": [
    "**Multiclass Text Classification Using BERT and Keras****\n",
    "we will use ktrain (a lightweight wrapper around Keras) to build a model using the dataset employed in the scikit-learn tutorial: Working with Text Data.The objective is to accurately classify each text into one of these 2 classes. This will provide us an opportunity to see BERT in action on a relatively smaller training set."
   ]
  },
  {
   "cell_type": "code",
   "execution_count": 1,
   "metadata": {
    "execution": {
     "iopub.execute_input": "2020-10-07T09:41:38.550690Z",
     "iopub.status.busy": "2020-10-07T09:41:38.549725Z",
     "iopub.status.idle": "2020-10-07T09:42:07.242533Z",
     "shell.execute_reply": "2020-10-07T09:42:07.241823Z"
    },
    "id": "6Uu9dnNJuzk3",
    "outputId": "d75b824f-38cf-4fc0-9c9f-d1607d4929db",
    "papermill": {
     "duration": 28.713408,
     "end_time": "2020-10-07T09:42:07.242659",
     "exception": false,
     "start_time": "2020-10-07T09:41:38.529251",
     "status": "completed"
    },
    "tags": []
   },
   "outputs": [
    {
     "name": "stdout",
     "output_type": "stream",
     "text": [
      "Collecting ktrain==0.2.2\r\n",
      "  Downloading ktrain-0.2.2.tar.gz (43 kB)\r\n",
      "\u001b[K     |████████████████████████████████| 43 kB 110 kB/s \r\n",
      "\u001b[?25hRequirement already satisfied: keras>=2.2.4 in /opt/conda/lib/python3.7/site-packages (from ktrain==0.2.2) (2.4.3)\r\n",
      "Requirement already satisfied: scikit-learn>=0.20.0 in /opt/conda/lib/python3.7/site-packages (from ktrain==0.2.2) (0.23.2)\r\n",
      "Requirement already satisfied: matplotlib>=3.0.0 in /opt/conda/lib/python3.7/site-packages (from ktrain==0.2.2) (3.2.1)\r\n",
      "Requirement already satisfied: pandas>=0.24.2 in /opt/conda/lib/python3.7/site-packages (from ktrain==0.2.2) (1.1.2)\r\n",
      "Requirement already satisfied: fastprogress>=0.1.21 in /opt/conda/lib/python3.7/site-packages (from ktrain==0.2.2) (1.0.0)\r\n",
      "Collecting keras_bert\r\n",
      "  Downloading keras-bert-0.86.0.tar.gz (26 kB)\r\n",
      "Requirement already satisfied: requests in /opt/conda/lib/python3.7/site-packages (from ktrain==0.2.2) (2.23.0)\r\n",
      "Requirement already satisfied: h5py in /opt/conda/lib/python3.7/site-packages (from keras>=2.2.4->ktrain==0.2.2) (2.10.0)\r\n",
      "Requirement already satisfied: pyyaml in /opt/conda/lib/python3.7/site-packages (from keras>=2.2.4->ktrain==0.2.2) (5.3.1)\r\n",
      "Requirement already satisfied: numpy>=1.9.1 in /opt/conda/lib/python3.7/site-packages (from keras>=2.2.4->ktrain==0.2.2) (1.18.5)\r\n",
      "Requirement already satisfied: scipy>=0.14 in /opt/conda/lib/python3.7/site-packages (from keras>=2.2.4->ktrain==0.2.2) (1.4.1)\r\n",
      "Requirement already satisfied: threadpoolctl>=2.0.0 in /opt/conda/lib/python3.7/site-packages (from scikit-learn>=0.20.0->ktrain==0.2.2) (2.1.0)\r\n",
      "Requirement already satisfied: joblib>=0.11 in /opt/conda/lib/python3.7/site-packages (from scikit-learn>=0.20.0->ktrain==0.2.2) (0.14.1)\r\n",
      "Requirement already satisfied: python-dateutil>=2.1 in /opt/conda/lib/python3.7/site-packages (from matplotlib>=3.0.0->ktrain==0.2.2) (2.8.1)\r\n",
      "Requirement already satisfied: pyparsing!=2.0.4,!=2.1.2,!=2.1.6,>=2.0.1 in /opt/conda/lib/python3.7/site-packages (from matplotlib>=3.0.0->ktrain==0.2.2) (2.4.7)\r\n",
      "Requirement already satisfied: kiwisolver>=1.0.1 in /opt/conda/lib/python3.7/site-packages (from matplotlib>=3.0.0->ktrain==0.2.2) (1.2.0)\r\n",
      "Requirement already satisfied: cycler>=0.10 in /opt/conda/lib/python3.7/site-packages (from matplotlib>=3.0.0->ktrain==0.2.2) (0.10.0)\r\n",
      "Requirement already satisfied: pytz>=2017.2 in /opt/conda/lib/python3.7/site-packages (from pandas>=0.24.2->ktrain==0.2.2) (2019.3)\r\n",
      "Collecting keras-transformer>=0.38.0\r\n",
      "  Downloading keras-transformer-0.38.0.tar.gz (11 kB)\r\n",
      "Requirement already satisfied: chardet<4,>=3.0.2 in /opt/conda/lib/python3.7/site-packages (from requests->ktrain==0.2.2) (3.0.4)\r\n",
      "Requirement already satisfied: idna<3,>=2.5 in /opt/conda/lib/python3.7/site-packages (from requests->ktrain==0.2.2) (2.9)\r\n",
      "Requirement already satisfied: urllib3!=1.25.0,!=1.25.1,<1.26,>=1.21.1 in /opt/conda/lib/python3.7/site-packages (from requests->ktrain==0.2.2) (1.24.3)\r\n",
      "Requirement already satisfied: certifi>=2017.4.17 in /opt/conda/lib/python3.7/site-packages (from requests->ktrain==0.2.2) (2020.6.20)\r\n",
      "Requirement already satisfied: six in /opt/conda/lib/python3.7/site-packages (from h5py->keras>=2.2.4->ktrain==0.2.2) (1.14.0)\r\n",
      "Collecting keras-pos-embd>=0.11.0\r\n",
      "  Downloading keras-pos-embd-0.11.0.tar.gz (5.9 kB)\r\n",
      "Collecting keras-multi-head>=0.27.0\r\n",
      "  Downloading keras-multi-head-0.27.0.tar.gz (14 kB)\r\n",
      "Collecting keras-layer-normalization>=0.14.0\r\n",
      "  Downloading keras-layer-normalization-0.14.0.tar.gz (4.3 kB)\r\n",
      "Collecting keras-position-wise-feed-forward>=0.6.0\r\n",
      "  Downloading keras-position-wise-feed-forward-0.6.0.tar.gz (4.4 kB)\r\n",
      "Collecting keras-embed-sim>=0.8.0\r\n",
      "  Downloading keras-embed-sim-0.8.0.tar.gz (4.1 kB)\r\n",
      "Collecting keras-self-attention==0.46.0\r\n",
      "  Downloading keras-self-attention-0.46.0.tar.gz (10 kB)\r\n",
      "Building wheels for collected packages: ktrain, keras-bert, keras-transformer, keras-pos-embd, keras-multi-head, keras-layer-normalization, keras-position-wise-feed-forward, keras-embed-sim, keras-self-attention\r\n",
      "  Building wheel for ktrain (setup.py) ... \u001b[?25l-\b \b\\\b \bdone\r\n",
      "\u001b[?25h  Created wheel for ktrain: filename=ktrain-0.2.2-py3-none-any.whl size=50418 sha256=bef0820aa56cb9e486cb6998249200309bf2a06fff7364ae6bfab6055bbe9947\r\n",
      "  Stored in directory: /root/.cache/pip/wheels/25/24/60/e1b846b3dfad654a28194cf8a0797552041f30438d2f044def\r\n",
      "  Building wheel for keras-bert (setup.py) ... \u001b[?25l-\b \b\\\b \bdone\r\n",
      "\u001b[?25h  Created wheel for keras-bert: filename=keras_bert-0.86.0-py3-none-any.whl size=34147 sha256=bf49c7f61cf08dac4160dfc241ef61ea0f8035982f00e2f356d752d1b2dc1fd0\r\n",
      "  Stored in directory: /root/.cache/pip/wheels/fc/c1/0a/eb9187261b3f192ac314aefb54fe66f50540c3edb906599633\r\n",
      "  Building wheel for keras-transformer (setup.py) ... \u001b[?25l-\b \b\\\b \bdone\r\n",
      "\u001b[?25h  Created wheel for keras-transformer: filename=keras_transformer-0.38.0-py3-none-any.whl size=12941 sha256=80d3cfd452bd17e36bc87680ff0e4d142e99092eec692fe27688e1fee2cdad88\r\n",
      "  Stored in directory: /root/.cache/pip/wheels/b3/67/58/bcfb43b6ab764496a446021a8d05991adffd48c16582381326\r\n",
      "  Building wheel for keras-pos-embd (setup.py) ... \u001b[?25l-\b \b\\\b \bdone\r\n",
      "\u001b[?25h  Created wheel for keras-pos-embd: filename=keras_pos_embd-0.11.0-py3-none-any.whl size=7553 sha256=5716ab4dd3ac101b495222523c8559573b1f1f02389843e0f662c4b335b334b2\r\n",
      "  Stored in directory: /root/.cache/pip/wheels/65/66/e9/c7eafddc29b81a98786f12b48a2aee7e3c633f6bf4a62cbc20\r\n",
      "  Building wheel for keras-multi-head (setup.py) ... \u001b[?25l-\b \b\\\b \bdone\r\n",
      "\u001b[?25h  Created wheel for keras-multi-head: filename=keras_multi_head-0.27.0-py3-none-any.whl size=15613 sha256=fc7b8e5ea6805bc6c9e75a91e973676d9abba0c062a2dd969f09ee395bbbc189\r\n",
      "  Stored in directory: /root/.cache/pip/wheels/21/38/cc/50e6d62d6d458e8223d3ddaef7c622b67ae57708193918051b\r\n",
      "  Building wheel for keras-layer-normalization (setup.py) ... \u001b[?25l-\b \b\\\b \bdone\r\n",
      "\u001b[?25h  Created wheel for keras-layer-normalization: filename=keras_layer_normalization-0.14.0-py3-none-any.whl size=5267 sha256=b8b233ad848ad4640525f13a9aac1e3536e4c899a297e2449d86494f3a518512\r\n",
      "  Stored in directory: /root/.cache/pip/wheels/58/14/24/76b0d99b7d9cc17e110956e0fae825a5da3e70a60273220502\r\n",
      "  Building wheel for keras-position-wise-feed-forward (setup.py) ... \u001b[?25l-\b \b\\\b \bdone\r\n",
      "\u001b[?25h  Created wheel for keras-position-wise-feed-forward: filename=keras_position_wise_feed_forward-0.6.0-py3-none-any.whl size=5623 sha256=9cea2707410f17856e600a0df4433006c912d5f2dd0a005ddd55c4a3f2883cc9\r\n",
      "  Stored in directory: /root/.cache/pip/wheels/9e/53/a2/651c985b605e6a6c48688c779808eb1956fabb910b0557d871\r\n",
      "  Building wheel for keras-embed-sim (setup.py) ... \u001b[?25l-\b \b\\\b \bdone\r\n",
      "\u001b[?25h  Created wheel for keras-embed-sim: filename=keras_embed_sim-0.8.0-py3-none-any.whl size=4558 sha256=bc46e1163adabc3af38f95022d6d626e05f8b544d063f8c7f2813ae16427ac59\r\n",
      "  Stored in directory: /root/.cache/pip/wheels/2d/31/2c/2d3fb4442f6112b92cd56bf801ff25421f302c755f935d4a79\r\n",
      "  Building wheel for keras-self-attention (setup.py) ... \u001b[?25l-\b \b\\\b \bdone\r\n",
      "\u001b[?25h  Created wheel for keras-self-attention: filename=keras_self_attention-0.46.0-py3-none-any.whl size=17278 sha256=6b99fc3cb1435360eece797369becc6959aba952de9ba69870220b842bf0c7d7\r\n",
      "  Stored in directory: /root/.cache/pip/wheels/ec/f7/48/30de93f8333298bad9202aab9b04db0cfd58dcd379b5a5ef1c\r\n",
      "Successfully built ktrain keras-bert keras-transformer keras-pos-embd keras-multi-head keras-layer-normalization keras-position-wise-feed-forward keras-embed-sim keras-self-attention\r\n",
      "Installing collected packages: keras-pos-embd, keras-self-attention, keras-multi-head, keras-layer-normalization, keras-position-wise-feed-forward, keras-embed-sim, keras-transformer, keras-bert, ktrain\r\n",
      "Successfully installed keras-bert-0.86.0 keras-embed-sim-0.8.0 keras-layer-normalization-0.14.0 keras-multi-head-0.27.0 keras-pos-embd-0.11.0 keras-position-wise-feed-forward-0.6.0 keras-self-attention-0.46.0 keras-transformer-0.38.0 ktrain-0.2.2\r\n"
     ]
    }
   ],
   "source": [
    "!pip3 install ktrain==0.2.2"
   ]
  },
  {
   "cell_type": "markdown",
   "metadata": {
    "id": "zQgG37TuJNdv",
    "papermill": {
     "duration": 0.035267,
     "end_time": "2020-10-07T09:42:07.317558",
     "exception": false,
     "start_time": "2020-10-07T09:42:07.282291",
     "status": "completed"
    },
    "tags": []
   },
   "source": [
    "### Importing Libraries\n"
   ]
  },
  {
   "cell_type": "code",
   "execution_count": 2,
   "metadata": {
    "execution": {
     "iopub.execute_input": "2020-10-07T09:42:07.395760Z",
     "iopub.status.busy": "2020-10-07T09:42:07.394944Z",
     "iopub.status.idle": "2020-10-07T09:42:08.501663Z",
     "shell.execute_reply": "2020-10-07T09:42:08.500187Z"
    },
    "id": "FWMcWRscfxzr",
    "outputId": "b521da5b-fa2f-43d4-e874-1c925ebc2b72",
    "papermill": {
     "duration": 1.148137,
     "end_time": "2020-10-07T09:42:08.501814",
     "exception": false,
     "start_time": "2020-10-07T09:42:07.353677",
     "status": "completed"
    },
    "tags": []
   },
   "outputs": [],
   "source": [
    "from sklearn.model_selection import train_test_split"
   ]
  },
  {
   "cell_type": "markdown",
   "metadata": {
    "id": "n2xmIdIzr6Qt",
    "papermill": {
     "duration": 0.03726,
     "end_time": "2020-10-07T09:42:08.576201",
     "exception": false,
     "start_time": "2020-10-07T09:42:08.538941",
     "status": "completed"
    },
    "tags": []
   },
   "source": [
    "### Reading training file"
   ]
  },
  {
   "cell_type": "code",
   "execution_count": 3,
   "metadata": {
    "execution": {
     "iopub.execute_input": "2020-10-07T09:42:08.656548Z",
     "iopub.status.busy": "2020-10-07T09:42:08.655809Z",
     "iopub.status.idle": "2020-10-07T09:42:08.693269Z",
     "shell.execute_reply": "2020-10-07T09:42:08.692658Z"
    },
    "id": "bGyFlT3aBe9R",
    "papermill": {
     "duration": 0.080312,
     "end_time": "2020-10-07T09:42:08.693385",
     "exception": false,
     "start_time": "2020-10-07T09:42:08.613073",
     "status": "completed"
    },
    "tags": []
   },
   "outputs": [],
   "source": [
    "import pandas as pd\n",
    "train_df = pd.read_csv(\"../input/nlp-getting-started/train.csv\")"
   ]
  },
  {
   "cell_type": "code",
   "execution_count": 4,
   "metadata": {
    "execution": {
     "iopub.execute_input": "2020-10-07T09:42:08.780816Z",
     "iopub.status.busy": "2020-10-07T09:42:08.780202Z",
     "iopub.status.idle": "2020-10-07T09:42:08.791317Z",
     "shell.execute_reply": "2020-10-07T09:42:08.791810Z"
    },
    "id": "8mS_Z3CFSxyD",
    "outputId": "5db5b619-836c-4e9a-b7f7-4ea0faf91e56",
    "papermill": {
     "duration": 0.061379,
     "end_time": "2020-10-07T09:42:08.791966",
     "exception": false,
     "start_time": "2020-10-07T09:42:08.730587",
     "status": "completed"
    },
    "tags": []
   },
   "outputs": [
    {
     "data": {
      "text/html": [
       "<div>\n",
       "<style scoped>\n",
       "    .dataframe tbody tr th:only-of-type {\n",
       "        vertical-align: middle;\n",
       "    }\n",
       "\n",
       "    .dataframe tbody tr th {\n",
       "        vertical-align: top;\n",
       "    }\n",
       "\n",
       "    .dataframe thead th {\n",
       "        text-align: right;\n",
       "    }\n",
       "</style>\n",
       "<table border=\"1\" class=\"dataframe\">\n",
       "  <thead>\n",
       "    <tr style=\"text-align: right;\">\n",
       "      <th></th>\n",
       "      <th>id</th>\n",
       "      <th>keyword</th>\n",
       "      <th>location</th>\n",
       "      <th>text</th>\n",
       "      <th>target</th>\n",
       "    </tr>\n",
       "  </thead>\n",
       "  <tbody>\n",
       "    <tr>\n",
       "      <th>0</th>\n",
       "      <td>1</td>\n",
       "      <td>NaN</td>\n",
       "      <td>NaN</td>\n",
       "      <td>Our Deeds are the Reason of this #earthquake M...</td>\n",
       "      <td>1</td>\n",
       "    </tr>\n",
       "    <tr>\n",
       "      <th>1</th>\n",
       "      <td>4</td>\n",
       "      <td>NaN</td>\n",
       "      <td>NaN</td>\n",
       "      <td>Forest fire near La Ronge Sask. Canada</td>\n",
       "      <td>1</td>\n",
       "    </tr>\n",
       "    <tr>\n",
       "      <th>2</th>\n",
       "      <td>5</td>\n",
       "      <td>NaN</td>\n",
       "      <td>NaN</td>\n",
       "      <td>All residents asked to 'shelter in place' are ...</td>\n",
       "      <td>1</td>\n",
       "    </tr>\n",
       "    <tr>\n",
       "      <th>3</th>\n",
       "      <td>6</td>\n",
       "      <td>NaN</td>\n",
       "      <td>NaN</td>\n",
       "      <td>13,000 people receive #wildfires evacuation or...</td>\n",
       "      <td>1</td>\n",
       "    </tr>\n",
       "    <tr>\n",
       "      <th>4</th>\n",
       "      <td>7</td>\n",
       "      <td>NaN</td>\n",
       "      <td>NaN</td>\n",
       "      <td>Just got sent this photo from Ruby #Alaska as ...</td>\n",
       "      <td>1</td>\n",
       "    </tr>\n",
       "  </tbody>\n",
       "</table>\n",
       "</div>"
      ],
      "text/plain": [
       "   id keyword location                                               text  \\\n",
       "0   1     NaN      NaN  Our Deeds are the Reason of this #earthquake M...   \n",
       "1   4     NaN      NaN             Forest fire near La Ronge Sask. Canada   \n",
       "2   5     NaN      NaN  All residents asked to 'shelter in place' are ...   \n",
       "3   6     NaN      NaN  13,000 people receive #wildfires evacuation or...   \n",
       "4   7     NaN      NaN  Just got sent this photo from Ruby #Alaska as ...   \n",
       "\n",
       "   target  \n",
       "0       1  \n",
       "1       1  \n",
       "2       1  \n",
       "3       1  \n",
       "4       1  "
      ]
     },
     "execution_count": 4,
     "metadata": {},
     "output_type": "execute_result"
    }
   ],
   "source": [
    "train_df.head()"
   ]
  },
  {
   "cell_type": "markdown",
   "metadata": {
    "id": "vdM0B0Qah7F-",
    "papermill": {
     "duration": 0.036952,
     "end_time": "2020-10-07T09:42:08.867009",
     "exception": false,
     "start_time": "2020-10-07T09:42:08.830057",
     "status": "completed"
    },
    "tags": []
   },
   "source": [
    "### Splitting training data in to training and validation data"
   ]
  },
  {
   "cell_type": "code",
   "execution_count": 5,
   "metadata": {
    "execution": {
     "iopub.execute_input": "2020-10-07T09:42:08.956173Z",
     "iopub.status.busy": "2020-10-07T09:42:08.955532Z",
     "iopub.status.idle": "2020-10-07T09:42:08.968662Z",
     "shell.execute_reply": "2020-10-07T09:42:08.969607Z"
    },
    "id": "wyO3msPQgx19",
    "papermill": {
     "duration": 0.06251,
     "end_time": "2020-10-07T09:42:08.969761",
     "exception": false,
     "start_time": "2020-10-07T09:42:08.907251",
     "status": "completed"
    },
    "tags": []
   },
   "outputs": [],
   "source": [
    "random_seed = 12342\n",
    "x_train, x_val, y_train, y_val = train_test_split(train_df['text'], train_df['target'], shuffle=True, test_size = 0.2, random_state=random_seed, stratify=train_df['target'])"
   ]
  },
  {
   "cell_type": "markdown",
   "metadata": {
    "id": "BteMwVZ0LrEN",
    "papermill": {
     "duration": 0.044131,
     "end_time": "2020-10-07T09:42:09.057385",
     "exception": false,
     "start_time": "2020-10-07T09:42:09.013254",
     "status": "completed"
    },
    "tags": []
   },
   "source": [
    "**Convert data to features for BERT**\n",
    "# **Load and Preprocess the Data**\n",
    "Preprocess the data using the texts_from_array function (since the data resides in an array). If your documents are stored in folders or a CSV file you can use the texts_from_folder or texts_from_csv functions, respectively."
   ]
  },
  {
   "cell_type": "code",
   "execution_count": 6,
   "metadata": {
    "execution": {
     "iopub.execute_input": "2020-10-07T09:42:09.150584Z",
     "iopub.status.busy": "2020-10-07T09:42:09.149420Z",
     "iopub.status.idle": "2020-10-07T09:42:14.519994Z",
     "shell.execute_reply": "2020-10-07T09:42:14.519001Z"
    },
    "papermill": {
     "duration": 5.420062,
     "end_time": "2020-10-07T09:42:14.520118",
     "exception": false,
     "start_time": "2020-10-07T09:42:09.100056",
     "status": "completed"
    },
    "tags": []
   },
   "outputs": [],
   "source": [
    "import ktrain\n",
    "from ktrain import text"
   ]
  },
  {
   "cell_type": "code",
   "execution_count": 7,
   "metadata": {
    "execution": {
     "iopub.execute_input": "2020-10-07T09:42:14.601668Z",
     "iopub.status.busy": "2020-10-07T09:42:14.600775Z",
     "iopub.status.idle": "2020-10-07T09:42:26.302794Z",
     "shell.execute_reply": "2020-10-07T09:42:26.303325Z"
    },
    "id": "JK6GHUaIvgfG",
    "outputId": "8969fb16-c56a-4f7b-cc0e-883486b4db83",
    "papermill": {
     "duration": 11.745643,
     "end_time": "2020-10-07T09:42:26.303474",
     "exception": false,
     "start_time": "2020-10-07T09:42:14.557831",
     "status": "completed"
    },
    "tags": []
   },
   "outputs": [
    {
     "name": "stdout",
     "output_type": "stream",
     "text": [
      "downloading pretrained BERT model and vocabulary...\n",
      "[██████████████████████████████████████████████████]\n",
      "extracting pretrained BERT model and vocabulary...\n",
      "done.\n",
      "\n",
      "cleanup downloaded zip...\n",
      "done.\n",
      "\n",
      "preprocessing train...\n"
     ]
    },
    {
     "data": {
      "text/html": [
       "done."
      ],
      "text/plain": [
       "<IPython.core.display.HTML object>"
      ]
     },
     "metadata": {},
     "output_type": "display_data"
    },
    {
     "name": "stdout",
     "output_type": "stream",
     "text": [
      "preprocessing test...\n"
     ]
    },
    {
     "data": {
      "text/html": [
       "done."
      ],
      "text/plain": [
       "<IPython.core.display.HTML object>"
      ]
     },
     "metadata": {},
     "output_type": "display_data"
    }
   ],
   "source": [
    "(x_train_bert,  y_train_bert), (x_val_bert, y_val_bert), preproc = text.texts_from_array(x_train=x_train, y_train=y_train,\n",
    "                                                                                         x_test = x_val, y_test=y_val,\n",
    "                                                                                          class_names= [\"0\", \"1\"],\n",
    "                                                                                          preprocess_mode='bert',\n",
    "                                                                                          \n",
    "                                                                                          maxlen=65, \n",
    "                                                                                          max_features=35000)"
   ]
  },
  {
   "cell_type": "markdown",
   "metadata": {
    "id": "P8QVEFWjMINC",
    "papermill": {
     "duration": 0.180449,
     "end_time": "2020-10-07T09:42:26.667057",
     "exception": false,
     "start_time": "2020-10-07T09:42:26.486608",
     "status": "completed"
    },
    "tags": []
   },
   "source": [
    "# STEP 2: Load the BERT Model and Instantiate a Learner object\n",
    "**Create Model Instance and train it for 6 epochs\n",
    "**\n",
    "# STEP 3: Train the Model\n",
    "We train using one of the three learning rates recommended in the BERT paper: 5e-5, 3e-5, or 2e-5. Alternatively, the ktrain Learning Rate Finder can be used to find a good learning rate by invoking learner.lr_find() and learner.lr_plot(), prior to training. The learner.fit_onecycle method employs a 1cycle learning rate policy.\n",
    "\n"
   ]
  },
  {
   "cell_type": "code",
   "execution_count": 8,
   "metadata": {
    "execution": {
     "iopub.execute_input": "2020-10-07T09:42:27.052976Z",
     "iopub.status.busy": "2020-10-07T09:42:27.052299Z",
     "iopub.status.idle": "2020-10-07T09:42:37.427423Z",
     "shell.execute_reply": "2020-10-07T09:42:37.426328Z"
    },
    "id": "yTMcG_I2vzsw",
    "outputId": "0882d130-50a7-4a1d-a756-70084ca135e1",
    "papermill": {
     "duration": 10.581356,
     "end_time": "2020-10-07T09:42:37.427553",
     "exception": false,
     "start_time": "2020-10-07T09:42:26.846197",
     "status": "completed"
    },
    "tags": []
   },
   "outputs": [
    {
     "name": "stdout",
     "output_type": "stream",
     "text": [
      "Is Multi-Label? False\n",
      "maxlen is 65\n",
      "done.\n"
     ]
    }
   ],
   "source": [
    "model = text.text_classifier('bert', train_data=(x_train_bert, y_train_bert), preproc=preproc)\n",
    "learner = ktrain.get_learner(model, train_data=(x_train_bert, y_train_bert), val_data=(x_val_bert, y_val_bert), batch_size=16)"
   ]
  },
  {
   "cell_type": "code",
   "execution_count": 9,
   "metadata": {
    "execution": {
     "iopub.execute_input": "2020-10-07T09:42:37.803491Z",
     "iopub.status.busy": "2020-10-07T09:42:37.802546Z",
     "iopub.status.idle": "2020-10-07T09:55:38.031693Z",
     "shell.execute_reply": "2020-10-07T09:55:38.031000Z"
    },
    "id": "nwkt6BsTB-U-",
    "outputId": "ee2f5234-1a04-43b5-9bcd-5e8ccd7a9edc",
    "papermill": {
     "duration": 780.409625,
     "end_time": "2020-10-07T09:55:38.031823",
     "exception": false,
     "start_time": "2020-10-07T09:42:37.622198",
     "status": "completed"
    },
    "tags": []
   },
   "outputs": [
    {
     "name": "stdout",
     "output_type": "stream",
     "text": [
      "simulating training for different learning rates... this may take a few moments...\n",
      "Epoch 1/1024\n",
      "381/381 [==============================] - 187s 492ms/step - loss: 0.6820 - accuracy: 0.6140\n",
      "Epoch 2/1024\n",
      "381/381 [==============================] - 187s 491ms/step - loss: 0.4520 - accuracy: 0.8059\n",
      "Epoch 3/1024\n",
      "381/381 [==============================] - 189s 495ms/step - loss: 0.7011 - accuracy: 0.5734\n",
      "Epoch 4/1024\n",
      "381/381 [==============================] - 189s 496ms/step - loss: 2.8110 - accuracy: 0.5071\n",
      "\n",
      "\n",
      "done.\n",
      "Please invoke the Learner.lr_plot() method to visually inspect the loss plot to help identify the maximal learning rate associated with falling loss.\n"
     ]
    }
   ],
   "source": [
    "learner.lr_find()             # briefly simulate training to find good learning rate\n",
    "   "
   ]
  },
  {
   "cell_type": "code",
   "execution_count": 10,
   "metadata": {
    "execution": {
     "iopub.execute_input": "2020-10-07T09:55:39.666594Z",
     "iopub.status.busy": "2020-10-07T09:55:39.665807Z",
     "iopub.status.idle": "2020-10-07T09:55:40.466219Z",
     "shell.execute_reply": "2020-10-07T09:55:40.465507Z"
    },
    "id": "cWPmoEOPEg9K",
    "outputId": "fd3f4c79-8ac4-4de7-85c9-6c7cc208caad",
    "papermill": {
     "duration": 1.733683,
     "end_time": "2020-10-07T09:55:40.466339",
     "exception": false,
     "start_time": "2020-10-07T09:55:38.732656",
     "status": "completed"
    },
    "tags": []
   },
   "outputs": [
    {
     "data": {
      "image/png": "[encoded data removed]",
      "text/plain": [
       "<Figure size 432x288 with 1 Axes>"
      ]
     },
     "metadata": {
      "needs_background": "light"
     },
     "output_type": "display_data"
    }
   ],
   "source": [
    "learner.lr_plot()"
   ]
  },
  {
   "cell_type": "code",
   "execution_count": 11,
   "metadata": {
    "execution": {
     "iopub.execute_input": "2020-10-07T09:55:41.921513Z",
     "iopub.status.busy": "2020-10-07T09:55:41.920682Z",
     "iopub.status.idle": "2020-10-07T10:18:21.650314Z",
     "shell.execute_reply": "2020-10-07T10:18:21.648321Z"
    },
    "id": "-6HqzgLDBd09",
    "outputId": "9887e165-5f6d-4a82-c2a5-12e1f08b5f84",
    "papermill": {
     "duration": 1360.427734,
     "end_time": "2020-10-07T10:18:21.650454",
     "exception": false,
     "start_time": "2020-10-07T09:55:41.222720",
     "status": "completed"
    },
    "tags": []
   },
   "outputs": [
    {
     "name": "stdout",
     "output_type": "stream",
     "text": [
      "early_stopping automatically enabled at patience=5\n",
      "reduce_on_plateau automatically enabled at patience=2\n",
      "\n",
      "\n",
      "begin training using triangular learning rate policy with max lr of 1e-05...\n",
      "Epoch 1/1024\n",
      "381/381 [==============================] - 199s 521ms/step - loss: 0.4799 - accuracy: 0.7750 - val_loss: 0.3935 - val_accuracy: 0.8299\n",
      "Epoch 2/1024\n",
      "381/381 [==============================] - 193s 507ms/step - loss: 0.3505 - accuracy: 0.8550 - val_loss: 0.3818 - val_accuracy: 0.8372\n",
      "Epoch 3/1024\n",
      "381/381 [==============================] - 193s 506ms/step - loss: 0.2892 - accuracy: 0.8900 - val_loss: 0.4002 - val_accuracy: 0.8372\n",
      "Epoch 4/1024\n",
      "381/381 [==============================] - ETA: 0s - loss: 0.2391 - accuracy: 0.9140\n",
      "Epoch 00004: Reducing Max LR on Plateau: new max lr will be 5e-06 (if not early_stopping).\n",
      "381/381 [==============================] - 192s 503ms/step - loss: 0.2391 - accuracy: 0.9140 - val_loss: 0.4223 - val_accuracy: 0.8365\n",
      "Epoch 5/1024\n",
      "381/381 [==============================] - 191s 502ms/step - loss: 0.1822 - accuracy: 0.9376 - val_loss: 0.4672 - val_accuracy: 0.8352\n",
      "Epoch 6/1024\n",
      "381/381 [==============================] - ETA: 0s - loss: 0.1477 - accuracy: 0.9502\n",
      "Epoch 00006: Reducing Max LR on Plateau: new max lr will be 2.5e-06 (if not early_stopping).\n",
      "381/381 [==============================] - 194s 508ms/step - loss: 0.1477 - accuracy: 0.9502 - val_loss: 0.5345 - val_accuracy: 0.8240\n",
      "Epoch 7/1024\n",
      "381/381 [==============================] - ETA: 0s - loss: 0.1240 - accuracy: 0.9594Restoring model weights from the end of the best epoch.\n",
      "381/381 [==============================] - 193s 506ms/step - loss: 0.1240 - accuracy: 0.9594 - val_loss: 0.5411 - val_accuracy: 0.8280\n",
      "Epoch 00007: early stopping\n",
      "Weights from best epoch have been loaded into model.\n"
     ]
    },
    {
     "data": {
      "text/plain": [
       "<tensorflow.python.keras.callbacks.History at 0x7fc9f86a4d50>"
      ]
     },
     "execution_count": 11,
     "metadata": {},
     "output_type": "execute_result"
    }
   ],
   "source": [
    "learner.autofit(1e-5)"
   ]
  },
  {
   "cell_type": "code",
   "execution_count": 12,
   "metadata": {
    "execution": {
     "iopub.execute_input": "2020-10-07T10:18:25.281970Z",
     "iopub.status.busy": "2020-10-07T10:18:25.281062Z",
     "iopub.status.idle": "2020-10-07T10:18:33.343764Z",
     "shell.execute_reply": "2020-10-07T10:18:33.344667Z"
    },
    "id": "gebvrQ5kjE_o",
    "outputId": "c5466fe1-72e1-456b-8444-9cc37fdbf504",
    "papermill": {
     "duration": 10.008796,
     "end_time": "2020-10-07T10:18:33.344815",
     "exception": false,
     "start_time": "2020-10-07T10:18:23.336019",
     "status": "completed"
    },
    "tags": []
   },
   "outputs": [
    {
     "name": "stdout",
     "output_type": "stream",
     "text": [
      "              precision    recall  f1-score   support\n",
      "\n",
      " No Disaster       0.84      0.89      0.86       869\n",
      "    Disaster       0.84      0.77      0.80       654\n",
      "\n",
      "    accuracy                           0.84      1523\n",
      "   macro avg       0.84      0.83      0.83      1523\n",
      "weighted avg       0.84      0.84      0.84      1523\n",
      "\n"
     ]
    },
    {
     "data": {
      "text/plain": [
       "array([[773,  96],\n",
       "       [152, 502]])"
      ]
     },
     "execution_count": 12,
     "metadata": {},
     "output_type": "execute_result"
    }
   ],
   "source": [
    "learner.validate(val_data=(x_val_bert, y_val_bert), class_names=['No Disaster', 'Disaster'])"
   ]
  },
  {
   "cell_type": "markdown",
   "metadata": {
    "id": "3OFnCIH2wKpE",
    "papermill": {
     "duration": 1.585449,
     "end_time": "2020-10-07T10:18:36.744992",
     "exception": false,
     "start_time": "2020-10-07T10:18:35.159543",
     "status": "completed"
    },
    "tags": []
   },
   "source": [
    "### Getting predictor variable"
   ]
  },
  {
   "cell_type": "code",
   "execution_count": 13,
   "metadata": {
    "execution": {
     "iopub.execute_input": "2020-10-07T10:18:40.120644Z",
     "iopub.status.busy": "2020-10-07T10:18:40.118974Z",
     "iopub.status.idle": "2020-10-07T10:18:40.121919Z",
     "shell.execute_reply": "2020-10-07T10:18:40.121398Z"
    },
    "id": "HLxfR9mPwV7K",
    "papermill": {
     "duration": 1.740684,
     "end_time": "2020-10-07T10:18:40.122029",
     "exception": false,
     "start_time": "2020-10-07T10:18:38.381345",
     "status": "completed"
    },
    "tags": []
   },
   "outputs": [],
   "source": [
    "# getting predictor variable\n",
    "predictor = ktrain.get_predictor(learner.model, preproc)"
   ]
  },
  {
   "cell_type": "code",
   "execution_count": 14,
   "metadata": {
    "execution": {
     "iopub.execute_input": "2020-10-07T10:18:43.307264Z",
     "iopub.status.busy": "2020-10-07T10:18:43.306320Z",
     "iopub.status.idle": "2020-10-07T10:18:43.325501Z",
     "shell.execute_reply": "2020-10-07T10:18:43.324594Z"
    },
    "id": "4_voYwZG8JOS",
    "outputId": "07a31589-6068-4763-d757-cdec3ba71d67",
    "papermill": {
     "duration": 1.607649,
     "end_time": "2020-10-07T10:18:43.325650",
     "exception": false,
     "start_time": "2020-10-07T10:18:41.718001",
     "status": "completed"
    },
    "tags": []
   },
   "outputs": [
    {
     "name": "stdout",
     "output_type": "stream",
     "text": [
      "0 (trainable=True) : <tensorflow.python.keras.engine.input_layer.InputLayer object at 0x7fca944dbc10>\n",
      "1 (trainable=True) : <tensorflow.python.keras.engine.input_layer.InputLayer object at 0x7fca94459810>\n",
      "2 (trainable=True) : <keras_bert.layers.embedding.TokenEmbedding object at 0x7fca94c07fd0>\n",
      "3 (trainable=True) : <tensorflow.python.keras.layers.embeddings.Embedding object at 0x7fcac804de90>\n",
      "4 (trainable=True) : <tensorflow.python.keras.layers.merge.Add object at 0x7fca94493e10>\n",
      "5 (trainable=True) : <keras_pos_embd.pos_embd.PositionEmbedding object at 0x7fca901d8bd0>\n",
      "6 (trainable=True) : <tensorflow.python.keras.layers.core.Dropout object at 0x7fca90178fd0>\n",
      "7 (trainable=True) : <keras_layer_normalization.layer_normalization.LayerNormalization object at 0x7fca90178d50>\n",
      "8 (trainable=True) : <keras_multi_head.multi_head_attention.MultiHeadAttention object at 0x7fca90158690>\n",
      "9 (trainable=True) : <tensorflow.python.keras.layers.core.Dropout object at 0x7fca9007ba50>\n",
      "10 (trainable=True) : <tensorflow.python.keras.layers.merge.Add object at 0x7fca94cd12d0>\n",
      "11 (trainable=True) : <keras_layer_normalization.layer_normalization.LayerNormalization object at 0x7fcac00f7050>\n",
      "12 (trainable=True) : <keras_position_wise_feed_forward.feed_forward.FeedForward object at 0x7fca90158090>\n",
      "13 (trainable=True) : <tensorflow.python.keras.layers.core.Dropout object at 0x7fca90082810>\n",
      "14 (trainable=True) : <tensorflow.python.keras.layers.merge.Add object at 0x7fca21ed2210>\n",
      "15 (trainable=True) : <keras_layer_normalization.layer_normalization.LayerNormalization object at 0x7fca21f95090>\n",
      "16 (trainable=True) : <keras_multi_head.multi_head_attention.MultiHeadAttention object at 0x7fca944596d0>\n",
      "17 (trainable=True) : <tensorflow.python.keras.layers.core.Dropout object at 0x7fca94cd1910>\n",
      "18 (trainable=True) : <tensorflow.python.keras.layers.merge.Add object at 0x7fca21f02210>\n",
      "19 (trainable=True) : <keras_layer_normalization.layer_normalization.LayerNormalization object at 0x7fca965019d0>\n",
      "20 (trainable=True) : <keras_position_wise_feed_forward.feed_forward.FeedForward object at 0x7fca21f4a5d0>\n",
      "21 (trainable=True) : <tensorflow.python.keras.layers.core.Dropout object at 0x7fca21f828d0>\n",
      "22 (trainable=True) : <tensorflow.python.keras.layers.merge.Add object at 0x7fca21f4a9d0>\n",
      "23 (trainable=True) : <keras_layer_normalization.layer_normalization.LayerNormalization object at 0x7fca21f02310>\n",
      "24 (trainable=True) : <keras_multi_head.multi_head_attention.MultiHeadAttention object at 0x7fca90142d50>\n",
      "25 (trainable=True) : <tensorflow.python.keras.layers.core.Dropout object at 0x7fca21f05290>\n",
      "26 (trainable=True) : <tensorflow.python.keras.layers.merge.Add object at 0x7fca21fafed0>\n",
      "27 (trainable=True) : <keras_layer_normalization.layer_normalization.LayerNormalization object at 0x7fca9005d210>\n",
      "28 (trainable=True) : <keras_position_wise_feed_forward.feed_forward.FeedForward object at 0x7fca958d1850>\n",
      "29 (trainable=True) : <tensorflow.python.keras.layers.core.Dropout object at 0x7fca21f56410>\n",
      "30 (trainable=True) : <tensorflow.python.keras.layers.merge.Add object at 0x7fca21f03c90>\n",
      "31 (trainable=True) : <keras_layer_normalization.layer_normalization.LayerNormalization object at 0x7fca21f91950>\n",
      "32 (trainable=True) : <keras_multi_head.multi_head_attention.MultiHeadAttention object at 0x7fca94cd1290>\n",
      "33 (trainable=True) : <tensorflow.python.keras.layers.core.Dropout object at 0x7fca21ee8a90>\n",
      "34 (trainable=True) : <tensorflow.python.keras.layers.merge.Add object at 0x7fca900e9250>\n",
      "35 (trainable=True) : <keras_layer_normalization.layer_normalization.LayerNormalization object at 0x7fca21f40d50>\n",
      "36 (trainable=True) : <keras_position_wise_feed_forward.feed_forward.FeedForward object at 0x7fca96501790>\n",
      "37 (trainable=True) : <tensorflow.python.keras.layers.core.Dropout object at 0x7fca21fa9650>\n",
      "38 (trainable=True) : <tensorflow.python.keras.layers.merge.Add object at 0x7fca21d4c990>\n",
      "39 (trainable=True) : <keras_layer_normalization.layer_normalization.LayerNormalization object at 0x7fca900e9210>\n",
      "40 (trainable=True) : <keras_multi_head.multi_head_attention.MultiHeadAttention object at 0x7fca944a84d0>\n",
      "41 (trainable=True) : <tensorflow.python.keras.layers.core.Dropout object at 0x7fca21d06c90>\n",
      "42 (trainable=True) : <tensorflow.python.keras.layers.merge.Add object at 0x7fca21e82690>\n",
      "43 (trainable=True) : <keras_layer_normalization.layer_normalization.LayerNormalization object at 0x7fca21f82450>\n",
      "44 (trainable=True) : <keras_position_wise_feed_forward.feed_forward.FeedForward object at 0x7fca21d18150>\n",
      "45 (trainable=True) : <tensorflow.python.keras.layers.core.Dropout object at 0x7fca21f27610>\n",
      "46 (trainable=True) : <tensorflow.python.keras.layers.merge.Add object at 0x7fca96501890>\n",
      "47 (trainable=True) : <keras_layer_normalization.layer_normalization.LayerNormalization object at 0x7fca9012f590>\n",
      "48 (trainable=True) : <keras_multi_head.multi_head_attention.MultiHeadAttention object at 0x7fca21837fd0>\n",
      "49 (trainable=True) : <tensorflow.python.keras.layers.core.Dropout object at 0x7fca21ee8490>\n",
      "50 (trainable=True) : <tensorflow.python.keras.layers.merge.Add object at 0x7fca217cc850>\n",
      "51 (trainable=True) : <keras_layer_normalization.layer_normalization.LayerNormalization object at 0x7fca21847e90>\n",
      "52 (trainable=True) : <keras_position_wise_feed_forward.feed_forward.FeedForward object at 0x7fca21dd26d0>\n",
      "53 (trainable=True) : <tensorflow.python.keras.layers.core.Dropout object at 0x7fca217e8790>\n",
      "54 (trainable=True) : <tensorflow.python.keras.layers.merge.Add object at 0x7fca21ef7850>\n",
      "55 (trainable=True) : <keras_layer_normalization.layer_normalization.LayerNormalization object at 0x7fca2177e550>\n",
      "56 (trainable=True) : <keras_multi_head.multi_head_attention.MultiHeadAttention object at 0x7fca217a4290>\n",
      "57 (trainable=True) : <tensorflow.python.keras.layers.core.Dropout object at 0x7fca21dd2190>\n",
      "58 (trainable=True) : <tensorflow.python.keras.layers.merge.Add object at 0x7fca21dd2990>\n",
      "59 (trainable=True) : <keras_layer_normalization.layer_normalization.LayerNormalization object at 0x7fca217b34d0>\n",
      "60 (trainable=True) : <keras_position_wise_feed_forward.feed_forward.FeedForward object at 0x7fca21ee8650>\n",
      "61 (trainable=True) : <tensorflow.python.keras.layers.core.Dropout object at 0x7fca21f56a90>\n",
      "62 (trainable=True) : <tensorflow.python.keras.layers.merge.Add object at 0x7fca21e07d90>\n",
      "63 (trainable=True) : <keras_layer_normalization.layer_normalization.LayerNormalization object at 0x7fca21f5f4d0>\n",
      "64 (trainable=True) : <keras_multi_head.multi_head_attention.MultiHeadAttention object at 0x7fca21e0c8d0>\n",
      "65 (trainable=True) : <tensorflow.python.keras.layers.core.Dropout object at 0x7fca2169f450>\n",
      "66 (trainable=True) : <tensorflow.python.keras.layers.merge.Add object at 0x7fca2169f2d0>\n",
      "67 (trainable=True) : <keras_layer_normalization.layer_normalization.LayerNormalization object at 0x7fca21644bd0>\n",
      "68 (trainable=True) : <keras_position_wise_feed_forward.feed_forward.FeedForward object at 0x7fca216b2850>\n",
      "69 (trainable=True) : <tensorflow.python.keras.layers.core.Dropout object at 0x7fca215daf90>\n",
      "70 (trainable=True) : <tensorflow.python.keras.layers.merge.Add object at 0x7fca21ef7c90>\n",
      "71 (trainable=True) : <keras_layer_normalization.layer_normalization.LayerNormalization object at 0x7fca21f4a090>\n",
      "72 (trainable=True) : <keras_multi_head.multi_head_attention.MultiHeadAttention object at 0x7fca215d37d0>\n",
      "73 (trainable=True) : <tensorflow.python.keras.layers.core.Dropout object at 0x7fca21fdd110>\n",
      "74 (trainable=True) : <tensorflow.python.keras.layers.merge.Add object at 0x7fca90152690>\n",
      "75 (trainable=True) : <keras_layer_normalization.layer_normalization.LayerNormalization object at 0x7fca21591990>\n",
      "76 (trainable=True) : <keras_position_wise_feed_forward.feed_forward.FeedForward object at 0x7fca2159a450>\n",
      "77 (trainable=True) : <tensorflow.python.keras.layers.core.Dropout object at 0x7fca21ee8050>\n",
      "78 (trainable=True) : <tensorflow.python.keras.layers.merge.Add object at 0x7fca900d7cd0>\n",
      "79 (trainable=True) : <keras_layer_normalization.layer_normalization.LayerNormalization object at 0x7fca21f5f610>\n",
      "80 (trainable=True) : <keras_multi_head.multi_head_attention.MultiHeadAttention object at 0x7fca21481050>\n",
      "81 (trainable=True) : <tensorflow.python.keras.layers.core.Dropout object at 0x7fca2148be90>\n",
      "82 (trainable=True) : <tensorflow.python.keras.layers.merge.Add object at 0x7fca2149d0d0>\n",
      "83 (trainable=True) : <keras_layer_normalization.layer_normalization.LayerNormalization object at 0x7fca21490b50>\n",
      "84 (trainable=True) : <keras_position_wise_feed_forward.feed_forward.FeedForward object at 0x7fca21487a90>\n",
      "85 (trainable=True) : <tensorflow.python.keras.layers.core.Dropout object at 0x7fca900f1590>\n",
      "86 (trainable=True) : <tensorflow.python.keras.layers.merge.Add object at 0x7fca207178d0>\n",
      "87 (trainable=True) : <keras_layer_normalization.layer_normalization.LayerNormalization object at 0x7fca20717c90>\n",
      "88 (trainable=True) : <keras_multi_head.multi_head_attention.MultiHeadAttention object at 0x7fca206da310>\n",
      "89 (trainable=True) : <tensorflow.python.keras.layers.core.Dropout object at 0x7fca206e6e50>\n",
      "90 (trainable=True) : <tensorflow.python.keras.layers.merge.Add object at 0x7fca206e6dd0>\n",
      "91 (trainable=True) : <keras_layer_normalization.layer_normalization.LayerNormalization object at 0x7fca90138050>\n",
      "92 (trainable=True) : <keras_position_wise_feed_forward.feed_forward.FeedForward object at 0x7fca206e0310>\n",
      "93 (trainable=True) : <tensorflow.python.keras.layers.core.Dropout object at 0x7fca944d2210>\n",
      "94 (trainable=True) : <tensorflow.python.keras.layers.merge.Add object at 0x7fca20618fd0>\n",
      "95 (trainable=True) : <keras_layer_normalization.layer_normalization.LayerNormalization object at 0x7fca2061ed50>\n",
      "96 (trainable=True) : <keras_multi_head.multi_head_attention.MultiHeadAttention object at 0x7fca20651ed0>\n",
      "97 (trainable=True) : <tensorflow.python.keras.layers.core.Dropout object at 0x7fca965060d0>\n",
      "98 (trainable=True) : <tensorflow.python.keras.layers.merge.Add object at 0x7fca20603490>\n",
      "99 (trainable=True) : <keras_layer_normalization.layer_normalization.LayerNormalization object at 0x7fca205e7250>\n",
      "100 (trainable=True) : <keras_position_wise_feed_forward.feed_forward.FeedForward object at 0x7fca205d8310>\n",
      "101 (trainable=True) : <tensorflow.python.keras.layers.core.Dropout object at 0x7fca20591f90>\n",
      "102 (trainable=True) : <tensorflow.python.keras.layers.merge.Add object at 0x7fca2058b5d0>\n",
      "103 (trainable=True) : <keras_layer_normalization.layer_normalization.LayerNormalization object at 0x7fca2058bc90>\n",
      "104 (trainable=True) : <keras_bert.layers.extract.Extract object at 0x7fca21fa9550>\n",
      "105 (trainable=True) : <tensorflow.python.keras.layers.core.Dense object at 0x7fca204ad450>\n",
      "106 (trainable=True) : <tensorflow.python.keras.layers.core.Dense object at 0x7fca94c15210>\n"
     ]
    }
   ],
   "source": [
    "learner.print_layers()"
   ]
  },
  {
   "cell_type": "markdown",
   "metadata": {
    "id": "6YD8qTRutzhL",
    "papermill": {
     "duration": 1.8384,
     "end_time": "2020-10-07T10:18:46.775766",
     "exception": false,
     "start_time": "2020-10-07T10:18:44.937366",
     "status": "completed"
    },
    "tags": []
   },
   "source": [
    "### Getting predictions on test data"
   ]
  },
  {
   "cell_type": "code",
   "execution_count": 15,
   "metadata": {
    "execution": {
     "iopub.execute_input": "2020-10-07T10:18:49.955681Z",
     "iopub.status.busy": "2020-10-07T10:18:49.955048Z",
     "iopub.status.idle": "2020-10-07T10:19:00.067222Z",
     "shell.execute_reply": "2020-10-07T10:19:00.066251Z"
    },
    "id": "ofq80LYrtp3M",
    "outputId": "c9dc4adb-09a9-4ac1-b1d1-0cc021651b09",
    "papermill": {
     "duration": 11.706046,
     "end_time": "2020-10-07T10:19:00.067372",
     "exception": false,
     "start_time": "2020-10-07T10:18:48.361326",
     "status": "completed"
    },
    "tags": []
   },
   "outputs": [
    {
     "data": {
      "text/html": [],
      "text/plain": [
       "<IPython.core.display.HTML object>"
      ]
     },
     "metadata": {},
     "output_type": "display_data"
    }
   ],
   "source": [
    "test_df = pd.read_csv(\"../input/nlp-getting-started/test.csv\")\n",
    "test_df[\"target\"] = predictor.predict(test_df[\"text\"].tolist())\n",
    "\n",
    "test_df = test_df[[\"id\", \"target\"]]\n"
   ]
  },
  {
   "cell_type": "code",
   "execution_count": 16,
   "metadata": {
    "execution": {
     "iopub.execute_input": "2020-10-07T10:19:03.282273Z",
     "iopub.status.busy": "2020-10-07T10:19:03.281454Z",
     "iopub.status.idle": "2020-10-07T10:19:03.284728Z",
     "shell.execute_reply": "2020-10-07T10:19:03.285244Z"
    },
    "id": "IKpDQGGUui6L",
    "outputId": "db6acc3d-467d-4664-ba3d-415d410f7ae4",
    "papermill": {
     "duration": 1.601511,
     "end_time": "2020-10-07T10:19:03.285378",
     "exception": false,
     "start_time": "2020-10-07T10:19:01.683867",
     "status": "completed"
    },
    "tags": []
   },
   "outputs": [
    {
     "data": {
      "text/html": [
       "<div>\n",
       "<style scoped>\n",
       "    .dataframe tbody tr th:only-of-type {\n",
       "        vertical-align: middle;\n",
       "    }\n",
       "\n",
       "    .dataframe tbody tr th {\n",
       "        vertical-align: top;\n",
       "    }\n",
       "\n",
       "    .dataframe thead th {\n",
       "        text-align: right;\n",
       "    }\n",
       "</style>\n",
       "<table border=\"1\" class=\"dataframe\">\n",
       "  <thead>\n",
       "    <tr style=\"text-align: right;\">\n",
       "      <th></th>\n",
       "      <th>id</th>\n",
       "      <th>target</th>\n",
       "    </tr>\n",
       "  </thead>\n",
       "  <tbody>\n",
       "    <tr>\n",
       "      <th>0</th>\n",
       "      <td>0</td>\n",
       "      <td>1</td>\n",
       "    </tr>\n",
       "    <tr>\n",
       "      <th>1</th>\n",
       "      <td>2</td>\n",
       "      <td>1</td>\n",
       "    </tr>\n",
       "    <tr>\n",
       "      <th>2</th>\n",
       "      <td>3</td>\n",
       "      <td>1</td>\n",
       "    </tr>\n",
       "    <tr>\n",
       "      <th>3</th>\n",
       "      <td>9</td>\n",
       "      <td>1</td>\n",
       "    </tr>\n",
       "    <tr>\n",
       "      <th>4</th>\n",
       "      <td>11</td>\n",
       "      <td>1</td>\n",
       "    </tr>\n",
       "  </tbody>\n",
       "</table>\n",
       "</div>"
      ],
      "text/plain": [
       "   id target\n",
       "0   0      1\n",
       "1   2      1\n",
       "2   3      1\n",
       "3   9      1\n",
       "4  11      1"
      ]
     },
     "execution_count": 16,
     "metadata": {},
     "output_type": "execute_result"
    }
   ],
   "source": [
    "test_df.head()"
   ]
  },
  {
   "cell_type": "code",
   "execution_count": 17,
   "metadata": {
    "execution": {
     "iopub.execute_input": "2020-10-07T10:19:06.513246Z",
     "iopub.status.busy": "2020-10-07T10:19:06.512566Z",
     "iopub.status.idle": "2020-10-07T10:19:06.727488Z",
     "shell.execute_reply": "2020-10-07T10:19:06.726832Z"
    },
    "id": "usXiCGlXulBm",
    "papermill": {
     "duration": 1.821351,
     "end_time": "2020-10-07T10:19:06.727626",
     "exception": false,
     "start_time": "2020-10-07T10:19:04.906275",
     "status": "completed"
    },
    "tags": []
   },
   "outputs": [],
   "source": [
    "test_df.to_csv(\"submisssions.csv\", index=False)"
   ]
  }
 ],
 "metadata": {
  "kernelspec": {
   "display_name": "Python 3",
   "language": "python",
   "name": "python3"
  },
  "language_info": {
   "codemirror_mode": {
    "name": "ipython",
    "version": 3
   },
   "file_extension": ".py",
   "mimetype": "text/x-python",
   "name": "python",
   "nbconvert_exporter": "python",
   "pygments_lexer": "ipython3",
   "version": "3.7.6"
  },
  "papermill": {
   "duration": 2256.222793,
   "end_time": "2020-10-07T10:19:09.933041",
   "environment_variables": {},
   "exception": null,
   "input_path": "__notebook__.ipynb",
   "output_path": "__notebook__.ipynb",
   "parameters": {},
   "start_time": "2020-10-07T09:41:33.710248",
   "version": "2.1.0"
  }
 },
 "nbformat": 4,
 "nbformat_minor": 4
}
