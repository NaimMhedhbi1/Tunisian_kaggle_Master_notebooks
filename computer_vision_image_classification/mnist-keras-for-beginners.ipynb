{
 "cells": [
  {
   "cell_type": "code",
   "execution_count": 1,
   "metadata": {
    "_cell_guid": "79c7e3d0-c299-4dcb-8224-4455121ee9b0",
    "_uuid": "d629ff2d2480ee46fbb7e2d37f6b5fab8052498a",
    "execution": {
     "iopub.execute_input": "2020-09-09T14:14:12.672502Z",
     "iopub.status.busy": "2020-09-09T14:14:12.671554Z",
     "iopub.status.idle": "2020-09-09T14:14:30.411865Z",
     "shell.execute_reply": "2020-09-09T14:14:30.411020Z"
    },
    "papermill": {
     "duration": 17.756538,
     "end_time": "2020-09-09T14:14:30.411994",
     "exception": false,
     "start_time": "2020-09-09T14:14:12.655456",
     "status": "completed"
    },
    "tags": []
   },
   "outputs": [
    {
     "name": "stdout",
     "output_type": "stream",
     "text": [
      "Requirement already satisfied: mnist in /opt/conda/lib/python3.7/site-packages (0.2.2)\r\n",
      "Requirement already satisfied: numpy in /opt/conda/lib/python3.7/site-packages (from mnist) (1.18.5)\r\n",
      "\u001b[33mWARNING: You are using pip version 20.2.2; however, version 20.2.3 is available.\r\n",
      "You should consider upgrading via the '/opt/conda/bin/python3.7 -m pip install --upgrade pip' command.\u001b[0m\r\n"
     ]
    }
   ],
   "source": [
    "!pip install mnist \n",
    "import numpy as np\n",
    "import mnist\n",
    "from tensorflow import keras"
   ]
  },
  {
   "cell_type": "code",
   "execution_count": 2,
   "metadata": {
    "execution": {
     "iopub.execute_input": "2020-09-09T14:14:30.439434Z",
     "iopub.status.busy": "2020-09-09T14:14:30.438534Z",
     "iopub.status.idle": "2020-09-09T14:14:34.918252Z",
     "shell.execute_reply": "2020-09-09T14:14:34.917221Z"
    },
    "papermill": {
     "duration": 4.496445,
     "end_time": "2020-09-09T14:14:34.918430",
     "exception": false,
     "start_time": "2020-09-09T14:14:30.421985",
     "status": "completed"
    },
    "tags": []
   },
   "outputs": [
    {
     "name": "stdout",
     "output_type": "stream",
     "text": [
      "(60000, 28, 28)\n",
      "(60000,)\n"
     ]
    }
   ],
   "source": [
    "# The first time you run this might be a bit slow, since the\n",
    "# mnist package has to download and cache the data.\n",
    "train_images = mnist.train_images()\n",
    "train_labels = mnist.train_labels()\n",
    "\n",
    "print(train_images.shape) # (60000, 28, 28)\n",
    "print(train_labels.shape) # (60000,)"
   ]
  },
  {
   "cell_type": "markdown",
   "execution_count": null,
   "metadata": {
    "papermill": {
     "duration": 0.011024,
     "end_time": "2020-09-09T14:14:34.939350",
     "exception": false,
     "start_time": "2020-09-09T14:14:34.928326",
     "status": "completed"
    },
    "tags": []
   },
   "source": [
    "1- normalize the image pixel values from [0, 255] to [-0.5, 0.5] \n",
    "to make our network easier to train (using smaller, centered values usually leads to better results) \n",
    "2-reshape each image from (28, 28) to (28, 28, 1) because Keras requires the third dimension."
   ]
  },
  {
   "cell_type": "code",
   "execution_count": 3,
   "metadata": {
    "execution": {
     "iopub.execute_input": "2020-09-09T14:14:34.968102Z",
     "iopub.status.busy": "2020-09-09T14:14:34.967248Z",
     "iopub.status.idle": "2020-09-09T14:14:38.637703Z",
     "shell.execute_reply": "2020-09-09T14:14:38.636912Z"
    },
    "papermill": {
     "duration": 3.689273,
     "end_time": "2020-09-09T14:14:38.637833",
     "exception": false,
     "start_time": "2020-09-09T14:14:34.948560",
     "status": "completed"
    },
    "tags": []
   },
   "outputs": [
    {
     "name": "stdout",
     "output_type": "stream",
     "text": [
      "(60000, 28, 28, 1)\n",
      "(10000, 28, 28, 1)\n"
     ]
    }
   ],
   "source": [
    "import numpy as np\n",
    "import mnist\n",
    "\n",
    "train_images = mnist.train_images()\n",
    "train_labels = mnist.train_labels()\n",
    "test_images = mnist.test_images()\n",
    "test_labels = mnist.test_labels()\n",
    "\n",
    "# Normalize the images.\n",
    "train_images = (train_images / 255) - 0.5\n",
    "test_images = (test_images / 255) - 0.5\n",
    "\n",
    "# Reshape the images.\n",
    "train_images = np.expand_dims(train_images, axis=3)\n",
    "test_images = np.expand_dims(test_images, axis=3)\n",
    "\n",
    "print(train_images.shape) # (60000, 28, 28, 1)\n",
    "print(test_images.shape)  # (10000, 28, 28, 1)"
   ]
  },
  {
   "cell_type": "markdown",
   "execution_count": null,
   "metadata": {
    "papermill": {
     "duration": 0.008999,
     "end_time": "2020-09-09T14:14:38.656600",
     "exception": false,
     "start_time": "2020-09-09T14:14:38.647601",
     "status": "completed"
    },
    "tags": []
   },
   "source": [
    "The Sequential constructor takes an array of Keras Layers. We’ll use 3 types of layers for our CNN: Convolutional, Max Pooling, and Softmax.\n",
    "\n",
    "* num_filters, filter_size, and pool_size are self-explanatory variables that set the hyperparameters for our CNN.\n",
    "* The first layer in any Sequential model must specify the input_shape, so we do so on Conv2D. Once this input shape is specified, Keras will automatically infer the shapes of inputs for later layers.\n",
    "* The output Softmax layer has 10 nodes, one for each class."
   ]
  },
  {
   "cell_type": "code",
   "execution_count": 4,
   "metadata": {
    "execution": {
     "iopub.execute_input": "2020-09-09T14:14:38.685101Z",
     "iopub.status.busy": "2020-09-09T14:14:38.684002Z",
     "iopub.status.idle": "2020-09-09T14:14:38.842714Z",
     "shell.execute_reply": "2020-09-09T14:14:38.841910Z"
    },
    "papermill": {
     "duration": 0.176991,
     "end_time": "2020-09-09T14:14:38.842841",
     "exception": false,
     "start_time": "2020-09-09T14:14:38.665850",
     "status": "completed"
    },
    "tags": []
   },
   "outputs": [],
   "source": [
    "from tensorflow.keras.layers import Conv2D, MaxPooling2D, Dense, Flatten\n",
    "from tensorflow.keras.models import Sequential\n",
    "num_filters = 8\n",
    "filter_size = 3\n",
    "pool_size = 2\n",
    "\n",
    "model = Sequential([\n",
    "  Conv2D(num_filters, filter_size, input_shape=(28, 28, 1)),\n",
    "  MaxPooling2D(pool_size=pool_size),\n",
    "  Flatten(),\n",
    "  Dense(10, activation='softmax'),\n",
    "])"
   ]
  },
  {
   "cell_type": "code",
   "execution_count": 5,
   "metadata": {
    "execution": {
     "iopub.execute_input": "2020-09-09T14:14:38.882717Z",
     "iopub.status.busy": "2020-09-09T14:14:38.881870Z",
     "iopub.status.idle": "2020-09-09T14:14:38.890660Z",
     "shell.execute_reply": "2020-09-09T14:14:38.891313Z"
    },
    "papermill": {
     "duration": 0.0373,
     "end_time": "2020-09-09T14:14:38.891477",
     "exception": false,
     "start_time": "2020-09-09T14:14:38.854177",
     "status": "completed"
    },
    "tags": []
   },
   "outputs": [],
   "source": [
    "model.compile(\n",
    "  'adam',\n",
    "  loss='categorical_crossentropy',\n",
    "  metrics=['accuracy'],\n",
    ")"
   ]
  },
  {
   "cell_type": "code",
   "execution_count": 6,
   "metadata": {
    "execution": {
     "iopub.execute_input": "2020-09-09T14:14:38.917002Z",
     "iopub.status.busy": "2020-09-09T14:14:38.916230Z",
     "iopub.status.idle": "2020-09-09T14:14:38.922078Z",
     "shell.execute_reply": "2020-09-09T14:14:38.920976Z"
    },
    "papermill": {
     "duration": 0.020736,
     "end_time": "2020-09-09T14:14:38.922253",
     "exception": false,
     "start_time": "2020-09-09T14:14:38.901517",
     "status": "completed"
    },
    "tags": []
   },
   "outputs": [
    {
     "name": "stdout",
     "output_type": "stream",
     "text": [
      "5\n"
     ]
    }
   ],
   "source": [
    "import mnist\n",
    "\n",
    "train_labels = mnist.train_labels()\n",
    "print(train_labels[0]) # 5"
   ]
  },
  {
   "cell_type": "code",
   "execution_count": 7,
   "metadata": {
    "execution": {
     "iopub.execute_input": "2020-09-09T14:14:38.950207Z",
     "iopub.status.busy": "2020-09-09T14:14:38.949101Z",
     "iopub.status.idle": "2020-09-09T14:15:17.664442Z",
     "shell.execute_reply": "2020-09-09T14:15:17.663656Z"
    },
    "papermill": {
     "duration": 38.731937,
     "end_time": "2020-09-09T14:15:17.664575",
     "exception": false,
     "start_time": "2020-09-09T14:14:38.932638",
     "status": "completed"
    },
    "tags": []
   },
   "outputs": [
    {
     "name": "stdout",
     "output_type": "stream",
     "text": [
      "Epoch 1/3\n",
      "1875/1875 [==============================] - 13s 7ms/step - loss: 0.3547 - accuracy: 0.8971 - val_loss: 0.2282 - val_accuracy: 0.9314\n",
      "Epoch 2/3\n",
      "1875/1875 [==============================] - 12s 7ms/step - loss: 0.1937 - accuracy: 0.9434 - val_loss: 0.1551 - val_accuracy: 0.9560\n",
      "Epoch 3/3\n",
      "1875/1875 [==============================] - 12s 7ms/step - loss: 0.1363 - accuracy: 0.9614 - val_loss: 0.1128 - val_accuracy: 0.9673\n"
     ]
    },
    {
     "data": {
      "text/plain": [
       "<tensorflow.python.keras.callbacks.History at 0x7f616f607cd0>"
      ]
     },
     "execution_count": 7,
     "metadata": {},
     "output_type": "execute_result"
    }
   ],
   "source": [
    "from tensorflow.keras.utils import to_categorical\n",
    "\n",
    "model.fit(\n",
    "  train_images,\n",
    "  to_categorical(train_labels),\n",
    "  epochs=3,\n",
    "  validation_data=(test_images, to_categorical(test_labels)),\n",
    ")"
   ]
  },
  {
   "cell_type": "code",
   "execution_count": 8,
   "metadata": {
    "execution": {
     "iopub.execute_input": "2020-09-09T14:15:17.778470Z",
     "iopub.status.busy": "2020-09-09T14:15:17.777367Z",
     "iopub.status.idle": "2020-09-09T14:15:17.789600Z",
     "shell.execute_reply": "2020-09-09T14:15:17.788900Z"
    },
    "papermill": {
     "duration": 0.073322,
     "end_time": "2020-09-09T14:15:17.789726",
     "exception": false,
     "start_time": "2020-09-09T14:15:17.716404",
     "status": "completed"
    },
    "tags": []
   },
   "outputs": [],
   "source": [
    "model.save_weights('cnn.h5')"
   ]
  },
  {
   "cell_type": "code",
   "execution_count": 9,
   "metadata": {
    "execution": {
     "iopub.execute_input": "2020-09-09T14:15:17.908305Z",
     "iopub.status.busy": "2020-09-09T14:15:17.902492Z",
     "iopub.status.idle": "2020-09-09T14:15:17.937399Z",
     "shell.execute_reply": "2020-09-09T14:15:17.936586Z"
    },
    "papermill": {
     "duration": 0.096245,
     "end_time": "2020-09-09T14:15:17.937560",
     "exception": false,
     "start_time": "2020-09-09T14:15:17.841315",
     "status": "completed"
    },
    "tags": []
   },
   "outputs": [],
   "source": [
    "from tensorflow.keras.models import Sequential\n",
    "from tensorflow.keras.layers import Conv2D, MaxPooling2D, Dense, Flatten\n",
    "\n",
    "num_filters = 8\n",
    "filter_size = 3\n",
    "pool_size = 2\n",
    "\n",
    "# Build the model.\n",
    "model = Sequential([\n",
    "  Conv2D(num_filters, filter_size, input_shape=(28, 28, 1)),\n",
    "  MaxPooling2D(pool_size=pool_size),\n",
    "  Flatten(),\n",
    "  Dense(10, activation='softmax'),\n",
    "])\n",
    "\n",
    "# Load the model's saved weights.\n",
    "model.load_weights('cnn.h5')"
   ]
  },
  {
   "cell_type": "code",
   "execution_count": 10,
   "metadata": {
    "execution": {
     "iopub.execute_input": "2020-09-09T14:15:18.050305Z",
     "iopub.status.busy": "2020-09-09T14:15:18.049510Z",
     "iopub.status.idle": "2020-09-09T14:15:18.170343Z",
     "shell.execute_reply": "2020-09-09T14:15:18.169515Z"
    },
    "papermill": {
     "duration": 0.180717,
     "end_time": "2020-09-09T14:15:18.170481",
     "exception": false,
     "start_time": "2020-09-09T14:15:17.989764",
     "status": "completed"
    },
    "tags": []
   },
   "outputs": [
    {
     "name": "stdout",
     "output_type": "stream",
     "text": [
      "[7 2 1 0 4]\n",
      "[7 2 1 0 4]\n"
     ]
    }
   ],
   "source": [
    "# Predict on the first 5 test images.\n",
    "predictions = model.predict(test_images[:5])\n",
    "\n",
    "# Print our model's predictions.\n",
    "print(np.argmax(predictions, axis=1)) # [7, 2, 1, 0, 4]\n",
    "\n",
    "# Check our predictions against the ground truths.\n",
    "print(test_labels[:5]) # [7, 2, 1, 0, 4]"
   ]
  },
  {
   "cell_type": "markdown",
   "execution_count": null,
   "metadata": {
    "papermill": {
     "duration": 0.051442,
     "end_time": "2020-09-09T14:15:18.273868",
     "exception": false,
     "start_time": "2020-09-09T14:15:18.222426",
     "status": "completed"
    },
    "tags": []
   },
   "source": [
    "Another code "
   ]
  },
  {
   "cell_type": "code",
   "execution_count": 11,
   "metadata": {
    "execution": {
     "iopub.execute_input": "2020-09-09T14:15:18.387535Z",
     "iopub.status.busy": "2020-09-09T14:15:18.386696Z",
     "iopub.status.idle": "2020-09-09T14:15:18.473388Z",
     "shell.execute_reply": "2020-09-09T14:15:18.472552Z"
    },
    "papermill": {
     "duration": 0.148014,
     "end_time": "2020-09-09T14:15:18.473522",
     "exception": false,
     "start_time": "2020-09-09T14:15:18.325508",
     "status": "completed"
    },
    "tags": []
   },
   "outputs": [],
   "source": [
    "import numpy as np\n",
    "from matplotlib import pyplot as plt\n",
    "\n",
    "from keras import backend as K\n",
    "# from keras.models import Sequential\n",
    "from keras.layers import Input, Dense, Dropout, Activation, ZeroPadding2D\n",
    "from keras.layers import Flatten, Conv2D, MaxPooling2D, BatchNormalization\n",
    "from keras.models import Model, load_model, model_from_json, model_from_yaml\n",
    "from keras.utils import to_categorical\n",
    "\n",
    "batch_sz = 128\n",
    "n_classes = 10\n",
    "n_epoch = 12\n",
    "shapeX = (28,28,1)\n",
    "classes = np.asarray([0,1,2,3,4,5,6,7,8,9],dtype = np.float32)"
   ]
  },
  {
   "cell_type": "code",
   "execution_count": 12,
   "metadata": {
    "execution": {
     "iopub.execute_input": "2020-09-09T14:15:18.599020Z",
     "iopub.status.busy": "2020-09-09T14:15:18.597870Z",
     "iopub.status.idle": "2020-09-09T14:15:18.601796Z",
     "shell.execute_reply": "2020-09-09T14:15:18.600978Z"
    },
    "papermill": {
     "duration": 0.076023,
     "end_time": "2020-09-09T14:15:18.601930",
     "exception": false,
     "start_time": "2020-09-09T14:15:18.525907",
     "status": "completed"
    },
    "tags": []
   },
   "outputs": [],
   "source": [
    "def MNIST_Model(input_shape = (28,28,1),classes = 10):\n",
    "\tX_input = Input(input_shape)\n",
    "\n",
    "\t# zero padding probably not required since the main digit is in the centre only\n",
    "\t# X = zeroPadding2D((1,1))(X_input)\n",
    "\n",
    "\tX = Conv2D(32,(3,3),strides = (1,1), name = 'conv0')(X_input)\n",
    "\tX = BatchNormalization(axis=3,name='bn0')(X)\n",
    "\tX = Activation('relu')(X)\n",
    "\tX = Conv2D(32,(3,3),strides = (1,1), name = 'conv1')(X)\n",
    "\tX = BatchNormalization(axis=3,name='bn1')(X)\n",
    "\tX = Activation('relu')(X)\n",
    "\tX = MaxPooling2D((2,2),strides = (2,2),name = 'MP1')(X)\n",
    "\n",
    "\tX = Conv2D(64,(3,3),strides = (1,1), name = 'conv2')(X)\n",
    "\tX = BatchNormalization(axis=3,name='bn2')(X)\n",
    "\tX = Activation('relu')(X)\n",
    "\tX = Conv2D(64,(3,3),strides = (1,1), name = 'conv3')(X)\n",
    "\tX = BatchNormalization(axis=3,name='bn3')(X)\n",
    "\tX = Activation('relu')(X)\n",
    "\tX = MaxPooling2D((2,2),strides = (2,2),name = 'MP2')(X)\n",
    "\t\n",
    "\tX = Dropout(0.2)(X)\n",
    "\tX = Flatten()(X)\n",
    "\tX = Dense(256,activation = 'relu',name= 'fc1')(X)\n",
    "\tX = Dropout(0.4)(X)\n",
    "\tX = Dense(n_classes,activation = 'softmax',name = 'fco')(X)\n",
    "\n",
    "\tmodel = Model(inputs = X_input,outputs = X, name = 'MNIST_Model')\n",
    "\treturn model\n"
   ]
  },
  {
   "cell_type": "code",
   "execution_count": 13,
   "metadata": {
    "execution": {
     "iopub.execute_input": "2020-09-09T14:15:18.720565Z",
     "iopub.status.busy": "2020-09-09T14:15:18.719748Z",
     "iopub.status.idle": "2020-09-09T14:32:28.194378Z",
     "shell.execute_reply": "2020-09-09T14:32:28.193536Z"
    },
    "papermill": {
     "duration": 1029.540045,
     "end_time": "2020-09-09T14:32:28.194563",
     "exception": false,
     "start_time": "2020-09-09T14:15:18.654518",
     "status": "completed"
    },
    "tags": []
   },
   "outputs": [
    {
     "name": "stdout",
     "output_type": "stream",
     "text": [
      "Model: \"MNIST_Model\"\n",
      "_________________________________________________________________\n",
      "Layer (type)                 Output Shape              Param #   \n",
      "=================================================================\n",
      "input_1 (InputLayer)         [(None, 28, 28, 1)]       0         \n",
      "_________________________________________________________________\n",
      "conv0 (Conv2D)               (None, 26, 26, 32)        320       \n",
      "_________________________________________________________________\n",
      "bn0 (BatchNormalization)     (None, 26, 26, 32)        128       \n",
      "_________________________________________________________________\n",
      "activation (Activation)      (None, 26, 26, 32)        0         \n",
      "_________________________________________________________________\n",
      "conv1 (Conv2D)               (None, 24, 24, 32)        9248      \n",
      "_________________________________________________________________\n",
      "bn1 (BatchNormalization)     (None, 24, 24, 32)        128       \n",
      "_________________________________________________________________\n",
      "activation_1 (Activation)    (None, 24, 24, 32)        0         \n",
      "_________________________________________________________________\n",
      "MP1 (MaxPooling2D)           (None, 12, 12, 32)        0         \n",
      "_________________________________________________________________\n",
      "conv2 (Conv2D)               (None, 10, 10, 64)        18496     \n",
      "_________________________________________________________________\n",
      "bn2 (BatchNormalization)     (None, 10, 10, 64)        256       \n",
      "_________________________________________________________________\n",
      "activation_2 (Activation)    (None, 10, 10, 64)        0         \n",
      "_________________________________________________________________\n",
      "conv3 (Conv2D)               (None, 8, 8, 64)          36928     \n",
      "_________________________________________________________________\n",
      "bn3 (BatchNormalization)     (None, 8, 8, 64)          256       \n",
      "_________________________________________________________________\n",
      "activation_3 (Activation)    (None, 8, 8, 64)          0         \n",
      "_________________________________________________________________\n",
      "MP2 (MaxPooling2D)           (None, 4, 4, 64)          0         \n",
      "_________________________________________________________________\n",
      "dropout (Dropout)            (None, 4, 4, 64)          0         \n",
      "_________________________________________________________________\n",
      "flatten_2 (Flatten)          (None, 1024)              0         \n",
      "_________________________________________________________________\n",
      "fc1 (Dense)                  (None, 256)               262400    \n",
      "_________________________________________________________________\n",
      "dropout_1 (Dropout)          (None, 256)               0         \n",
      "_________________________________________________________________\n",
      "fco (Dense)                  (None, 10)                2570      \n",
      "=================================================================\n",
      "Total params: 330,730\n",
      "Trainable params: 330,346\n",
      "Non-trainable params: 384\n",
      "_________________________________________________________________\n",
      "None\n",
      "Epoch 1/12\n",
      "469/469 [==============================] - 86s 183ms/step - loss: 0.1781 - accuracy: 0.9447\n",
      "Epoch 2/12\n",
      "469/469 [==============================] - 84s 180ms/step - loss: 0.0584 - accuracy: 0.9821\n",
      "Epoch 3/12\n",
      "469/469 [==============================] - 84s 178ms/step - loss: 0.0450 - accuracy: 0.9865\n",
      "Epoch 4/12\n",
      "469/469 [==============================] - 84s 179ms/step - loss: 0.0358 - accuracy: 0.9891\n",
      "Epoch 5/12\n",
      "469/469 [==============================] - 85s 181ms/step - loss: 0.0334 - accuracy: 0.9897\n",
      "Epoch 6/12\n",
      "469/469 [==============================] - 85s 181ms/step - loss: 0.0296 - accuracy: 0.9909\n",
      "Epoch 7/12\n",
      "469/469 [==============================] - 88s 187ms/step - loss: 0.0275 - accuracy: 0.9916\n",
      "Epoch 8/12\n",
      "469/469 [==============================] - 86s 183ms/step - loss: 0.0247 - accuracy: 0.9925\n",
      "Epoch 9/12\n",
      "469/469 [==============================] - 85s 181ms/step - loss: 0.0215 - accuracy: 0.9937\n",
      "Epoch 10/12\n",
      "469/469 [==============================] - 86s 184ms/step - loss: 0.0199 - accuracy: 0.9935\n",
      "Epoch 11/12\n",
      "469/469 [==============================] - 85s 180ms/step - loss: 0.0205 - accuracy: 0.9934\n",
      "Epoch 12/12\n",
      "469/469 [==============================] - 85s 182ms/step - loss: 0.0162 - accuracy: 0.9948\n",
      "313/313 [==============================] - 4s 13ms/step - loss: 0.0231 - accuracy: 0.9931\n"
     ]
    }
   ],
   "source": [
    "\n",
    "modelMNIST = MNIST_Model(shapeX,n_classes)\n",
    "print (modelMNIST.summary())\n",
    "\n",
    "modelMNIST.compile(optimizer = 'adam', loss = 'categorical_crossentropy', metrics=['accuracy'])\n",
    "\n",
    "modelMNIST.fit(train_images, to_categorical(train_labels), epochs = n_epoch, batch_size = batch_sz)\n",
    "\n",
    "pred = modelMNIST.evaluate(test_images,to_categorical(test_labels))\n",
    "\n",
    "\n"
   ]
  },
  {
   "cell_type": "code",
   "execution_count": 14,
   "metadata": {
    "execution": {
     "iopub.execute_input": "2020-09-09T14:32:29.125868Z",
     "iopub.status.busy": "2020-09-09T14:32:29.124886Z",
     "iopub.status.idle": "2020-09-09T14:32:29.129055Z",
     "shell.execute_reply": "2020-09-09T14:32:29.128452Z"
    },
    "papermill": {
     "duration": 0.445651,
     "end_time": "2020-09-09T14:32:29.129197",
     "exception": false,
     "start_time": "2020-09-09T14:32:28.683546",
     "status": "completed"
    },
    "tags": []
   },
   "outputs": [
    {
     "name": "stdout",
     "output_type": "stream",
     "text": [
      "Loss = 0.023071179166436195\n",
      "Test Accuracy = 0.9930999875068665\n"
     ]
    }
   ],
   "source": [
    "print (\"Loss = \" + str(pred[0]))\n",
    "print (\"Test Accuracy = \" + str(pred[1]))"
   ]
  },
  {
   "cell_type": "code",
   "execution_count": 15,
   "metadata": {
    "execution": {
     "iopub.execute_input": "2020-09-09T14:32:30.051776Z",
     "iopub.status.busy": "2020-09-09T14:32:30.050871Z",
     "iopub.status.idle": "2020-09-09T14:32:30.080591Z",
     "shell.execute_reply": "2020-09-09T14:32:30.079716Z"
    },
    "papermill": {
     "duration": 0.521779,
     "end_time": "2020-09-09T14:32:30.080726",
     "exception": false,
     "start_time": "2020-09-09T14:32:29.558947",
     "status": "completed"
    },
    "tags": []
   },
   "outputs": [],
   "source": [
    "\n",
    "modelMNIST.save_weights('cnn_1.h5')\n"
   ]
  },
  {
   "cell_type": "code",
   "execution_count": 16,
   "metadata": {
    "execution": {
     "iopub.execute_input": "2020-09-09T14:32:30.939865Z",
     "iopub.status.busy": "2020-09-09T14:32:30.939114Z",
     "iopub.status.idle": "2020-09-09T14:32:31.085724Z",
     "shell.execute_reply": "2020-09-09T14:32:31.084611Z"
    },
    "papermill": {
     "duration": 0.582487,
     "end_time": "2020-09-09T14:32:31.085879",
     "exception": false,
     "start_time": "2020-09-09T14:32:30.503392",
     "status": "completed"
    },
    "tags": []
   },
   "outputs": [
    {
     "name": "stdout",
     "output_type": "stream",
     "text": [
      "[7 2 1 0 4]\n",
      "[7 2 1 0 4]\n"
     ]
    }
   ],
   "source": [
    "# Predict on the first 5 test images.\n",
    "predictions = modelMNIST.predict(test_images[:5])\n",
    "\n",
    "# Print our model's predictions.\n",
    "print(np.argmax(predictions, axis=1)) # [7, 2, 1, 0, 4]\n",
    "\n",
    "# Check our predictions against the ground truths.\n",
    "print(test_labels[:5]) # [7, 2, 1, 0, 4]"
   ]
  },
  {
   "cell_type": "code",
   "execution_count": 17,
   "metadata": {
    "execution": {
     "iopub.execute_input": "2020-09-09T14:32:32.015449Z",
     "iopub.status.busy": "2020-09-09T14:32:32.014285Z",
     "iopub.status.idle": "2020-09-09T14:32:32.070651Z",
     "shell.execute_reply": "2020-09-09T14:32:32.071484Z"
    },
    "papermill": {
     "duration": 0.552052,
     "end_time": "2020-09-09T14:32:32.071657",
     "exception": false,
     "start_time": "2020-09-09T14:32:31.519605",
     "status": "completed"
    },
    "tags": []
   },
   "outputs": [
    {
     "name": "stdout",
     "output_type": "stream",
     "text": [
      "[7 2 1 0 4 1 4]\n",
      "[7 2 1 0 4 1 4]\n"
     ]
    }
   ],
   "source": [
    "# Predict on the first 5 test images.\n",
    "predictions = modelMNIST.predict(test_images[:7])\n",
    "\n",
    "# Print our model's predictions.\n",
    "print(np.argmax(predictions, axis=1)) # [7 2 1 0 4 1 4]\n",
    "\n",
    "# Check our predictions against the ground truths.\n",
    "print(test_labels[:7]) # [7 2 1 0 4 1 4]"
   ]
  }
 ],
 "metadata": {
  "kernelspec": {
   "display_name": "Python 3",
   "language": "python",
   "name": "python3"
  },
  "language_info": {
   "codemirror_mode": {
    "name": "ipython",
    "version": 3
   },
   "file_extension": ".py",
   "mimetype": "text/x-python",
   "name": "python",
   "nbconvert_exporter": "python",
   "pygments_lexer": "ipython3",
   "version": "3.7.6"
  },
  "papermill": {
   "duration": 1106.706594,
   "end_time": "2020-09-09T14:32:32.611119",
   "environment_variables": {},
   "exception": null,
   "input_path": "__notebook__.ipynb",
   "output_path": "__notebook__.ipynb",
   "parameters": {},
   "start_time": "2020-09-09T14:14:05.904525",
   "version": "2.1.0"
  }
 },
 "nbformat": 4,
 "nbformat_minor": 4
}
